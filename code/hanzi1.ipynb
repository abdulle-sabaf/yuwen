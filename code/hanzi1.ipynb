{
 "cells": [
  {
   "cell_type": "code",
   "execution_count": 1,
   "metadata": {},
   "outputs": [],
   "source": [
    "import os"
   ]
  },
  {
   "cell_type": "code",
   "execution_count": 3,
   "metadata": {},
   "outputs": [],
   "source": [
    "path = \"../src/common2500.txt\"\n",
    "\n",
    "with open(path, 'r', encoding=\"utf-8\") as f:\n",
    "    lines = f.readlines()"
   ]
  },
  {
   "cell_type": "code",
   "execution_count": 7,
   "metadata": {},
   "outputs": [],
   "source": [
    "commonzi = []\n",
    "for line in lines:\n",
    "    commonzi.append(tuple(zi for zi in line[:-1]))"
   ]
  },
  {
   "cell_type": "code",
   "execution_count": 18,
   "metadata": {},
   "outputs": [
    {
     "data": {
      "text/plain": [
       "('罐',)"
      ]
     },
     "execution_count": 18,
     "metadata": {},
     "output_type": "execute_result"
    }
   ],
   "source": [
    "# [len(a) for a in commonzi]\n",
    "commonzi[-1]"
   ]
  },
  {
   "cell_type": "code",
   "execution_count": 19,
   "metadata": {},
   "outputs": [],
   "source": [
    "path = \"../src/lesser1000.txt\"\n",
    "\n",
    "with open(path, 'r', encoding=\"utf-8\") as f:\n",
    "    lines = f.readlines()"
   ]
  },
  {
   "cell_type": "code",
   "execution_count": 22,
   "metadata": {},
   "outputs": [],
   "source": [
    "lescomzi = []\n",
    "for line in lines:\n",
    "    lescomzi.append(tuple(zi for zi in line[:-1]))"
   ]
  },
  {
   "cell_type": "code",
   "execution_count": 35,
   "metadata": {},
   "outputs": [
    {
     "data": {
      "text/plain": [
       "21"
      ]
     },
     "execution_count": 35,
     "metadata": {},
     "output_type": "execute_result"
    }
   ],
   "source": [
    "bis = (2, 4, 5, 6, 7, 8, 9, 10, 11, 12, 13, 14, 15, 16, 17, 18, 19, 20, 21, 22, 24)\n",
    "len(bis)"
   ]
  },
  {
   "cell_type": "code",
   "execution_count": 36,
   "metadata": {},
   "outputs": [],
   "source": [
    "bihua = {}\n",
    "for i, zis in enumerate(commonzi):\n",
    "    for zi in zis:\n",
    "        bihua[zi] = i + 1\n",
    "bis = (2, 4, 5, 6, 7, 8, 9, 10, 11, 12, 13, 14, 15, 16, 17, 18, 19, 20, 21, 22, 24)\n",
    "for i, zis in enumerate(lescomzi):\n",
    "    for zi in zis:\n",
    "        bihua[zi] = bis[i]"
   ]
  },
  {
   "cell_type": "code",
   "execution_count": 37,
   "metadata": {},
   "outputs": [],
   "source": [
    "from outils import dump_cn_json\n",
    "\n",
    "dump_cn_json(\"bihua.json\", bihua)\n",
    "dump_cn_json(\"commonzi.json\", [commonzi, lescomzi])"
   ]
  },
  {
   "cell_type": "code",
   "execution_count": 64,
   "metadata": {},
   "outputs": [],
   "source": [
    "path = \"../src/common1000.txt\"\n",
    "\n",
    "with open(path, 'r', encoding=\"utf-8\") as f:\n",
    "    lines = f.readlines()"
   ]
  },
  {
   "cell_type": "code",
   "execution_count": 66,
   "metadata": {},
   "outputs": [
    {
     "data": {
      "text/plain": [
       "1000"
      ]
     },
     "execution_count": 66,
     "metadata": {},
     "output_type": "execute_result"
    }
   ],
   "source": [
    "common1 = []\n",
    "for line in lines:\n",
    "    common1.extend(line.strip(\"\\n\"))\n",
    "\n",
    "len(common1)"
   ]
  },
  {
   "cell_type": "code",
   "execution_count": 7,
   "metadata": {},
   "outputs": [
    {
     "name": "stdout",
     "output_type": "stream",
     "text": [
      "('的', '一', '是', '在', '不', '了', '有', '和', '人', '这', '\\n', '中', '大', '为', '上', '个', '国', '我', '以', '要', '他', '\\n', '时', '来', '用', '们', '生', '到', '作', '地', '于', '出', '\\n', '就', '分', '对', '成', '会', '可', '主', '发', '年', '动', '\\n', '同', '工', '也', '能', '下', '过', '子', '说', '产', '种', '\\n', '面', '而', '方', '后', '多', '定', '行', '学', '法', '所', '\\n', '民', '得', '经', '十', '三', '之', '进', '着', '等', '部', '\\n', '度', '家', '电', '力', '里', '如', '水', '化', '高', '自', '\\n', '二', '理', '起', '小', '物', '现', '实', '加', '量', '都', '\\n', '两', '体', '制', '机', '当', '使', '点', '史', '雨', '婷', '\\n', '\\n')\n"
     ]
    }
   ],
   "source": [
    "common1 = []\n",
    "s = \"\"\n",
    "for line in lines:\n",
    "    s += line\n",
    "    if len(line) < 2:\n",
    "        common1.append(tuple(s))\n",
    "        s = \"\"\n",
    "\n",
    "print(common1[0])"
   ]
  },
  {
   "cell_type": "code",
   "execution_count": 67,
   "metadata": {},
   "outputs": [],
   "source": [
    "from outils import dump_cn_json\n",
    "\n",
    "dump_cn_json(\"common1000.json\", common1)"
   ]
  },
  {
   "cell_type": "code",
   "execution_count": 16,
   "metadata": {},
   "outputs": [],
   "source": [
    "path = \"../src/草稿.txt\"\n",
    "\n",
    "with open(path, 'r', encoding=\"utf-8\") as f:\n",
    "    lines = f.readlines()"
   ]
  },
  {
   "cell_type": "code",
   "execution_count": 15,
   "metadata": {},
   "outputs": [
    {
     "name": "stdout",
     "output_type": "stream",
     "text": [
      "['的', '一', '是', '了', '我', '不', '人', '在', '他', '有', '这', '个', '上', '们', '来', '到', '时', '大', '地', '为', '子', '中', '你', '说', '生', '国', '年', '着', '就', '那', '和', '要', '她', '出', '也', '得', '里', '后', '自', '以', '会', '家', '可', '下', '而', '过', '天', '去', '能', '对', '小', '多', '然', '于', '心', '学', '么', '之', '都', '好', '看', '起', '发', '当', '没', '成', '只', '如', '事', '把', '还', '用', '第', '样', '道', '想', '作', '种', '开', '美', '总', '从', '无', '情', '己', '面', '最', '女', '但', '现', '前', '些', '所', '同', '日', '手', '又', '行', '意', '动', '方', '期', '它', '头', '经', '长', '儿', '回', ' ', '位', '分', '爱', ' ', '老', '因', '很', '给', '名', '法', ' ', '间', ' ', '斯', '知', '世', '什', '两', '次', '使', '身', '者', '被', '高', '已', '亲', '其', '进', '此', '话', '常', '与', '活', '正', '感']\n"
     ]
    }
   ],
   "source": [
    "common1 = []\n",
    "for line in lines:\n",
    "    for z in line.strip(\"\\n\").strip(\" \"):\n",
    "        if z not in tuple(\"0123456789\"):\n",
    "            common1.append(z)\n",
    "\n",
    "print(common1)"
   ]
  },
  {
   "cell_type": "code",
   "execution_count": 24,
   "metadata": {},
   "outputs": [
    {
     "data": {
      "text/plain": [
       "140"
      ]
     },
     "execution_count": 24,
     "metadata": {},
     "output_type": "execute_result"
    }
   ],
   "source": [
    "common1a = []\n",
    "for z in common1:\n",
    "    if z == ' ':\n",
    "        continue\n",
    "    common1a.append(z)\n",
    "\n",
    "len(common1a)"
   ]
  },
  {
   "cell_type": "code",
   "execution_count": 25,
   "metadata": {},
   "outputs": [
    {
     "name": "stdout",
     "output_type": "stream",
     "text": [
      "5\n",
      "12\n",
      "24\n",
      "38\n",
      "61\n"
     ]
    }
   ],
   "source": [
    "common1 = []\n",
    "common1.append(tuple(common1a[:5]))\n",
    "common1.append(tuple(common1a[5:17]))\n",
    "common1.append(tuple(common1a[17:41]))\n",
    "common1.append(tuple(common1a[41:79]))\n",
    "common1.append(tuple(common1a[79:]))\n",
    "for level in common1:\n",
    "    print(len(level))"
   ]
  },
  {
   "cell_type": "code",
   "execution_count": 26,
   "metadata": {},
   "outputs": [
    {
     "name": "stdout",
     "output_type": "stream",
     "text": [
      "('的', '一', '是', '了', '我')\n",
      "('不', '人', '在', '他', '有', '这', '个', '上', '们', '来', '到', '时')\n",
      "('大', '地', '为', '子', '中', '你', '说', '生', '国', '年', '着', '就', '那', '和', '要', '她', '出', '也', '得', '里', '后', '自', '以', '会')\n",
      "('家', '可', '下', '而', '过', '天', '去', '能', '对', '小', '多', '然', '于', '心', '学', '么', '之', '都', '好', '看', '起', '发', '当', '没', '成', '只', '如', '事', '把', '还', '用', '第', '样', '道', '想', '作', '种', '开')\n",
      "('美', '总', '从', '无', '情', '己', '面', '最', '女', '但', '现', '前', '些', '所', '同', '日', '手', '又', '行', '意', '动', '方', '期', '它', '头', '经', '长', '儿', '回', '位', '分', '爱', '老', '因', '很', '给', '名', '法', '间', '斯', '知', '世', '什', '两', '次', '使', '身', '者', '被', '高', '已', '亲', '其', '进', '此', '话', '常', '与', '活', '正', '感')\n"
     ]
    }
   ],
   "source": [
    "commons = []\n",
    "for level in common1:\n",
    "    commons.append(level)\n",
    "\n",
    "for level in commons:\n",
    "    print(level)"
   ]
  },
  {
   "cell_type": "code",
   "execution_count": 19,
   "metadata": {},
   "outputs": [
    {
     "data": {
      "text/plain": [
       "True"
      ]
     },
     "execution_count": 19,
     "metadata": {},
     "output_type": "execute_result"
    }
   ],
   "source": [
    "'或' in common2"
   ]
  },
  {
   "cell_type": "code",
   "execution_count": 17,
   "metadata": {},
   "outputs": [
    {
     "name": "stdout",
     "output_type": "stream",
     "text": [
      "['见', '明', '问', '力', '理', '尔', '点', '文', '几', '定', '本', '公', '特', '做', '外', '孩', '相', '西', '果', '走', '将', '月', '十', '实', '向', '声', '车', '全', '信', '重', '三', '机', '工', '物', '气', '每', '并', '别', '真', '打', '太', '新', '比', '才', '便', '夫', '再', '书', '部', '水', '像', '眼', '等', '体', '却', '加', '电', '主', '界', '门', '利', '海', '受', '听', '表', '德', '少', '克', '代', '员', '许', '稜', '先', '口', '由', '死', '安', '写', '性', '马', '光', '白', '或', '住', '难', '望', '教', '命', '花', '结', '乐', '色']\n"
     ]
    }
   ],
   "source": [
    "common2 = []\n",
    "for line in lines:\n",
    "    for z in line.strip(\"\\n\").strip(\" \"):\n",
    "        if z not in tuple(\"0123456789\"):\n",
    "            common2.append(z)\n",
    "\n",
    "print(common2)"
   ]
  },
  {
   "cell_type": "code",
   "execution_count": 28,
   "metadata": {},
   "outputs": [],
   "source": [
    "commons.append(tuple(common2))"
   ]
  },
  {
   "cell_type": "code",
   "execution_count": 47,
   "metadata": {},
   "outputs": [
    {
     "name": "stdout",
     "output_type": "stream",
     "text": [
      "['义', '竟', '确', '酒', '需', '单', '治', '卡', '幸', '兰', '念', '举', '仅', '钟', '怕', '共', '毛', '句', '息', '功', '官', '待', '究', '跟', '穿', '室', '易', '游', '程', '号', '居', '考', '突', '皮', '哪', '费', '倒', '价', '图', '具', '刚', '脑', '永', '歌', '响', '商', '礼', '细', '专', '黄', '块', '脚', '味', '灵', '改', '据', '般', '破', '引', '食', '仍', '存', '众', '注', '笔', '甚', '某', '沉', '血', '备', '习', '校', '默', '务', '土', '微', '娘', '须', '试', '怀', '料', '调', '广', '蜖', '苏', '显', '赛', '查', '密', '议', '底', '列', '富', '梦', '错', '座', '参', '八', '除', '跑', '亮', '假', '印', '设', '线', '温', '虽', '掉', '京', '初', '养', '香', '停', '际', '致', '阳', '纸', '李', '纳', '验', '助', '激', '够', '严', '证', '帝', '饭', '忘', '趣', '支', '春', '集', '丈', '木', '研', '班', '普', '导', '顿', '睡', '展', '跳', '获', '艺', '六', '波', '察', '群', '皇', '段', '急', '庭', '创', '区', '奥', '器', '谢', '弟', '店', '否', '害', '草', '排', '背', '止', '组', '州', '朝', '封', '睛', '板', '角', '况', '曲', '馆', '育', '忙', '质', '河', '续', '哥', '呼', '若', '推', '境', '遇', '雨', '标', '姐', '充', '围', '案', '伦', '护', '冷', '警', '贝', '著', '雪', '索', '剧', '啊', '船', '险', '烟', '依', '斗', '值', '帮', '汉', '慢', '佛', '肯', '闻', '唱', '沙', '局', '伯', '族', '低', '玩', '资', '屋', '击', '速', '顾', '泪', '洲', '团', '圣', '旁', '堂', '兵', '七', '露', '园', '牛', '哭', '旅', '街', '劳', '型', '烈', '姑', '陈', '莫', '鱼', '异', '抱', '宝', '权', '鲁', '简', '态', '级', '票', '怪', '寻', '杀', '律', '胜', '份', '汽', '右', '洋', '范', '床', '舞', '秘', '午', '登', '楼', '贵', '吸', '责', '例', '追', '较', '职', '属', '渐', '左', '录', '丝', '牙', '党', '继', '托', '赶', '章', '智', '冲', '叶', '胡', '吉', '卖', '坚', '喝', '肉', '遗', '救', '修', '松', '临', '藏', '担', '戏', '善', '卫', '药', '悲', '敢', '靠', '伊', '村', '戴', '词', '森', '耳', '差', '短', '祖', '云', '规', '窗', '散', '迷', '油', '旧', '适', '乡', '架', '恩', '投', '弹', '铁', '博', '雷', '府', '压', '超', '负', '勒', '杂', '醒', '洗', '采', '毫', '嘴', '毕', '九', '冰', '既', '状', '乱', '景', '席', '珍', '童', '顶', '派', '素', '脱', '农', '疑', '练', '野', '按', '犯', '拍', '征', '坏', '骨', '余', '承', '置', '臓', '彩', '灯', '巨', '琴', '免', '环', '姆', '暗', '换', '技', '翻', '束', '增', '忍', '餐', '洛', '塞', '缺', '忆', '判', '欧', '层', '付', '阵', '玛', '批', '岛', '项', '狗', '休', '懂', '武', '革', '良', '恶', '恋', '委', '拥', '娜', '妙', '探', '呀', '营', '退', '摇', '弄', '桌', '熟', '诺', '宣', '银', '势', '奖', '宫', '忽', '套', '康', '供', '优', '课', '鸟', '喊', '降', '夏', '困', '刘', '罪', '亡', '鞋', '健', '模', '败', '伴', '守', '挥', '鲜', '财', '孤', '枪', '禁', '恐', '伙', '杰', '迹', '妹', '藸', '遍', '盖', '副', '坦', '牌', '江', '顺', '秋', '萨', '菜', '划', '授', '归', '浪', '听', '凡', '预', '奶', '雄', '升', '碃', '编', '典', '袋', '莱', '含', '盛', '济', '蒙', '棋', '端', '腿', '招', '释', '介', '烧', '误']\n"
     ]
    }
   ],
   "source": [
    "path = \"../src/草稿.txt\"\n",
    "\n",
    "with open(path, 'r', encoding=\"utf-8\") as f:\n",
    "    lines = f.readlines()\n",
    "\n",
    "common = []\n",
    "for line in lines:\n",
    "    for z in line.strip(\"\\n\").strip(\" \"):\n",
    "        if z not in tuple(\"0123456789\"):\n",
    "            common.append(z)\n",
    "\n",
    "print(common)\n",
    "commons.append(common)"
   ]
  },
  {
   "cell_type": "code",
   "execution_count": 48,
   "metadata": {},
   "outputs": [
    {
     "data": {
      "text/plain": [
       "1000"
      ]
     },
     "execution_count": 48,
     "metadata": {},
     "output_type": "execute_result"
    }
   ],
   "source": [
    "i = 0\n",
    "for c in commons:\n",
    "    i += len(c)\n",
    "\n",
    "i"
   ]
  },
  {
   "cell_type": "code",
   "execution_count": 34,
   "metadata": {},
   "outputs": [],
   "source": [
    "from outils import load_cn_json\n",
    "\n",
    "bihua = load_cn_json(\"bihua.json\")"
   ]
  },
  {
   "cell_type": "code",
   "execution_count": 79,
   "metadata": {},
   "outputs": [],
   "source": [
    "commons[8][462] = \"竖\""
   ]
  },
  {
   "cell_type": "code",
   "execution_count": 50,
   "metadata": {},
   "outputs": [
    {
     "name": "stdout",
     "output_type": "stream",
     "text": [
      "8 83 蜖\n",
      "8 376 臓\n",
      "8 462 藸\n",
      "8 483 碃\n"
     ]
    }
   ],
   "source": [
    "i = 0\n",
    "for c in commons:\n",
    "    j = 0\n",
    "    for z in c:\n",
    "        if z not in bihua:\n",
    "            print(i, j, z)\n",
    "        j += 1\n",
    "    i += 1"
   ]
  },
  {
   "cell_type": "code",
   "execution_count": 69,
   "metadata": {},
   "outputs": [],
   "source": [
    "common1000 = load_cn_json(\"common1000.json\")"
   ]
  },
  {
   "cell_type": "code",
   "execution_count": 75,
   "metadata": {},
   "outputs": [],
   "source": [
    "commons.append(commons[-1][130:])"
   ]
  },
  {
   "cell_type": "code",
   "execution_count": 77,
   "metadata": {},
   "outputs": [
    {
     "data": {
      "text/plain": [
       "'春'"
      ]
     },
     "execution_count": 77,
     "metadata": {},
     "output_type": "execute_result"
    }
   ],
   "source": [
    "commons[-1][0]"
   ]
  },
  {
   "cell_type": "code",
   "execution_count": 72,
   "metadata": {},
   "outputs": [
    {
     "name": "stdout",
     "output_type": "stream",
     "text": [
      "5 50 像\n",
      "6 39 男\n",
      "7 0 奇\n",
      "7 4 朋\n",
      "7 6 婚\n",
      "7 21 爸\n",
      "7 56 炸\n",
      "7 59 您\n",
      "7 64 妻\n",
      "7 70 丽\n",
      "7 85 惊\n",
      "7 106 妇\n",
      "7 116 痛\n",
      "8 1 竟\n",
      "8 7 卡\n",
      "8 8 幸\n",
      "8 41 脑\n",
      "8 46 礼\n",
      "8 53 灵\n",
      "8 72 默\n",
      "8 83 挺\n",
      "8 86 赛\n",
      "8 93 梦\n",
      "8 118 纳\n",
      "8 127 忘\n",
      "8 128 趣\n",
      "8 132 丈\n",
      "8 138 顿\n",
      "8 139 睡\n",
      "8 151 庭\n",
      "8 154 奥\n",
      "8 156 谢\n",
      "8 157 弟\n",
      "8 158 店\n",
      "8 169 睛\n",
      "8 174 馆\n",
      "8 176 忙\n",
      "8 185 遇\n",
      "8 188 姐\n",
      "8 192 伦\n",
      "8 195 警\n",
      "8 196 贝\n",
      "8 198 雪\n",
      "8 199 索\n",
      "8 203 险\n",
      "8 211 佛\n",
      "8 212 肯\n",
      "8 213 闻\n",
      "8 220 玩\n",
      "8 226 泪\n",
      "8 229 圣\n",
      "8 230 旁\n",
      "8 231 堂\n",
      "8 235 园\n",
      "8 237 哭\n",
      "8 238 旅\n",
      "8 239 街\n",
      "8 243 姑\n",
      "8 245 莫\n",
      "8 248 抱\n",
      "8 249 宝\n",
      "8 255 票\n",
      "8 256 怪\n",
      "8 257 寻\n",
      "8 261 份\n",
      "8 266 床\n",
      "8 267 舞\n",
      "8 268 秘\n",
      "8 269 午\n",
      "8 270 登\n",
      "8 271 楼\n",
      "8 276 追\n",
      "8 282 录\n",
      "8 284 牙\n",
      "8 287 托\n",
      "8 290 智\n",
      "8 294 吉\n",
      "8 295 卖\n",
      "8 297 喝\n",
      "8 299 遗\n",
      "8 300 救\n",
      "8 304 藏\n",
      "8 306 戏\n",
      "8 310 悲\n",
      "8 311 敢\n",
      "8 313 伊\n",
      "8 315 戴\n",
      "8 316 词\n",
      "8 317 森\n",
      "8 318 耳\n",
      "8 324 窗\n",
      "8 326 迷\n",
      "8 332 恩\n",
      "8 334 弹\n",
      "8 336 博\n",
      "8 342 勒\n",
      "8 344 醒\n",
      "8 345 洗\n",
      "8 348 嘴\n",
      "8 349 毕\n",
      "8 351 冰\n",
      "8 357 珍\n",
      "8 358 童\n",
      "8 364 疑\n",
      "8 366 野\n",
      "8 369 拍\n",
      "8 372 骨\n",
      "8 376 脏\n",
      "8 377 彩\n",
      "8 379 巨\n",
      "8 380 琴\n",
      "8 383 姆\n",
      "8 384 暗\n",
      "8 390 忍\n",
      "8 391 餐\n",
      "8 392 洛\n",
      "8 393 塞\n",
      "8 395 忆\n",
      "8 397 欧\n",
      "8 399 付\n",
      "8 400 阵\n",
      "8 401 玛\n",
      "8 403 岛\n",
      "8 405 狗\n",
      "8 406 休\n",
      "8 407 懂\n",
      "8 411 恶\n",
      "8 412 恋\n",
      "8 414 拥\n",
      "8 415 娜\n",
      "8 416 妙\n",
      "8 420 退\n",
      "8 421 摇\n",
      "8 422 弄\n",
      "8 423 桌\n",
      "8 424 熟\n",
      "8 425 诺\n",
      "8 429 奖\n",
      "8 430 宫\n",
      "8 431 忽\n",
      "8 433 康\n",
      "8 437 鸟\n",
      "8 438 喊\n",
      "8 440 夏\n",
      "8 444 亡\n",
      "8 445 鞋\n",
      "8 446 健\n",
      "8 448 败\n",
      "8 449 伴\n",
      "8 454 孤\n",
      "8 455 枪\n",
      "8 456 禁\n",
      "8 457 恐\n",
      "8 458 伙\n",
      "8 459 杰\n",
      "8 460 迹\n",
      "8 461 妹\n",
      "8 462 猪\n",
      "8 463 遍\n",
      "8 464 盖\n",
      "8 466 坦\n",
      "8 467 牌\n",
      "8 471 萨\n",
      "8 474 授\n",
      "8 475 归\n",
      "8 476 浪\n",
      "8 478 凡\n",
      "8 480 奶\n",
      "8 481 雄\n",
      "8 485 典\n",
      "8 486 袋\n",
      "8 487 莱\n",
      "8 489 盛\n",
      "8 491 蒙\n",
      "8 492 棋\n",
      "8 494 腿\n",
      "8 495 招\n",
      "8 496 释\n"
     ]
    }
   ],
   "source": [
    "i = 0\n",
    "for c in commons:\n",
    "    j = 0\n",
    "    for z in c:\n",
    "        if z not in common1000:\n",
    "            print(i, j, z)\n",
    "        j += 1\n",
    "    i += 1"
   ]
  },
  {
   "cell_type": "code",
   "execution_count": 73,
   "metadata": {},
   "outputs": [],
   "source": [
    "dump_cn_json(\"frequent1000.json\", commons)"
   ]
  },
  {
   "cell_type": "code",
   "execution_count": 94,
   "metadata": {},
   "outputs": [],
   "source": [
    "path = \"../src/草稿.txt\"\n",
    "\n",
    "with open(path, 'r', encoding=\"utf-8\") as f:\n",
    "    lines = f.readlines()"
   ]
  },
  {
   "cell_type": "code",
   "execution_count": 83,
   "metadata": {},
   "outputs": [
    {
     "data": {
      "text/plain": [
       "['一', '二', '三']"
      ]
     },
     "execution_count": 83,
     "metadata": {},
     "output_type": "execute_result"
    }
   ],
   "source": [
    "line = '一(yī) 二(èr) 三(sān)\\n'\n",
    "[g[-1] for g in line.strip(\"\\n\").split(\"(\") if g[-1] != \")\"]"
   ]
  },
  {
   "cell_type": "code",
   "execution_count": 96,
   "metadata": {},
   "outputs": [],
   "source": [
    "t = []\n",
    "shengzi = []\n",
    "for line in lines:\n",
    "    if len(line) > 2:\n",
    "        if '生字' in line:\n",
    "            if len(t):\n",
    "                shengzi.append(t)\n",
    "            t = []\n",
    "        else:\n",
    "            ges = line.strip(\"\\n\").split(\"(\")\n",
    "            t.extend([g[-1] for g in ges if g[-1] != \")\"])\n",
    "\n",
    "if len(t):\n",
    "    shengzi.append(t)"
   ]
  },
  {
   "cell_type": "code",
   "execution_count": null,
   "metadata": {},
   "outputs": [],
   "source": [
    "common1000"
   ]
  },
  {
   "cell_type": "code",
   "execution_count": 99,
   "metadata": {},
   "outputs": [
    {
     "data": {
      "text/plain": [
       "53"
      ]
     },
     "execution_count": 99,
     "metadata": {},
     "output_type": "execute_result"
    }
   ],
   "source": [
    "i = 0\n",
    "k = 0\n",
    "for s in shengzi:\n",
    "    j = 0\n",
    "    for z in s:\n",
    "        if z not in bihua:\n",
    "            # print(i, j, z)\n",
    "            k += 1\n",
    "        j += 1\n",
    "    i += 1\n",
    "k"
   ]
  },
  {
   "cell_type": "code",
   "execution_count": 176,
   "metadata": {},
   "outputs": [],
   "source": []
  },
  {
   "cell_type": "code",
   "execution_count": 102,
   "metadata": {},
   "outputs": [],
   "source": []
  },
  {
   "cell_type": "code",
   "execution_count": 181,
   "metadata": {},
   "outputs": [
    {
     "name": "stdout",
     "output_type": "stream",
     "text": [
      "小学生字合共2507字。\n",
      "中学生字合共1267字。\n",
      "总共3774字。\n"
     ]
    }
   ],
   "source": [
    "texts_cz = load_cn_json(\"../src/中学/阅读课文.json\")\n",
    "xxsz = load_cn_json(\"xiaoxue.json\")\n",
    "\n",
    "szall = []\n",
    "for s in xxsz:\n",
    "    szall.extend(s)\n",
    "\n",
    "nxx = len(szall)\n",
    "print(f\"小学生字合共{nxx}字。\")\n",
    "szall = \"\".join(szall)\n",
    "szall = szall + \"\".join([chr(i) for i in range(1, 127)])\n",
    "szall = szall + \"，。？《》—（）｛｝【】；：“”‘’、·~！#@￥%……&*-+=〈 〉\"\n",
    "\n",
    "szb = {}\n",
    "zxsz = []\n",
    "\n",
    "for title, text in texts_cz.items():\n",
    "    content = text[\"content\"]\n",
    "    zis = []\n",
    "    for line in content:\n",
    "        for z in line:\n",
    "            if z not in szall:\n",
    "                zis.append(z)\n",
    "                zxsz.append(z)\n",
    "    szb[title] = list(set(zis))\n",
    "\n",
    "zxsz = list(set(zxsz))\n",
    "nzx = len(zxsz)\n",
    "print(f\"中学生字合共{nzx}字。\")\n",
    "print(f\"总共{nzx + nxx}字。\")"
   ]
  },
  {
   "cell_type": "code",
   "execution_count": 151,
   "metadata": {},
   "outputs": [],
   "source": [
    "tmp = load_cn_json(\"frequent1000.json\")\n",
    "freq1000 = []\n",
    "for t in tmp:\n",
    "    freq1000.extend(t)"
   ]
  },
  {
   "cell_type": "code",
   "execution_count": 174,
   "metadata": {},
   "outputs": [
    {
     "name": "stdout",
     "output_type": "stream",
     "text": [
      "[]\n",
      "[]\n"
     ]
    }
   ],
   "source": [
    "szall = []\n",
    "for s in shengzi:\n",
    "    szall.extend(s)\n",
    "\n",
    "print([z for z in freq1000 if z not in szall])\n",
    "print([z for z in common1000 if z not in szall])"
   ]
  },
  {
   "cell_type": "code",
   "execution_count": 173,
   "metadata": {},
   "outputs": [],
   "source": [
    "# len(\"华尽假培己营氧措吉溶袁丰金候氢磁宪础轴乙硫宜婚盟策实层\")\n",
    "# shengzi[0].extend([\"己\", \"金\", \"华\"])\n",
    "# shengzi[2].extend([\"尽\", \"丰\", \"实\", \"层\"])\n",
    "# shengzi[4].extend([\"假\", \"宜\"])\n",
    "# shengzi[6].extend([\"营\", \"础\", \"婚\", \"乙\", \"培\"])\n",
    "# shengzi[7].extend([\"轴\", \"措\", \"盟\", \"吉\", \"策\"])\n",
    "# shengzi[8].extend([\"候\", \"氢\", \"氧\", \"硫\"])\n",
    "# shengzi[9].extend([\"磁\"])\n",
    "# shengzi[10].extend([\"宪\", \"溶\"])\n",
    "# shengzi[11].extend([\"袁\"])"
   ]
  },
  {
   "cell_type": "code",
   "execution_count": 133,
   "metadata": {},
   "outputs": [],
   "source": [
    "for title, text in texts_cz.items():\n",
    "    content = text[\"content\"]\n",
    "    zis = []\n",
    "    for line in content:\n",
    "        for z in line:\n",
    "            if z == \"婷\":\n",
    "                print(title)"
   ]
  },
  {
   "cell_type": "code",
   "execution_count": 146,
   "metadata": {},
   "outputs": [],
   "source": [
    "dump_cn_json(\"common1000.json\", common1000)"
   ]
  },
  {
   "cell_type": "code",
   "execution_count": 178,
   "metadata": {},
   "outputs": [
    {
     "data": {
      "text/plain": [
       "['躬',\n",
       " '涂',\n",
       " '棱',\n",
       " '镶',\n",
       " '滓',\n",
       " '芒',\n",
       " '眸',\n",
       " '蓄',\n",
       " '鞠',\n",
       " '掬',\n",
       " '暖',\n",
       " '踞',\n",
       " '穹',\n",
       " '绺',\n",
       " '倏',\n",
       " '抬',\n",
       " '睐',\n",
       " '拟',\n",
       " '挹',\n",
       " '诧',\n",
       " '缬',\n",
       " '宛',\n",
       " '姝',\n",
       " '刹',\n",
       " '蔚',\n",
       " '扯']"
      ]
     },
     "execution_count": 178,
     "metadata": {},
     "output_type": "execute_result"
    }
   ],
   "source": [
    "szb[\"绿\"]"
   ]
  }
 ],
 "metadata": {
  "kernelspec": {
   "display_name": "Hanzi",
   "language": "python",
   "name": "python3"
  },
  "language_info": {
   "codemirror_mode": {
    "name": "ipython",
    "version": 3
   },
   "file_extension": ".py",
   "mimetype": "text/x-python",
   "name": "python",
   "nbconvert_exporter": "python",
   "pygments_lexer": "ipython3",
   "version": "3.9.5"
  }
 },
 "nbformat": 4,
 "nbformat_minor": 2
}
