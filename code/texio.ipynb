{
 "cells": [
  {
   "cell_type": "code",
   "execution_count": 138,
   "metadata": {},
   "outputs": [],
   "source": [
    "import json\n",
    "import codecs\n",
    "from outils import keys, load_cn_json, dump_cn_json, 中转数, 数转中\n",
    "\n",
    "def sort_dict_with(dic, key=\"grade\"):\n",
    "    pox = {}\n",
    "    keys = []\n",
    "    for k, v in dic:\n",
    "        if v[key] not in pox:\n",
    "            pox[key] = []\n",
    "            keys.append(key)\n",
    "        pox[key].append((k, v))\n",
    "    \n",
    "    out = []\n",
    "    for key in sorted(keys):\n",
    "        out.extend(pox[key])\n",
    "    return out"
   ]
  },
  {
   "cell_type": "code",
   "execution_count": 4,
   "metadata": {},
   "outputs": [],
   "source": [
    "def wrap(s, wrapper=\"{}\", keep_wrapper=False):\n",
    "    if s:\n",
    "        return wrapper[0] + s + wrapper[-1]\n",
    "    if keep_wrapper:\n",
    "        return wrapper\n",
    "    return \"\"\n",
    "\n",
    "def make_params(params, wrapper=\"[]\", sep=\",\"):\n",
    "    return wrap(sep.join(params), wrapper)\n",
    "\n",
    "def wrap_env(name, content, params=[], param_wrapper=\"[]\", param_sep=\",\"):\n",
    "    out = r\"\\begin\" + make_params(params, wrapper=param_wrapper, sep=param_sep) + wrap(name) + \"\\n\"\n",
    "    lines = content[:-1].split(\"\\n\")  # presume content ends with \\n\n",
    "    for line in lines:\n",
    "        out += \"    \" + line + \"\\n\"\n",
    "    out += r\"\\end\" + wrap(name) + \"\\n\"\n",
    "    return out\n",
    "\n",
    "def wrap_method(method, content=\"\", wrapper=\"{}\", keep_wrapper=True, params=[], param_wrapper=\"[]\", param_sep=\",\"):\n",
    "    return '\\\\' + method + make_params(params, wrapper=param_wrapper, sep=param_sep) + wrap(content, wrapper=wrapper, keep_wrapper=keep_wrapper)\n",
    "    \n",
    "# print(wrap_env(\"center\", \"faowiefjawefijafo\\naofiagjaoeija\\nfai\\n\", params=[\"2pt\", \"tje\"]))\n",
    "# print(wrap_method(\"textbf\"))\n",
    "\n",
    "def zihao(n):\n",
    "    return wrap_method(\"zihao\", str(n))\n",
    "\n",
    "\n",
    "def make_ctex_env(document_class=\"ctexbook\", document_class_params=(\"12pt\", \"UTF-8\",\"openany\"), packages={\"ctex\": [], \"titlesec\": []}, mainfont=\"Arial\", lineskip=\"4pt\", parskip=\"10pt\", title=\"标题\", author=\"\", date=False, toc=True):\n",
    "    \"\"\"make header and footer for ctexbook environment. \n",
    "    header\n",
    "    1. documentclass and parameters \n",
    "    2. packages\n",
    "    3. geometry and fonts\n",
    "    4. package setups\n",
    "    5. global typesettings\n",
    "    6. begin document\n",
    "    footer\n",
    "    1. end document\n",
    "    \"\"\"\n",
    "    # ## header ##\n",
    "\n",
    "    # document class\n",
    "    header = r\"\\documentclass\"+ make_params(document_class_params) + wrap(document_class) + \"\\n\"\n",
    "    \n",
    "    # packages\n",
    "    packages_str = \"\"\n",
    "    for name in packages:\n",
    "        # print(package)\n",
    "        package_declarations = \"\"\n",
    "        if \"declarations\" in packages[name]:\n",
    "            package_declarations = make_params(packages[name]['declarations'])\n",
    "        packages_str += r\"\\usepackage\" + package_declarations + wrap(name) + \"\\n\"\n",
    "    # print(packages_str)\n",
    "    header += packages_str + \"\\n\"\n",
    "\n",
    "    # geometry <-- geometry package\n",
    "    if \"geometry\" in packages:\n",
    "        geometry = packages[\"geometry\"]\n",
    "        paper_type = geometry[\"paper_size\"]\n",
    "        paddings = geometry[\"paddings\"]\n",
    "        left = paddings[\"left\"]\n",
    "        right = paddings[\"right\"]\n",
    "        top = paddings[\"top\"]\n",
    "        bottom = paddings[\"bottom\"]\n",
    "        header += wrap_method(\"geometry\", f\"{paper_type}paper,left={left},right={right},top={top},bottom={bottom}\") + \"\\n\"\n",
    "    \n",
    "    # fonts\n",
    "    header += wrap_method(\"setmainfont\", mainfont) + \"\\n\"\n",
    "    header += r\"\\setCJKmainfont[BoldFont=STZhongsong]{汉字之美仿宋GBK 免费}\" + \"\\n\"\n",
    "    header += r\"\\xeCJKDeclareCharClass{CJK}{`0 -> `9}\" + \"\\n\"  # apply CJK font to numbers\n",
    "    header += r\"\\xeCJKsetup{AllowBreakBetweenPuncts=true}\" + \"\\n\"  # line alignment\n",
    "\n",
    "    if \"footmisc\" in packages:\n",
    "        footnote_settings_content = \"\".join([\"{\\ding{\"+str(192+i)+\"}}\" for i in range(10)])\n",
    "        footnote_settings = wrap_method(\"DefineFNsymbols\", footnote_settings_content, params=[\"circled\"], param_wrapper=\"{}\")\n",
    "        header += footnote_settings + \"\\n\"\n",
    "        header += wrap_method(\"setfnsymbol\", \"circled\") + \"\\n\"\n",
    "\n",
    "    # package setups\n",
    "    # xpinyin\n",
    "    if \"xpinyin\" in packages:\n",
    "        pyr = packages['xpinyin']['ratio']  # size ratio\n",
    "        vsep = packages['xpinyin']['vsep']  # vertical gap\n",
    "        vsep_str = \"vsep={\" + vsep + \"}\"\n",
    "        hsep = packages['xpinyin']['hsep']  # horizontal gap\n",
    "        hsep_str = \"hsep={\" + f\"{hsep} plus {hsep}\" + \"}\"\n",
    "        header += wrap_method(\"xpinyinsetup\", f\"ratio={pyr},{hsep_str},{vsep_str}\") + \"\\n\"  # pinyin settings\n",
    "\n",
    "    # global typesettings\n",
    "    # title format\n",
    "    header += r\"\\titleformat{\\chapter}{\\zihao{-1}\\bfseries}{ }{16pt}{}\" + \"\\n\"\n",
    "    header += r\"\\titleformat{\\section}{\\zihao{-2}\\bfseries}{ }{0pt}{}\" + \"\\n\"\n",
    "    header += r\"\\title\" + wrap(r\"\\zihao{0} \\bfseries \" + title) + \"\\n\"\n",
    "    # line and paragraph skips\n",
    "    header += r\"\\setlength{\\lineskip}{\" + lineskip + \"}\\n\"  # skip length after line\n",
    "    header += r\"\\setlength{\\parskip}{\" + parskip + \"}\\n\"  # extra skip for paragraphs \n",
    "    # front page format\n",
    "    if author:  # author format\n",
    "        header += r\"\\author{\\zihao{2} \\texttt\" + wrap(author) + \"}\\n\"\n",
    "    else:\n",
    "        header += r\"\\author{}\" + \"\\n\"\n",
    "    if date:  # date format\n",
    "        header += r\"\\date{\\bfseries\\today}\" + \"\\n\"\n",
    "    else:\n",
    "        header += r\"\\date{}\" + \"\\n\"\n",
    "    \n",
    "    # begin document\n",
    "    header += r\"\\begin\" + wrap(\"document\") + \"\\n\"\n",
    "    header += r\"\\maketitle\" + \"\\n\"\n",
    "    if toc:\n",
    "        header += r\"\\tableofcontents\" + \"\\n\"\n",
    "    header += r\"\\newpage\" + \"\\n\"\n",
    "    \n",
    "    # ## footer ##\n",
    "\n",
    "    # end document\n",
    "    footer = r\"\\end\" + wrap(\"document\") + \"\\n\"\n",
    "    return header, footer\n"
   ]
  },
  {
   "cell_type": "code",
   "execution_count": 177,
   "metadata": {},
   "outputs": [
    {
     "data": {
      "text/plain": [
       "'\\\\xpinyinsetup{ratio=0.5,hsep={.2em plus .2em},vsep={1em}}\\n'"
      ]
     },
     "execution_count": 177,
     "metadata": {},
     "output_type": "execute_result"
    }
   ],
   "source": [
    "# 打印页面设置：纸号，页边距等\n",
    "geometry = {}\n",
    "geometry[\"paper_size\"] = \"a5\"  # 使用A5纸\n",
    "paddings = {}  # 页边距\n",
    "paddings[\"left\"] = \"1.4cm\"\n",
    "paddings[\"right\"] = \"1.4cm\"\n",
    "paddings[\"top\"] = \"2.4cm\"\n",
    "paddings[\"bottom\"] = \"2.4cm\"\n",
    "geometry[\"paddings\"] = paddings\n",
    "\n",
    "# 拼音设置： xpinyin宏包\n",
    "pinyin = {}\n",
    "pinyin[\"ratio\"] = \"0.5\"\n",
    "pinyin[\"hsep\"] = \".2em\"\n",
    "pinyin[\"vsep\"] = \"1em\"\n",
    "\n",
    "# unit test\n",
    "packages = {}\n",
    "packages['xpinyin'] = pinyin\n",
    "pyr = packages['xpinyin']['ratio']  # size ratio\n",
    "vsep = packages['xpinyin']['vsep']  # vertical gap\n",
    "vsep_str = \"vsep={\" + vsep + \"}\"\n",
    "hsep = packages['xpinyin']['hsep']  # horizontal gap\n",
    "hsep_str = \"hsep={\" + f\"{hsep} plus {hsep}\" + \"}\"\n",
    "wrap_method(\"xpinyinsetup\", f\"ratio={pyr},{hsep_str},{vsep_str}\") + \"\\n\"  # pinyin settings"
   ]
  },
  {
   "cell_type": "markdown",
   "metadata": {},
   "source": [
    "## 古诗转换\n",
    "\n",
    "### 古诗tex转json"
   ]
  },
  {
   "cell_type": "code",
   "execution_count": 3,
   "metadata": {},
   "outputs": [],
   "source": [
    "# path_tex = \"../src/小学/古诗.tex\"\n",
    "\n",
    "# with open(path2, 'r', encoding=\"utf-8\") as f:\n",
    "#     lines = f.readlines()"
   ]
  },
  {
   "cell_type": "markdown",
   "metadata": {},
   "source": [
    "### 古诗json转tex"
   ]
  },
  {
   "cell_type": "code",
   "execution_count": 6,
   "metadata": {},
   "outputs": [],
   "source": [
    "path_json = \"../src/小学/古诗.json\"\n",
    "\n",
    "shis = load_cn_json(path_json)"
   ]
  },
  {
   "cell_type": "code",
   "execution_count": 7,
   "metadata": {},
   "outputs": [],
   "source": [
    "# with codecs.open(\"../src/小学/唐诗三百首.json\", \"r\", encoding=\"utf-8\") as f:\n",
    "#     tangshi300 = json.load(f)\n",
    "\n",
    "tangshi300 = load_cn_json(\"../src/小学/唐诗三百首.json\")\n",
    "\n",
    "authors = {}\n",
    "\n",
    "for shi in tangshi300:\n",
    "    if shi[\"author\"] not in authors:\n",
    "        authors[shi[\"author\"]] = \"唐代\""
   ]
  },
  {
   "cell_type": "code",
   "execution_count": 8,
   "metadata": {},
   "outputs": [
    {
     "name": "stdout",
     "output_type": "stream",
     "text": [
      "\\section{江南}\n",
      "\n",
      "\\begin{center}\n",
      "    \\vspace{8pt}\n",
      "    \n",
      "    \\begin{normalsize}\n",
      "        \n",
      "        〔唐代：无名氏〕\n",
      "        \n",
      "    \\end{normalsize}\n",
      "    \n",
      "    \\vspace{6pt}\n",
      "    \n",
      "    \\begin{large}\n",
      "        \n",
      "        \\xpinyin*{江南可采莲，}\n",
      "        \n",
      "        \\xpinyin*{莲叶何田田，}\n",
      "        \n",
      "        \\xpinyin*{鱼戏莲叶间。}\n",
      "        \n",
      "        \\xpinyin*{鱼戏莲叶东，}\n",
      "        \n",
      "        \\xpinyin*{鱼戏莲叶西，}\n",
      "        \n",
      "        \\xpinyin*{鱼戏莲叶南，}\n",
      "        \n",
      "        \\xpinyin*{鱼戏莲叶北。}\n",
      "        \n",
      "    \\end{large}\n",
      "    \n",
      "\\end{center}\n",
      "\n",
      "\\vspace{6pt}\n",
      "\n",
      "\n"
     ]
    }
   ],
   "source": [
    "def shi_to_tex_str(shi, print_genre=False, authors={}, typesettings={\"vspaces\": {\"after_title\": 8, \"after_author\": 6, \"after_content\": 6}}):\n",
    "    # convert structured shi to string ready to use in tex\n",
    "    out = r\"\\section{\" + shi[\"title\"] + \"}\\n\\n\"\n",
    "    content = \"\"\n",
    "    # title = wrap_method(\"textbf\", zihao(3) + \" \" + shi[\"title\"]) + \"\\n\\n\"\n",
    "\n",
    "    # if print_genre:\n",
    "    #     title = shi[\"genre\"] + \"：\" + title\n",
    "    # content += title\n",
    "    content += wrap_method(\"vspace\", f\"{typesettings['vspaces']['after_title']}pt\") + \"\\n\\n\"\n",
    "    author_str = \"\"\n",
    "    if shi[\"author\"]:\n",
    "        author = shi[\"author\"]\n",
    "        if author in authors:\n",
    "            author_str += \"〔唐代：\" + author + \"〕\\n\\n\"\n",
    "        else:\n",
    "            author_str += \"〔\" + author + \"〕\\n\\n\"\n",
    "    else:\n",
    "        author_str += \"〔作者不详〕\\n\\n\"\n",
    "    content += wrap_env(\"normalsize\", \"\\n\" + author_str) + \"\\n\"\n",
    "    content += wrap_method(\"vspace\", f\"{typesettings['vspaces']['after_author']}pt\") + \"\\n\\n\"\n",
    "    content += wrap_env(\"large\", \"\\n\" + \"\\n\\n\".join([wrap_method(\"xpinyin*\", line) for line in shi[\"content\"]]) + \"\\n\\n\") + \"\\n\"\n",
    "    content = wrap_env(\"center\", content) + \"\\n\"\n",
    "    content += wrap_method(\"vspace\", f\"{typesettings['vspaces']['after_content']}pt\") + \"\\n\\n\"\n",
    "    out += content\n",
    "    return out\n",
    "\n",
    "for title, shi in shis.items():\n",
    "    s = shi_to_tex_str(shi, print_genre=True, authors=authors)\n",
    "    break\n",
    "\n",
    "print(s)"
   ]
  },
  {
   "cell_type": "code",
   "execution_count": 7,
   "metadata": {},
   "outputs": [
    {
     "data": {
      "text/plain": [
       "{'level': '第二层',\n",
       " 'content': ['春眠不觉晓，处处闻啼鸟。', '夜来风雨声，花落知多少。'],\n",
       " 'author': '孟浩然',\n",
       " 'genre': '五言绝句',\n",
       " 'title': '春晓'}"
      ]
     },
     "execution_count": 7,
     "metadata": {},
     "output_type": "execute_result"
    }
   ],
   "source": [
    "shis[\"春晓\"]"
   ]
  },
  {
   "cell_type": "code",
   "execution_count": 12,
   "metadata": {},
   "outputs": [],
   "source": []
  },
  {
   "cell_type": "code",
   "execution_count": 8,
   "metadata": {},
   "outputs": [],
   "source": [
    "# 打印小学古诗（分层）\n",
    "packages = {}\n",
    "packages[\"ctex\"] = []\n",
    "packages[\"titlesec\"] = []\n",
    "packages[\"xeCJK\"] = []\n",
    "packages[\"fontspec,xunicode,xltxtra\"] = []\n",
    "packages[\"xpinyin\"] = pinyin\n",
    "packages[\"xpinyin\"]['ratio'] = \"0.44\"\n",
    "packages[\"xpinyin\"]['hsep'] = \".6em\"\n",
    "packages[\"geometry\"] = geometry\n",
    "packages[\"indentfirst\"] = []\n",
    "packages[\"pifont\"] = []\n",
    "packages[\"footmisc\"] = {\"declarations\": [\"perpage\", \"symbol*\"]}\n",
    "title = \"小学语文古诗集\"\n",
    "lineskip = \"24pt\"\n",
    "parskip = \"6pt\"\n",
    "header, footer = make_ctex_env(packages=packages, title=title, parskip=parskip, lineskip=lineskip)\n",
    "\n",
    "# 分层\n",
    "shi_by_level = {}\n",
    "levels = []\n",
    "for i in range(10):\n",
    "    levels.append(f\"第{数转中[i+1]}层\") \n",
    "levels.append(\"其他\")\n",
    "# print(levels)\n",
    "\n",
    "typesettings = {\"vspaces\": {\"after_title\": 10, \"after_author\": 8, \"after_content\": 8}}\n",
    "\n",
    "for title, shi in shis.items():\n",
    "    level = shi[\"level\"]\n",
    "    if level not in shi_by_level:\n",
    "        shi_by_level[level] = {}\n",
    "    shi_by_level[level][title] = shi\n",
    "\n",
    "with open(\"古诗集.tex\", \"w\", encoding=\"utf-8\") as f:\n",
    "    f.write(header + \"\\n\")\n",
    "    for level in levels:\n",
    "        f.write(r\"\\chapter\" + wrap(level) + \"\\n\\n\")\n",
    "        for title, shi in shi_by_level[level].items():\n",
    "            f.write(shi_to_tex_str(shi, typesettings=typesettings) + \"\\n\")\n",
    "    f.write(footer)"
   ]
  },
  {
   "cell_type": "markdown",
   "metadata": {},
   "source": [
    "## 小学课文"
   ]
  },
  {
   "cell_type": "code",
   "execution_count": 31,
   "metadata": {},
   "outputs": [],
   "source": [
    "def read(path):\n",
    "    with open(path, \"r\", encoding=\"utf-8\") as f:\n",
    "        lines = f.readlines()\n",
    "        return lines"
   ]
  },
  {
   "cell_type": "code",
   "execution_count": 118,
   "metadata": {},
   "outputs": [
    {
     "name": "stdout",
     "output_type": "stream",
     "text": [
      "['〔弭〕平息，止。', '〔袪〕驱逐，去除。', '〔峭拔〕（山）高而陡。', '〔峙〕直立，耸立。', '〔斛〕容量单位。一斛十斗。']\n"
     ]
    }
   ],
   "source": [
    "texts = load_cn_json(\"../src/小学/阅读课文.json\")\n",
    "\n",
    "# for k, v in texts.items():\n",
    "    # v[\"remarks\"] = []\n",
    "    # v[\"format\"] = \"散文\"\n",
    "    # v[\"genre\"] = [\"散文\"]\n",
    "    # v[\"footnotes\"] = []\n",
    "    # if \"endnotes\" not in v:\n",
    "    #     v[\"endnotes\"] = []\n",
    "    # if \"vocabulary\" not in v:\n",
    "    #     v[\"vocabulary\"] = []\n",
    "\n",
    "# dump_cn_json(\"../src/小学/阅读课文.json\", texts)\n",
    "\n",
    "# set([v[\"format\"] for k, v in texts.items()])  # {'书信', '散文', '诗歌'}\n",
    "print(texts[\"镜泊湖奇观\"][\"endnotes\"])"
   ]
  },
  {
   "cell_type": "code",
   "execution_count": null,
   "metadata": {},
   "outputs": [],
   "source": [
    "def read_text(path, format=\"散文\", max_name_len=13):\n",
    "    lines = read(path)\n",
    "    out = {}\n",
    "    title = \"\"\n",
    "    author = \"\"\n",
    "    grade = 0\n",
    "    footnotes = []\n",
    "    endnotes = []\n",
    "    vocabulary = []\n",
    "    remarks = []\n",
    "    content = []\n",
    "    out[\"format\"] = format\n",
    "    out[\"genre\"] = [format]\n",
    "    # return lines\n",
    "    if format in (\"散文\", \"书信\", \"小说\"):\n",
    "        for line in lines:\n",
    "            line0 = line.strip()\n",
    "            if line0:\n",
    "                if not title:\n",
    "                    title = line0\n",
    "                elif grade < 1 and line.startswith(\"年级：\"):\n",
    "                    grade = int(line0[3:])\n",
    "                elif not author and line.startswith(\"作者：\") and len(line0) < max_name_len:\n",
    "                    author = line0[3:]\n",
    "                elif line.startswith(\"备注：\"):\n",
    "                    remarks.append(line0[3:])\n",
    "                elif line.startswith(\"注释：\"):\n",
    "                    footnotes.append(line0[3:])\n",
    "                elif line.startswith(\"尾注：\"):\n",
    "                    endnotes.append(line0[3:])\n",
    "                elif line.startswith(\"词汇：\"):\n",
    "                    vocabulary.extend(line0[3:].split())\n",
    "                else:\n",
    "                    content.append(line0)\n",
    "    elif format == \"诗歌\":\n",
    "        para = []\n",
    "        for line in lines:\n",
    "            line0 = line.strip()\n",
    "            if line0:\n",
    "                if not title:\n",
    "                    title = line0\n",
    "                elif not author and line.startswith(\"作者：\") and len(line0) < max_name_len:\n",
    "                    author = line0[3:]\n",
    "                elif line.startswith(\"备注：\"):\n",
    "                    remarks.append(line0[3:])\n",
    "                elif line.startswith(\"注释：\"):\n",
    "                    footnotes.append(line0[3:])\n",
    "                elif line.startswith(\"尾注：\"):\n",
    "                    endnotes.append(line0[3:])\n",
    "                elif line.startswith(\"词汇：\"):\n",
    "                    vocabulary.extend(line0[3:].split())\n",
    "                else:\n",
    "                    para.append(line0)\n",
    "            elif len(para):\n",
    "                content.append(para)\n",
    "                para = []\n",
    "        if len(para):\n",
    "            content.append(para)\n",
    "    out[\"title\"] = title\n",
    "    out[\"author\"] = author\n",
    "    out[\"content\"] = content\n",
    "    out[\"remarks\"] = remarks\n",
    "    out[\"footnotes\"] = footnotes\n",
    "    out[\"endnotes\"] = endnotes\n",
    "    out[\"vocabulary\"] = vocabulary\n",
    "    if grade:\n",
    "        out[\"grade\"] = grade\n",
    "    return title, out\n",
    "\n",
    "title, content = read_text(\"草稿.tex\")\n",
    "\n",
    "# content[\"genre\"] = [\"记叙文\", \"动物\"]\n",
    "# content[\"author\"] = \"吴承恩\"\n",
    "\n",
    "# texts[title] = content\n",
    "# dump_cn_json(\"../src/小学/阅读课文.json\", texts)\n",
    "# content"
   ]
  },
  {
   "cell_type": "code",
   "execution_count": 121,
   "metadata": {},
   "outputs": [],
   "source": [
    "# texts['牛郎织女的故事']\n",
    "# texts['撤离班加西']\n",
    "# texts['北约轰炸大使馆']\n",
    "# texts[\"在巴黎传递奥运火炬\"]\n",
    "\n",
    "texts2 = {}\n",
    "\n",
    "titles = (\"匆匆\", \"冬天的济南\", \"紫藤萝瀑布\", \"太空一日\", \"从百草园到三味书屋\", \"国王的新衣\")\n",
    "\n",
    "for t in titles:\n",
    "    texts2[t] = texts[t]\n",
    "\n",
    "dump_cn_json(\"../src/初中/阅读课文.json\", texts2)"
   ]
  },
  {
   "cell_type": "code",
   "execution_count": 88,
   "metadata": {},
   "outputs": [],
   "source": [
    "# for title, text in texts.items():\n",
    "#     footnotes = []\n",
    "#     endnotes = []\n",
    "#     for note in text[\"footnotes\"]:\n",
    "#         parts = note.split(\"：\")\n",
    "#         word = parts[0]\n",
    "#         footnotes.append(\"〔\" + word + \"〕\" + \"：\".join(parts[1:]))\n",
    "#         text[\"footnotes\"] = footnotes\n",
    "#     for note in text[\"endnotes\"]:\n",
    "#         parts = note.split(\"：\")\n",
    "#         word = parts[0]\n",
    "#         endnotes.append(\"〔\" + word + \"〕\" + \"：\".join(parts[1:]))\n",
    "#         text[\"endnotes\"] = endnotes\n"
   ]
  },
  {
   "cell_type": "code",
   "execution_count": 89,
   "metadata": {},
   "outputs": [
    {
     "data": {
      "text/plain": [
       "['〔朱文公〕南宋学者朱熹死后的谥号。这里指把屋子卖给一个姓朱的人。',\n",
       " '〔皂荚树〕一种乔木，果实像扁豆，长约20厘米，捣碎了泡水，可以洗衣服。',\n",
       " '〔桑椹〕桑树的果实，又叫桑葚。',\n",
       " '〔叫天子〕一种小鸟，又叫云雀。体长约20厘米，叫声响亮。',\n",
       " '〔油蛉〕一种昆虫，俗名金钟儿，形似西瓜子，黑色，昼夜都鸣。',\n",
       " '〔斑蝥〕一种昆虫，能飞，翅上有黄黑色斑纹。这里是指类似斑蝥的“行夜虫”，俗称“放屁虫”。',\n",
       " '〔后窍〕这里指昆虫的肛门。',\n",
       " '〔何首乌〕一种多年生蔓草，根粗大，可入药。',\n",
       " '〔木莲〕一种蔓生的常绿灌木。',\n",
       " '〔莲房〕莲蓬。',\n",
       " '〔覆盆子〕一种多年生草，茎长，有刺，夏天结果实。',\n",
       " '〔赤练蛇〕一种无毒蛇。体长一米左右，有黑红相间的斑纹。',\n",
       " '〔长妈妈〕鲁迅小时候家里的女工，下文的阿长也指她。',\n",
       " '〔机关〕这里指周密而巧妙的计谋。',\n",
       " '〔张飞鸟〕鹡鸰。头部像戏台上张飞的脸谱，所以浙东有的地方称为张飞鸟。',\n",
       " '〔闰土〕作者在小说《故乡》中写到的儿时朋友。',\n",
       " '〔叉袋〕一种装粮食的布袋或者麻袋，袋口有叉角，可以打结。',\n",
       " '〔\\\\texttt{Ade}〕德语，再见的意思。',\n",
       " '〔三味书屋〕在绍兴城内作者故家附近。解放后辟为鲁迅纪念馆的一部分。',\n",
       " '〔先生〕作者的启蒙老师，姓寿，名怀鉴，字镜吾，是一个老秀才。',\n",
       " '〔东方朔〕西汉文学家，善辞赋，性格诙谐滑稽。关于他的民间传说很多。',\n",
       " '〔怪哉〕据《太平广记》，汉武帝巡视时发现的人面怪虫。询问东方朔，东方朔回答说，过去秦朝拘押无辜的人太多，百姓纷纷感叹：“怪哉怪哉！”愤怒感动上天，产生这种虫。汉武帝问他有什么办法可以去掉，东方朔回答：喝酒可以消愁。用酒浇灌，可以让这虫子消失。',\n",
       " '〔生书〕未读过的书，新课。',\n",
       " '〔宿〕长久从事某种工作。儒：信奉孔孟之道的知识分子。',\n",
       " '〔对课〕即对对联，旧时学习词句、准备作诗的一种练习。一般老师出上联，学生对下联。三言、五言，即三字一句、五字一句。字数越多越难。',\n",
       " '〔蝉蜕〕蝉的幼虫变为蝉时脱去的外壳，可入药。',\n",
       " '〔见《论语·述而》，应读为“仁远乎哉？我欲仁，斯仁至矣！”〕',\n",
       " '〔见《幼学琼林·身体》，原句是〕“笑人缺齿，狗窦胡为大开？”',\n",
       " '〔见《周易》，原句是〕“初九，潜龙勿用。”',\n",
       " '〔见《尚书·禹贡》，原句是“厥土惟涂泥。厥田惟下下，厥赋下上，上错。……厥包橘柚锡贡。”〕',\n",
       " '〔叵罗〕古代饮酒用的一种敞口的浅杯。',\n",
       " '〔荆川纸〕一种竹纸，薄而略透明。',\n",
       " '〔绣像〕明清以来，通俗小说前面往往附有书中人物的图像，称为绣像。',\n",
       " '〔片断〕片段。',\n",
       " '〔《荡寇志》〕清朝俞万春著的一部反《水浒传》、诬蔑歪曲梁山起义的小说。',\n",
       " '〔锡箔〕这里指锡箔纸，附着一层薄锡的纸，旧时多用于祭奠死去的人。',\n",
       " '〔绅士〕地方上有影响力、有威望的人，辅助官府统治、维持秩序。']"
      ]
     },
     "execution_count": 89,
     "metadata": {},
     "output_type": "execute_result"
    }
   ],
   "source": [
    "texts[\"从百草园到三味书屋\"][\"footnotes\"]"
   ]
  },
  {
   "cell_type": "code",
   "execution_count": 156,
   "metadata": {},
   "outputs": [
    {
     "name": "stdout",
     "output_type": "stream",
     "text": [
      "faw\n"
     ]
    },
    {
     "data": {
      "text/plain": [
       "'afaw\\\\footnote{〔faw〕oiafjaoie}efiajaoijfawggabea'"
      ]
     },
     "execution_count": 156,
     "metadata": {},
     "output_type": "execute_result"
    }
   ],
   "source": [
    "s = \"afawefiajaoijfawggabea\"\n",
    "note = \"〔faw〕oiafjaoie\"\n",
    "word = note.split(\"〕\")[0][1:]\n",
    "print(word)\n",
    "nfin = s.find(word) + len(word)\n",
    "s[:nfin] + r\"\\footnote{\" + note + \"}\" + s[nfin:]"
   ]
  },
  {
   "cell_type": "code",
   "execution_count": 175,
   "metadata": {},
   "outputs": [
    {
     "name": "stdout",
     "output_type": "stream",
     "text": [
      "\\chapter{从百草园到三味书屋}\n",
      "\n",
      "\\begin{large}\n",
      "    \n",
      "    我家的后面有一个很大的园，相传叫作百草园。现在是早已并屋子一起卖给朱文公的子孙了\\footnote{〔朱文公〕南宋学者朱熹死后的谥号。这里指把屋子卖给一个姓朱的人。}，连那最末次的相见也已经隔了七八年，其中似乎确凿只有一些野草；但那时却是我的乐园。\n",
      "    \n",
      "    不必说碧绿的菜畦，光滑的石井栏，高大的皂荚树\\footnote{〔皂荚树〕一种乔木，果实像扁豆，长约20厘米，捣碎了泡水，可以洗衣服。}，紫红的桑椹\\footnote{〔桑椹〕桑树的果实，又叫桑葚。}；也不必说鸣蝉在树叶里长吟，肥胖的黄蜂伏在菜花上，轻捷的叫天子\\footnote{〔叫天子〕一种小鸟，又叫云雀。体长约20厘米，叫声响亮。}忽然从草间直窜向云霄里去了。单是周围的短短的泥墙根一带，就有无限趣味。油蛉\\footnote{〔油蛉〕一种昆虫，俗名金钟儿，形似西瓜子，黑色，昼夜都鸣。}在这里低唱，蟋蟀们在这里弹琴。翻开断砖来，有时会遇见蜈蚣；还有斑蝥\\footnote{〔斑蝥〕一种昆虫，能飞，翅上有黄黑色斑纹。这里是指类似斑蝥的“行夜虫”，俗称“放屁虫”。}，倘若用手指按住它的脊梁，便会拍的一声，从后窍\\footnote{〔后窍〕这里指昆虫的肛门。}喷出一阵烟雾。何首乌\\footnote{〔何首乌〕一种多年生蔓草，根粗大，可入药。}藤和木莲\\footnote{〔木莲〕一种蔓生的常绿灌木。}藤缠络着，木莲有莲房\\footnote{〔莲房〕莲蓬。}一般的果实，何首乌有臃肿的根。有人说，何首乌根是有像人形的，吃了便可以成仙，我于是常常拔它起来，牵连不断地拔起来，也曾因此弄坏了泥墙，却从来没有见过有一块根像人样。如果不怕刺，还可以摘到覆盆子\\footnote{〔覆盆子〕一种多年生草，茎长，有刺，夏天结果实。}，象小珊瑚珠攒成的小球，又酸又甜，色味都比桑椹要好得远。\n",
      "    \n",
      "    长的草里是不去的，因为相传这园里有一条很大的赤练蛇\\footnote{〔赤练蛇〕一种无毒蛇。体长一米左右，有黑红相间的斑纹。}。\n",
      "    \n",
      "    长妈妈\\footnote{〔长妈妈〕鲁迅小时候家里的女工，下文的阿长也指她。}曾经讲给我一个故事听：先前，有一个读书人住在古庙里用功，晚间，在院子里纳凉的时候，突然听到有人在叫他。答应着，四面看时，却见一个美女的脸露在墙头上，向他一笑，隐去了。他很高兴；但竟给那走来夜谈的老和尚识破了机关\\footnote{〔机关〕这里指周密而巧妙的计谋。}。说他脸上有些妖气，一定遇见“美女蛇”了；这是人首蛇身的怪物，能唤人名，倘一答应，夜间便要来吃这人的肉的。他自然吓得要死，而那老和尚却道无妨，给他一个小盒子，说只要放在枕边，便可高枕而卧。他虽然照样办，却总是睡不着，——当然睡不着的。到半夜，果然来了，沙沙沙！门外象是风雨声。他正抖作一团时，却听得豁的一声，一道金光从枕边飞出，外面便什么声音也没有了，那金光也就飞回来，敛在盒子里。后来呢？后来，老和尚说，这是飞蜈蚣，它能吸蛇的脑髓，美女蛇就被它治死了。\n",
      "    \n",
      "    结末的教训是：所以倘有陌生的声音叫你的名字，你万不可答应他。\n",
      "    \n",
      "    这故事很使我觉得做人之险，夏夜乘凉，往往有些担心，不敢去看墙上，而且极想得到一盒老和尚那样的飞蜈蚣。走到百草园的草丛旁边时，也常常这样想。但直到现在，总还没有得到，但也没有遇见过赤练蛇和美女蛇。叫我名字的陌生声音自然是常有的，然而都不是美女蛇。\n",
      "    \n",
      "    冬天的百草园比较的无味；雪一下，可就两样了。拍雪人和塑雪罗汉需要人们鉴赏，这是荒园，人迹罕至，所以不相宜，只好来捕鸟。薄薄的雪，是不行的；总须积雪盖了地面一两天，鸟雀们久已无处觅食的时候才好。扫开一块雪，露出地面，用一支短棒支起一面大的竹筛来，下面撒些秕谷，棒上系一条长绳，人远远地牵着，看鸟雀下来啄食，走到竹筛底下的时候，将绳子一拉，便罩住了。但所得的是麻雀居多，也有白颊的“张飞鸟”\\footnote{〔张飞鸟〕鹡鸰。头部像戏台上张飞的脸谱，所以浙东也有叫张飞鸟。}，性子很躁，养不过夜的。\n",
      "    \n",
      "    这是闰土的父亲\\footnote{〔闰土〕作者在小说《故乡》中写到的儿时朋友。}所传授的方法，我却不大能用。明明见它们进去了，拉了绳，跑去一看，却什么都没有，费了半天力，捉住的不过三四只。闰土的父亲是小半天便能捕获几十只，装在叉袋\\footnote{〔叉袋〕一种装粮食的布袋或者麻袋，袋口有叉角，可以打结。}里叫着撞着的。我曾经问他得失的缘由，他只静静地笑道：你太性急，来不及等它走到中间去。\n",
      "    \n",
      "    我不知道为什么家里的人要将我送进书塾里去了，而且还是全城中称为最严厉的书塾。也许是因为拔何首乌毁了泥墙罢，也许是因为将砖头抛到间壁的梁家去了罢，也许是因为站在石井栏上跳下来罢，……都无从知道。总而言之：我将不能常到百草园了。\\texttt{Ade}\\footnote{〔\\texttt{Ade}〕德语，再见的意思。}，我的蟋蟀们！\\texttt{Ade}，我的覆盆子们和木莲们！……\n",
      "    \n",
      "    出门向东，不上半里，走过一道石桥，便是我的先生的家了。从一扇黑油的竹门进去，第三间是书房。中间挂着一块匾额：三味书屋\\footnote{〔三味书屋〕在绍兴城内作者故家附近。解放后辟为鲁迅纪念馆的一部分。}；匾下面是一幅画，画着一只很肥大的梅花鹿伏在古树下。没有孔子牌位，我们便对着那匾和鹿行礼。第一次算是拜孔子，第二次算是拜先生。\n",
      "    \n",
      "    第二次行礼时，先生\\footnote{〔先生〕作者的启蒙老师，姓寿，名怀鉴，字镜吾，是一个老秀才。}便和蔼地在一旁答礼。他是一个高而瘦的老人，须发都花白了，还戴着大眼镜。我对他很恭敬，因为我早听到，他是本城中极方正，质朴，博学的人。\n",
      "    \n",
      "    不知从哪里听来的，东方朔\\footnote{〔东方朔〕西汉文学家，善辞赋，性格诙谐滑稽。关于他的民间传说很多。}也很渊博，他认识一种虫，名曰“怪哉”，冤气所化，用酒一浇，就消释了。我很想详细地知道这故事，但阿长是不知道的，因为她毕竟不渊博。现在得到机会了，可以问先生。\n",
      "    \n",
      "    “先生，‘怪哉”\\footnote{〔怪哉〕据《太平广记》，汉武帝巡视时发现的人面怪虫。询问东方朔，东方朔回答说，过去秦朝拘押无辜的人太多，百姓纷纷感叹：“怪哉怪哉！”愤怒感动上天，产生这种虫。汉武帝问他有什么办法可以去掉，东方朔回答：喝酒可以消愁。用酒浇灌，可以让这虫子消失。}这虫，是怎么一回事？……”我上了生书\\footnote{〔生书〕未读过的书，新课。}，将要退下来的时候，赶忙问。\n",
      "    \n",
      "    “不知道！”他似乎很不高兴，脸上还有怒色了。\n",
      "    \n",
      "    我才知道做学生是不应该问这些事的，只要读书，因为他是渊博的宿儒\\footnote{〔宿〕长久从事某种工作。儒：信奉孔孟之道的知识分子。}，决不至于不知道，所谓不知道者，乃是不愿意说。年纪比我大的人，往往如此，我遇见过好几回了。\n",
      "    \n",
      "    我就只读书，正午习字，晚上对课\\footnote{〔对课〕即对对联，旧时学习词句、准备作诗的一种练习。一般老师出上联，学生对下联。三言、五言，即三字一句、五字一句。字数越多越难。}。先生最初这几天对我很严厉，后来却好起来了，不过给我读的书渐渐加多，对课也渐渐地加上字去，从三言到五言，终于到七言。\n",
      "    \n",
      "    三味书屋后面也有一个园，虽然小，但在那里也可以爬上花坛去折腊梅花，在地上或桂花树上寻蝉蜕\\footnote{〔蝉蜕〕蝉的幼虫变为蝉时脱去的外壳，可入药。}。最好的工作是捉了苍蝇喂蚂蚁，静悄悄地没有声音。然而同窗们到园里的太多，太久，可就不行了，先生在书房里便大叫起来：\n",
      "    \n",
      "    “人都到哪里去了？”\n",
      "    \n",
      "    人们便一个一个陆续走回去；一同回去，也不行的。他有一条戒尺，但是不常用，也有罚跪的规矩，但也不常用，普通总不过瞪几眼，大声道：\n",
      "    \n",
      "    “读书！”\n",
      "    \n",
      "    于是大家放开喉咙读一阵书，真是人声鼎沸。有念“仁远乎哉我欲仁斯仁至矣\\footnote{见《论语·述而》，应读为“仁远乎哉？我欲仁，斯仁至矣！”}”的，有念“笑人齿缺曰狗窦大开”\\footnote{见《幼学琼林·身体》，原句是：“笑人缺齿，狗窦胡为大开？”}的，有念“上九潜龙勿用”\\footnote{见《周易》，原句是：“初九，潜龙勿用。”}的，有念“厥土下上上错厥贡苞茅橘柚”\\footnote{见《尚书·禹贡》，原句是：“厥土惟涂泥。厥田惟下下，厥赋下上，上错。……厥包橘柚锡贡。”}的……先生自己也念书。后来，我们的声音便低下去，静下去了，只有他还大声朗读着：\n",
      "    \n",
      "    “铁如意，指挥倜傥，一座皆惊呢；金叵罗\\footnote{〔叵罗〕古代饮酒用的一种敞口的浅杯。}，颠倒淋漓噫，千杯未醉嗬……”\n",
      "    \n",
      "    我疑心这是极好的文章，因为读到这里，他总是微笑起来，而且将头仰起，摇着，向后面拗过去，拗过去。\n",
      "    \n",
      "    先生读书入神的时候，于我们是很相宜的。有几个便用纸糊的盔甲套在指甲上做戏。\n",
      "    \n",
      "    我是画画儿，用一种叫作“荆川纸”\\footnote{〔荆川纸〕一种竹纸，薄而略透明。}的，蒙在小说的绣像\\footnote{〔绣像〕明清以来，通俗小说前面往往附有书中人物的图像，称为绣像。}上一个个描下来，象习字时候的影写一样。读的书多起来，画的画也多起来；书没有读成，画的成绩却不少了，最成片断\\footnote{〔片断〕片段。}的是《荡寇志》\\footnote{〔《荡寇志》〕清朝俞万春著的一部反《水浒传》、诬蔑歪曲梁山起义的小说。}和《西游记》的绣像，都有一大本。后来，因为要钱用，卖给一个有钱的同窗了。他的父亲是开锡箔\\footnote{〔锡箔〕这里指锡箔纸，附着一层薄锡的纸，旧时多用于祭奠死去的人。}店的；听说现在自己已经做了店主，而且快要升到绅士\\footnote{〔绅士〕地方上有影响力、有威望的人，辅助官府统治、维持秩序。}的地位了。这东西早已没有了罢。\n",
      "    \n",
      "    \\hfill 九月十八日\n",
      "    \n",
      "\\end{large}\n",
      "\n",
      "\n",
      "\\newpage\n",
      "\n",
      "\\textbf{注释}：\n",
      "\n",
      "\\vspace{-1em}\n",
      "\n",
      "\\begin{itemize}\n",
      "    \\setlength\\itemsep{-0.2em}\n",
      "    \\item 〔\\xpinyin*{菜畦}〕种植蔬菜的一排排整齐的小块田地。四周围着土埂，便于管理和浇灌。\n",
      "    \\item 〔\\xpinyin*{臃肿}〕胖大。\n",
      "    \\item 〔\\xpinyin*{秕谷}〕不饱满的谷粒。\n",
      "    \\item 〔\\xpinyin*{敛}〕收拢。\n",
      "    \\item 〔\\xpinyin*{脑髓}〕脑浆。\n",
      "    \\item 〔\\xpinyin*{无从}〕没有方法、门路（做某事）。\n",
      "    \\item 〔\\xpinyin*{同窗}〕在同一窗下读书的人，指同学。\n",
      "    \\item 〔\\xpinyin*{人迹罕至}〕少有人来。迹：足迹。罕：稀少。\n",
      "    \\item 〔\\xpinyin*{戒尺}〕老师用来责罚学生的长条形木板。\n",
      "    \\item 〔\\xpinyin*{书塾}〕旧时家庭、宗族或教师自己设立的教学场所。\n",
      "    \\item 〔\\xpinyin*{倜傥}〕洒脱不受拘束的样子。\n",
      "    \\item 〔\\xpinyin*{淋漓}〕濡湿流淌的样子。也形容酣畅、痛快。\n",
      "    \\item 〔\\xpinyin*{拗}〕弯屈，弯转。\n",
      "    \\item 〔\\xpinyin*{盔甲}〕古代战士的护身装备。头戴的称为“盔”，身穿的称为“甲”。\n",
      "    \\item 〔\\xpinyin*{影写}〕把纸蒙在字帖上照着描。\n",
      "    \\item 〔\\xpinyin*{人声鼎沸}〕许多人吵闹，声音像大锅里沸腾的水。\n",
      "    \\item 〔\\xpinyin*{渊博}〕精深而广博。\n",
      "\\end{itemize}\n",
      "...\n"
     ]
    }
   ],
   "source": [
    "def linespread(scale, content):\n",
    "    out = r\"\\linespread\" + wrap(scale) + r\" \\selectfont\" + \"\\n\"\n",
    "    lines = content[:-1].split(\"\\n\")  # presume content ends with \\n\n",
    "    for line in lines:\n",
    "        out += \"    \" + line + \"\\n\"\n",
    "    return wrap(out + \"\\n\") + \"\\n\"\n",
    "\n",
    "def text_content_to_tex_str(content, footnotes=[], format=\"散文\", verbose=0):\n",
    "    \"\"\"convert a the content of a text object to text string ready for tex.\n",
    "    the format varies by genre:\n",
    "    散文\n",
    "    书信\n",
    "    诗歌\n",
    "    \"\"\" \n",
    "    from re import sub as ssub \n",
    "    scale = \"0.8\"\n",
    "    out = \"\"\n",
    "    if format == \"散文\":\n",
    "        out = \"\\n\\n\".join(content) + \"\\n\"\n",
    "    elif  format == \"书信\":\n",
    "        if verbose and not content[0].endswith(\"：\"):\n",
    "            print(\"错误：第一行不是抬头\")\n",
    "            return \"格式错误\\n\"\n",
    "        out = r\"\\noindent \" + content[0] + \"\\n\\n\" + wrap_method(\"vspace\", \"24pt\") + \"\\n\\n\"\n",
    "        toright = False\n",
    "        toright_content = \"\"\n",
    "        for line in content[1:]:\n",
    "            if line:\n",
    "                if toright:\n",
    "                    toright_content += line + \"\\n\\n\"\n",
    "                else:\n",
    "                    out += line + \"\\n\\n\"\n",
    "            else:\n",
    "                toright = True\n",
    "        out += wrap_method(\"vspace\", \"36pt\") + \"\\n\\n\"\n",
    "        out += wrap_env(\"flushright\", linespread(scale, toright_content)) + \"\\n\\n\"\n",
    "    elif  format == \"诗歌\":\n",
    "        if not isinstance(content[0], list):\n",
    "            content = [content]\n",
    "        \n",
    "        # lineskip = \"\\n\\n\" + wrap_method(\"vspace\", \"-2pt\") + \"\\n\\n\"\n",
    "        lineskip = \"\\n\\n\"\n",
    "        parskip = \"\\n\" + wrap_method(\"vspace\", \"36pt\") + \"\\n\\n\"\n",
    "        out = wrap_env(\"center\", parskip.join([linespread(scale, lineskip.join(par) + \"\\n\") for par in content]))\n",
    "    \n",
    "    if len(footnotes):\n",
    "        if \"footnote\" in out:  # add footnotes when the position is provided\n",
    "            for i, note in enumerate(footnotes):\n",
    "                out = out.replace(\"footnote{\"+str(i+1)+\"}\", \"footnote{\" + note + \"}\")\n",
    "                # out = ssub(r\"footnote\\{(\\d+?)\\}\", \"footnote{\" + note + \"}\", out, 1)\n",
    "        else:\n",
    "            for note in footnotes:\n",
    "                word = note.split(\"〕\")[0][1:]\n",
    "                # print(word)\n",
    "                nfin = out.find(word) + len(word)\n",
    "                out = out[:nfin] + r\"\\footnote{\" + note + \"}\" + out[nfin:]\n",
    "\n",
    "    return out\n",
    "\n",
    "def endnotes_to_str(endnotes, verbose=0):\n",
    "    out = \"\"\n",
    "    notes = \"\"\n",
    "    for note in endnotes:\n",
    "        if note.startswith(\"〔\"):  # add pinyin\n",
    "            suite = note[1:].split(\"〕\")\n",
    "            notes += \"\\item \" + note[0] + r\"\\xpinyin*{\" + suite[0] + r\"}〕\" + \"〕\".join(suite[1:]) + \"\\n\"\n",
    "        else:\n",
    "            notes += \"\\item \" + note + \"\\n\"\n",
    "    if notes:\n",
    "        out = r\"\\newpage\" + \"\\n\\n\" + r\"\\textbf{注释}：\" + \"\\n\\n\" + r\"\\vspace{-1em}\" + \"\\n\\n\"\n",
    "        out += wrap_env(\"itemize\", r\"\\setlength\\itemsep{-0.2em}\" + \"\\n\" + notes)\n",
    "    return out\n",
    "\n",
    "def text_to_tex_str(text, typesettings={\"font\": {\"title\": {\"size\": 2}}, \"vspaces\": {\"after_title\": 12, \"after_author\": 6, \"after_content\": 6}}):\n",
    "    \"\"\"convert a text object to text string ready for tex\n",
    "    \"\"\"\n",
    "    out = \"\"\n",
    "    content = \"\"\n",
    "    title_fontsize = typesettings[\"font\"][\"title\"][\"size\"]\n",
    "    # title = wrap_method(\"textbf\", zihao(title_fontsize) + \" \" + text[\"title\"]) + \"\\n\"\n",
    "    title = wrap_method(\"chapter\", text[\"title\"]) + \"\\n\\n\"\n",
    "    content += title\n",
    "    # content = wrap_env(\"center\", content) + \"\\n\"\n",
    "    # content += wrap_method(\"vspace\", f\"{typesettings['vspaces']['after_title']}pt\") + \"\\n\\n\"\n",
    "    content += wrap_env(\"large\", \"\\n\" + text_content_to_tex_str(text[\"content\"], footnotes=text['footnotes'], format=text[\"format\"]) + \"\\n\")\n",
    "    # content += wrap_method(\"vspace\", f\"{typesettings['vspaces']['after_content']}pt\") + \"\\n\\n\"\n",
    "    out += content + \"\\n\\n\"\n",
    "    # out += wrap_method(\"newpage\", keep_wrapper=False) + \"\\n\\n\"\n",
    "    out += endnotes_to_str(text[\"endnotes\"])\n",
    "    return out\n",
    "\n",
    "title = \"从百草园到三味书屋\"\n",
    "print(text_to_tex_str(texts[title]) + \"...\")"
   ]
  },
  {
   "cell_type": "code",
   "execution_count": 119,
   "metadata": {},
   "outputs": [],
   "source": [
    "# 打印小学课文（每篇文章换页）\n",
    "packages = {}\n",
    "packages[\"ctex\"] = []\n",
    "packages[\"titlesec\"] = []\n",
    "packages[\"xeCJK\"] = []\n",
    "packages[\"fontspec,xunicode,xltxtra\"] = []\n",
    "packages[\"xpinyin\"] = pinyin\n",
    "packages[\"geometry\"] = geometry\n",
    "packages[\"indentfirst\"] = []\n",
    "packages[\"pifont\"] = []\n",
    "packages[\"footmisc\"] = {\"declarations\": [\"perpage\", \"symbol*\"]}\n",
    "lineskip = \"24pt\"\n",
    "parskip = \"6pt\"\n",
    "\n",
    "booktitle = \"小学语文课文集萃\"\n",
    "header, footer = make_ctex_env(packages=packages, title=booktitle, parskip=parskip, lineskip=lineskip)\n",
    "\n",
    "typesettings = {}\n",
    "typesettings[\"vspaces\"] = {\"after_title\": 36, \"after_author\": 16, \"after_content\": 16}\n",
    "typesettings[\"font\"] = {\"title\": {\"size\": 2}}\n",
    "\n",
    "# for title, shi in shis.items():\n",
    "#     level = shi[\"level\"]\n",
    "#     if level not in shi_by_level:\n",
    "#         shi_by_level[level] = {}\n",
    "#     shi_by_level[level][title] = shi\n",
    "\n",
    "with open(\"阅读课文.tex\", \"w\", encoding=\"utf-8\") as f:\n",
    "    f.write(header + \"\\n\")\n",
    "    for title, text in texts.items():\n",
    "        f.write(text_to_tex_str(text, typesettings=typesettings) + \"\\n\")\n",
    "    f.write(footer)"
   ]
  },
  {
   "cell_type": "code",
   "execution_count": 144,
   "metadata": {},
   "outputs": [],
   "source": [
    "texts2 = load_cn_json(\"../src/初中/阅读课文.json\")\n",
    "\n",
    "# read text from 草稿\n",
    "title, content = read_text(\"草稿.tex\")\n",
    "\n",
    "content[\"genre\"] = [\"散文\", \"回忆\"]\n",
    "# content[\"author\"] = \"吴承恩\"\n",
    "\n",
    "texts2[title] = content\n",
    "dump_cn_json(\"../src/初中/阅读课文.json\", texts2)"
   ]
  },
  {
   "cell_type": "code",
   "execution_count": 159,
   "metadata": {},
   "outputs": [],
   "source": [
    "texts2 = load_cn_json(\"../src/初中/阅读课文.json\")"
   ]
  },
  {
   "cell_type": "code",
   "execution_count": null,
   "metadata": {},
   "outputs": [],
   "source": [
    "title = \"阿长与山海经\"\n",
    "print(text_to_tex_str(texts2[title]) + \"...\")"
   ]
  },
  {
   "cell_type": "code",
   "execution_count": 176,
   "metadata": {},
   "outputs": [],
   "source": [
    "texts2 = load_cn_json(\"../src/初中/阅读课文.json\")\n",
    "\n",
    "\n",
    "booktitle = \"初中语文课文集萃\"\n",
    "header, footer = make_ctex_env(packages=packages, title=booktitle, parskip=parskip, lineskip=lineskip)\n",
    "typesettings = {}\n",
    "typesettings[\"vspaces\"] = {\"after_title\": 36, \"after_author\": 16, \"after_content\": 16}\n",
    "typesettings[\"font\"] = {\"title\": {\"size\": 2}}\n",
    "\n",
    "with open(\"初中现代文阅读课文.tex\", \"w\", encoding=\"utf-8\") as f:\n",
    "    f.write(header + \"\\n\")\n",
    "    for title, text in texts2.items():\n",
    "        f.write(text_to_tex_str(text, typesettings=typesettings) + \"\\n\")\n",
    "    f.write(footer)"
   ]
  },
  {
   "cell_type": "markdown",
   "metadata": {},
   "source": [
    "## 下载"
   ]
  },
  {
   "cell_type": "code",
   "execution_count": 144,
   "metadata": {},
   "outputs": [],
   "source": [
    "import requests\n",
    "\n",
    "s = \"1c73b348-e8b6-47d6-84b0-6dbacbe28268\"\n",
    "url = f\"https://r3-ndr.ykt.cbern.com.cn/edu_product/esp/assets/{s}.pkg/pdf.pdf\"\n",
    "\n",
    "# r = requests.get(url)\n",
    "# open('sample.pdf', 'wb').write(r.content)"
   ]
  },
  {
   "cell_type": "code",
   "execution_count": 5,
   "metadata": {},
   "outputs": [],
   "source": [
    "url = r\"https://basic.smartedu.cn/tchMaterial\"\n",
    "\n",
    "r = requests.get(url)"
   ]
  },
  {
   "cell_type": "code",
   "execution_count": 17,
   "metadata": {},
   "outputs": [
    {
     "name": "stdout",
     "output_type": "stream",
     "text": [
      "Saving to D:/Documents/Projects/yuwen/src/小学/book_01.pdf\n",
      "Saving to D:/Documents/Projects/yuwen/src/小学/book_02.pdf\n",
      "Saving to D:/Documents/Projects/yuwen/src/小学/book_03.pdf\n",
      "Saving to D:/Documents/Projects/yuwen/src/小学/book_04.pdf\n",
      "Saving to D:/Documents/Projects/yuwen/src/小学/book_05.pdf\n",
      "Saving to D:/Documents/Projects/yuwen/src/小学/book_06.pdf\n",
      "Saving to D:/Documents/Projects/yuwen/src/小学/book_07.pdf\n",
      "Saving to D:/Documents/Projects/yuwen/src/小学/book_08.pdf\n",
      "Saving to D:/Documents/Projects/yuwen/src/小学/book_09.pdf\n",
      "Saving to D:/Documents/Projects/yuwen/src/小学/book_10.pdf\n",
      "Saving to D:/Documents/Projects/yuwen/src/小学/book_11.pdf\n",
      "Saving to D:/Documents/Projects/yuwen/src/小学/book_12.pdf\n",
      "Saving to D:/Documents/Projects/yuwen/src/小学/book_13.pdf\n"
     ]
    }
   ],
   "source": [
    "src = \"D:/Documents/Projects/yuwen/src/小学/\"\n",
    "\n",
    "with open(src + \"urlcode.txt\", \"r\") as f:\n",
    "    lines = f.readlines()\n",
    "\n",
    "for i, line in enumerate(lines):\n",
    "    idx = line.rstrip(\"\\n\")\n",
    "    out_filename = src + f\"book_{i+1:02d}.pdf\"\n",
    "    print(f\"Saving to {out_filename}\")\n",
    "    url = f\"https://r3-ndr.ykt.cbern.com.cn/edu_product/esp/assets/{idx}.pkg/pdf.pdf\"\n",
    "    r = requests.get(url)\n",
    "    open(out_filename, 'wb').write(r.content)"
   ]
  },
  {
   "cell_type": "code",
   "execution_count": 146,
   "metadata": {},
   "outputs": [
    {
     "name": "stdout",
     "output_type": "stream",
     "text": [
      "Dealing with: xiaoxueshuxue.\n",
      "D:/Documents/data/textbooks/xiaoxueshuxue\n",
      "D:/Documents/data/textbooks/xiaoxueshuxue doesn't exist.\n",
      "c3e06fe4-c6b3-49cb-8727-4f8ff69bbfbc\n",
      "Saving to D:/Documents/data/textbooks/xiaoxueshuxue\\renjiaoban_book_01.pdf\n",
      "6bf8ae7e-d987-40b4-8fb3-bbb98fcb50b5\n",
      "Saving to D:/Documents/data/textbooks/xiaoxueshuxue\\renjiaoban_book_02.pdf\n",
      "8cfc5a2a-425c-4b9a-a97c-e78d4a4c1e3a\n",
      "Saving to D:/Documents/data/textbooks/xiaoxueshuxue\\renjiaoban_book_03.pdf\n",
      "c1897b18-b302-4e8d-9fd4-40915c4b05c2\n",
      "Saving to D:/Documents/data/textbooks/xiaoxueshuxue\\renjiaoban_book_04.pdf\n",
      "33c8d495-9862-4e19-aab9-61d2af08608a\n",
      "Saving to D:/Documents/data/textbooks/xiaoxueshuxue\\renjiaoban_book_05.pdf\n",
      "8666a8bd-a0e7-49aa-ba07-bf419ceead24\n",
      "Saving to D:/Documents/data/textbooks/xiaoxueshuxue\\renjiaoban_book_06.pdf\n",
      "654e3d1e-c995-4340-81c5-abd7881d835b\n",
      "Saving to D:/Documents/data/textbooks/xiaoxueshuxue\\renjiaoban_book_07.pdf\n",
      "aa00ab9d-b343-4542-b16d-9c3900b3444b\n",
      "Saving to D:/Documents/data/textbooks/xiaoxueshuxue\\renjiaoban_book_08.pdf\n",
      "d0d6252f-2233-4f66-9ac9-440638d56fec\n",
      "Saving to D:/Documents/data/textbooks/xiaoxueshuxue\\renjiaoban_book_09.pdf\n",
      "83339b94-2b33-4a9b-ba0e-026b4fdd4f0e\n",
      "Saving to D:/Documents/data/textbooks/xiaoxueshuxue\\renjiaoban_book_10.pdf\n",
      "845136d4-e27b-4e7e-b9a9-00cadf4f9e20\n",
      "Saving to D:/Documents/data/textbooks/xiaoxueshuxue\\renjiaoban_book_11.pdf\n",
      "8e650f4c-e616-4699-ac0a-4911b22e2f2e\n",
      "Saving to D:/Documents/data/textbooks/xiaoxueshuxue\\renjiaoban_book_12.pdf\n"
     ]
    }
   ],
   "source": [
    "import os\n",
    "\n",
    "src = \"D:/Documents/data/textbooks/\"\n",
    "urls = os.path.join(src, \"urls\")\n",
    "\n",
    "# for x in (\"xiaoxueshuxue\", \"zhongxueyuwen\", \"zhongxueshuxue\"):\n",
    "for x in (\"xiaoxueshuxue\", ):\n",
    "    print(f\"Dealing with: {x}.\")\n",
    "    with open(os.path.join(urls, f\"{x}.txt\"), \"r\") as f:\n",
    "        lines = f.readlines()\n",
    "    # print(lines)\n",
    "    out_dir = os.path.join(src, x)\n",
    "    print(out_dir)\n",
    "\n",
    "    if not os.path.exists(out_dir):\n",
    "        print(out_dir, \"doesn\\'t exist.\")\n",
    "        os.mkdir(out_dir)\n",
    "    \n",
    "    i = 0\n",
    "    for line in lines:\n",
    "        if len(line) > 5:\n",
    "            if line.startswith(\">\"):\n",
    "                title = line[1:-1]\n",
    "                i = 0\n",
    "            else:\n",
    "                i += 1\n",
    "                idx = line.split(\"contentId=\")[1].split(\"&\")[0]\n",
    "                print(idx)\n",
    "                out_filename = os.path.join(out_dir, f\"{title}_book_{i:02d}.pdf\")\n",
    "                print(f\"Saving to {out_filename}\")\n",
    "                url = f\"https://r3-ndr.ykt.cbern.com.cn/edu_product/esp/assets/{idx}.pkg/pdf.pdf\"\n",
    "                r = requests.get(url)\n",
    "                open(out_filename, 'wb').write(r.content)"
   ]
  },
  {
   "cell_type": "code",
   "execution_count": 7,
   "metadata": {},
   "outputs": [
    {
     "name": "stdout",
     "output_type": "stream",
     "text": [
      "1 + 4 = 5\\quad \\qquad & \\quad \\qquad1 + 2 = 3\\quad \\qquad & \\quad \\qquad2 + 8 = 10 \\\\\n",
      "7 + 2 = 9\\quad \\qquad & \\quad \\qquad4 + 2 = 6\\quad \\qquad & \\quad \\qquad3 + 5 = 8 \\\\\n",
      "3 + 2 = 5\\quad \\qquad & \\quad \\qquad3 + 6 = 9\\quad \\qquad & \\quad \\qquad2 + 3 = 5 \\\\\n",
      "5 + 5 = 10\\quad \\qquad & \\quad \\qquad6 + 3 = 9\\quad \\qquad & \\quad \\qquad3 + 4 = 7 \\\\\n",
      "2 + 2 = 4\\quad \\qquad & \\quad \\qquad7 + 1 = 8\\quad \\qquad & \\quad \\qquad6 + 4 = 10 \\\\\n",
      "1 + 8 = 9\\quad \\qquad & \\quad \\qquad5 + 4 = 9\\quad \\qquad & \\quad \\qquad1 + 3 = 4 \\\\\n",
      "4 + 1 = 5\\quad \\qquad & \\quad \\qquad1 + 7 = 8\\quad \\qquad & \\quad \\qquad1 + 9 = 10 \\\\\n",
      "1 + 1 = 2\\quad \\qquad & \\quad \\qquad5 + 3 = 8\\quad \\qquad & \\quad \\qquad3 + 3 = 6 \\\\\n",
      "1 + 5 = 6\\quad \\qquad & \\quad \\qquad6 + 2 = 8\\quad \\qquad & \\quad \\qquad3 + 7 = 10 \\\\\n",
      "2 + 5 = 7\\quad \\qquad & \\quad \\qquad2 + 7 = 9\\quad \\qquad & \\quad \\qquad4 + 3 = 7 \\\\\n",
      "6 + 1 = 7\\quad \\qquad & \\quad \\qquad4 + 5 = 9\\quad \\qquad & \\quad \\qquad1 + 6 = 7 \\\\\n",
      "2 + 4 = 6\\quad \\qquad & \\quad \\qquad5 + 1 = 6\\quad \\qquad & \\quad \\qquad9 + 1 = 10 \\\\\n",
      "3 + 1 = 4\\quad \\qquad & \\quad \\qquad2 + 6 = 8\\quad \\qquad & \\quad \\qquad8 + 1 = 9 \\\\\n",
      "4 + 4 = 8\\quad \\qquad & \\quad \\qquad4 + 6 = 10\\quad \\qquad & \\quad \\qquad5 + 2 = 7 \\\\\n",
      "8 + 2 = 10\\quad \\qquad & \\quad \\qquad7 + 3 = 10\\quad \\qquad & \\quad \\qquad2 + 1 = 3 \\\\\n"
     ]
    }
   ],
   "source": [
    "suanshi111 = []\n",
    "\n",
    "for i in range(1, 10):\n",
    "    for j in range(1, 10):\n",
    "        if i + j <= 10:\n",
    "            suanshi111.append(f\"{i} + {j} = {i+j}\")\n",
    "\n",
    "import numpy as np\n",
    "\n",
    "# help(np.random.permutation)\n",
    "suanshi111 = np.random.permutation(suanshi111)\n",
    "\n",
    "c = 0\n",
    "pn = 3\n",
    "out = []\n",
    "hang = []\n",
    "for s in suanshi111:\n",
    "    hang.append(s)\n",
    "    c += 1\n",
    "    if c == pn:\n",
    "        out.append(\"\\quad \\qquad & \\quad \\qquad\".join(hang) + \" \\\\\\\\\")\n",
    "        hang = []\n",
    "        c = 0\n",
    "if len(hang):\n",
    "    out.append(\"\\quad \\quad &\\qquad  \\quad\".join(hang) + \" \\\\\\\\\")\n",
    "print(\"\\n\".join(out))\n",
    "        "
   ]
  },
  {
   "cell_type": "code",
   "execution_count": 13,
   "metadata": {},
   "outputs": [
    {
     "name": "stdout",
     "output_type": "stream",
     "text": [
      "\\dottedsquare + 1 = 4 \\quad & \\quad \\dottedsquare + 7 = 9 \\quad & \\quad \\dottedsquare + 4 = 10 \\quad & \\quad \\dottedsquare + 1 = 7  \\\\\n",
      "\\dottedsquare + 6 = 7 \\quad & \\quad \\dottedsquare + 2 = 7 \\quad & \\quad \\dottedsquare + 1 = 8 \\quad & \\quad \\dottedsquare + 5 = 8  \\\\\n",
      "\\dottedsquare + 6 = 10 \\quad & \\quad \\dottedsquare + 5 = 6 \\quad & \\quad \\dottedsquare + 2 = 6 \\quad & \\quad \\dottedsquare + 1 = 5  \\\\\n",
      "\\dottedsquare + 1 = 2 \\quad & \\quad \\dottedsquare + 8 = 10 \\quad & \\quad \\dottedsquare + 4 = 8 \\quad & \\quad \\dottedsquare + 5 = 10  \\\\\n",
      "\\dottedsquare + 4 = 5 \\quad & \\quad \\dottedsquare + 3 = 9 \\quad & \\quad \\dottedsquare + 7 = 8 \\quad & \\quad \\dottedsquare + 8 = 9  \\\\\n"
     ]
    }
   ],
   "source": [
    "suanshi111ex = []\n",
    "\n",
    "for i in range(1, 10):\n",
    "    for j in range(1, 10):\n",
    "        if i + j <= 10:\n",
    "            suanshi111ex.append(f\"\\dottedsquare + {j} = {i+j} \")\n",
    "            # suanshi111ex.append(f\"{i} + \\dottedsquare = {i+j} \")\n",
    "\n",
    "suanshi111ex = np.random.permutation(suanshi111ex)\n",
    "\n",
    "c = 0\n",
    "pn = 4\n",
    "nex = 20\n",
    "out = []\n",
    "hang = []\n",
    "for s in suanshi111ex[:nex]:\n",
    "    hang.append(s)\n",
    "    c += 1\n",
    "    if c == pn:\n",
    "        out.append(\"\\quad & \\quad \".join(hang) + \" \\\\\\\\\")\n",
    "        hang = []\n",
    "        c = 0\n",
    "if len(hang):\n",
    "    out.append(\"\\quad & \\quad \".join(hang) + \" \\\\\\\\\")\n",
    "print(\"\\n\".join(out))\n",
    "        "
   ]
  },
  {
   "cell_type": "code",
   "execution_count": 51,
   "metadata": {},
   "outputs": [
    {
     "name": "stdout",
     "output_type": "stream",
     "text": [
      "2 \\,\\,\\,\\; \\dottedsquare \\,\\,\\,\\; 5\\qquad & \\qquad 9 \\,\\,\\,\\; \\dottedsquare \\,\\,\\,\\; 3\\qquad & \\qquad 2 \\,\\,\\,\\; \\dottedsquare \\,\\,\\,\\; 8\\qquad & \\qquad 6 \\,\\,\\,\\; \\dottedsquare \\,\\,\\,\\; 1 \\\\\n",
      "2 \\,\\,\\,\\; \\dottedsquare \\,\\,\\,\\; 7\\qquad & \\qquad 6 \\,\\,\\,\\; \\dottedsquare \\,\\,\\,\\; 3\\qquad & \\qquad 3 \\,\\,\\,\\; \\dottedsquare \\,\\,\\,\\; 4\\qquad & \\qquad 3 \\,\\,\\,\\; \\dottedsquare \\,\\,\\,\\; 2 \\\\\n",
      "2 \\,\\,\\,\\; \\dottedsquare \\,\\,\\,\\; 1\\qquad & \\qquad 7 \\,\\,\\,\\; \\dottedsquare \\,\\,\\,\\; 3\\qquad & \\qquad 7 \\,\\,\\,\\; \\dottedsquare \\,\\,\\,\\; 5\\qquad & \\qquad 3 \\,\\,\\,\\; \\dottedsquare \\,\\,\\,\\; 8 \\\\\n",
      "5 \\,\\,\\,\\; \\dottedsquare \\,\\,\\,\\; 3\\qquad & \\qquad 1 \\,\\,\\,\\; \\dottedsquare \\,\\, 10\\qquad & \\qquad 9 \\,\\,\\,\\; \\dottedsquare \\,\\,\\,\\; 6\\qquad & \\qquad 6 \\,\\,\\,\\; \\dottedsquare \\,\\,\\,\\; 2 \\\\\n",
      "1 \\,\\,\\,\\; \\dottedsquare \\,\\,\\,\\; 5\\qquad & \\qquad 3 \\,\\,\\,\\; \\dottedsquare \\,\\,\\,\\; 7\\qquad & \\qquad 1 \\,\\,\\,\\; \\dottedsquare \\,\\,\\,\\; 9\\qquad & \\qquad 1 \\,\\,\\,\\; \\dottedsquare \\,\\,\\,\\; 3 \\\\\n",
      "4 \\,\\,\\,\\; \\dottedsquare \\,\\, 10\\qquad & \\qquad 7 \\,\\,\\,\\; \\dottedsquare \\,\\, 10\\qquad & \\qquad 7 \\,\\,\\,\\; \\dottedsquare \\,\\,\\,\\; 4\\qquad & \\qquad 4 \\,\\,\\,\\; \\dottedsquare \\,\\,\\,\\; 6 \\\\\n",
      "1 \\,\\,\\,\\; \\dottedsquare \\,\\,\\,\\; 7\\qquad & \\qquad 2 \\,\\,\\,\\; \\dottedsquare \\,\\,\\,\\; 3\\qquad & \\qquad 4 \\,\\,\\,\\; \\dottedsquare \\,\\,\\,\\; 9\\qquad & \\qquad 4 \\,\\,\\,\\; \\dottedsquare \\,\\,\\,\\; 7 \\\\\n"
     ]
    }
   ],
   "source": [
    "bishi111ex = []\n",
    "\n",
    "for i in range(1, 11):\n",
    "    for j in range(1, 11):\n",
    "        si = \"\\,\\,\"\n",
    "        sj = \"\\,\\,\"\n",
    "        if i < 10:\n",
    "            si += \"\\,\\;\"\n",
    "        if j < 10:\n",
    "            sj += \"\\,\\;\"\n",
    "        if i != j:\n",
    "            bishi111ex.append(f\"{i} {si} \\\\dottedsquare {sj} {j}\")\n",
    "\n",
    "bishi111ex = np.random.permutation(bishi111ex)\n",
    "\n",
    "c = 0\n",
    "pn = 4\n",
    "nex = 28\n",
    "out = []\n",
    "hang = []\n",
    "for s in bishi111ex[:nex]:\n",
    "    hang.append(s)\n",
    "    c += 1\n",
    "    if c == pn:\n",
    "        out.append(\"\\qquad & \\qquad \".join(hang) + \" \\\\\\\\\")\n",
    "        hang = []\n",
    "        c = 0\n",
    "if len(hang):\n",
    "    out.append(\"\\qquad & \\qquad \".join(hang) + \" \\\\\\\\\")\n",
    "print(\"\\n\".join(out))"
   ]
  },
  {
   "cell_type": "code",
   "execution_count": 49,
   "metadata": {},
   "outputs": [
    {
     "name": "stdout",
     "output_type": "stream",
     "text": [
      "7 \\,\\,\\,\\,\\, < \\,\\,\\,\\,\\, 9\\quad & \\quad 9 \\,\\,\\,\\,\\, > \\,\\,\\,\\,\\, 3\\quad & \\quad 2 \\,\\,\\,\\,\\, < \\,\\,\\,\\,\\, 4\\quad & \\quad 4 \\,\\,\\,\\,\\, > \\,\\,\\,\\,\\, 1\\quad & \\quad 8 \\,\\,\\,\\,\\, < \\,\\,\\, 10 \\\\\n",
      "8 \\,\\,\\,\\,\\, < \\,\\,\\,\\,\\, 9\\quad & \\quad 10 \\,\\,\\, > \\,\\,\\,\\,\\, 3\\quad & \\quad 6 \\,\\,\\,\\,\\, > \\,\\,\\,\\,\\, 1\\quad & \\quad 8 \\,\\,\\,\\,\\, > \\,\\,\\,\\,\\, 5\\quad & \\quad 6 \\,\\,\\,\\,\\, < \\,\\,\\,\\,\\, 9 \\\\\n",
      "7 \\,\\,\\,\\,\\, > \\,\\,\\,\\,\\, 6\\quad & \\quad 4 \\,\\,\\,\\,\\, < \\,\\,\\,\\,\\, 8\\quad & \\quad 5 \\,\\,\\,\\,\\, > \\,\\,\\,\\,\\, 2\\quad & \\quad 6 \\,\\,\\,\\,\\, > \\,\\,\\,\\,\\, 5\\quad & \\quad 10 \\,\\,\\, > \\,\\,\\,\\,\\, 7 \\\\\n",
      "1 \\,\\,\\,\\,\\, < \\,\\,\\,\\,\\, 8\\quad & \\quad 3 \\,\\,\\,\\,\\, < \\,\\,\\,\\,\\, 9\\quad & \\quad 7 \\,\\,\\,\\,\\, > \\,\\,\\,\\,\\, 2\\quad & \\quad 3 \\,\\,\\,\\,\\, < \\,\\,\\, 10\\quad & \\quad 2 \\,\\,\\,\\,\\, > \\,\\,\\,\\,\\, 1 \\\\\n",
      "8 \\,\\,\\,\\,\\, > \\,\\,\\,\\,\\, 2\\quad & \\quad 6 \\,\\,\\,\\,\\, < \\,\\,\\,\\,\\, 8\\quad & \\quad 2 \\,\\,\\,\\,\\, < \\,\\,\\,\\,\\, 9\\quad & \\quad 10 \\,\\,\\, > \\,\\,\\,\\,\\, 5\\quad & \\quad 5 \\,\\,\\,\\,\\, > \\,\\,\\,\\,\\, 4 \\\\\n",
      "8 \\,\\,\\,\\,\\, > \\,\\,\\,\\,\\, 3\\quad & \\quad 10 \\,\\,\\, > \\,\\,\\,\\,\\, 2\\quad & \\quad 2 \\,\\,\\,\\,\\, < \\,\\,\\,\\,\\, 8\\quad & \\quad 10 \\,\\,\\, > \\,\\,\\,\\,\\, 1\\quad & \\quad 3 \\,\\,\\,\\,\\, > \\,\\,\\,\\,\\, 1 \\\\\n",
      "8 \\,\\,\\,\\,\\, > \\,\\,\\,\\,\\, 7\\quad & \\quad 3 \\,\\,\\,\\,\\, < \\,\\,\\,\\,\\, 5\\quad & \\quad 1 \\,\\,\\,\\,\\, < \\,\\,\\,\\,\\, 9\\quad & \\quad 5 \\,\\,\\,\\,\\, < \\,\\,\\,\\,\\, 7\\quad & \\quad 6 \\,\\,\\,\\,\\, > \\,\\,\\,\\,\\, 4 \\\\\n",
      "7 \\,\\,\\,\\,\\, > \\,\\,\\,\\,\\, 3\\quad & \\quad 3 \\,\\,\\,\\,\\, < \\,\\,\\,\\,\\, 6\\quad & \\quad 4 \\,\\,\\,\\,\\, < \\,\\,\\,\\,\\, 9\\quad & \\quad 6 \\,\\,\\,\\,\\, < \\,\\,\\,\\,\\, 7\\quad & \\quad 7 \\,\\,\\,\\,\\, > \\,\\,\\,\\,\\, 5 \\\\\n",
      "5 \\,\\,\\,\\,\\, > \\,\\,\\,\\,\\, 3\\quad & \\quad 9 \\,\\,\\,\\,\\, > \\,\\,\\,\\,\\, 2\\quad & \\quad 9 \\,\\,\\,\\,\\, > \\,\\,\\,\\,\\, 5\\quad & \\quad 4 \\,\\,\\,\\,\\, < \\,\\,\\,\\,\\, 7\\quad & \\quad 2 \\,\\,\\,\\,\\, < \\,\\,\\,\\,\\, 3 \\\\\n",
      "3 \\,\\,\\,\\,\\, < \\,\\,\\,\\,\\, 7\\quad & \\quad 4 \\,\\,\\,\\,\\, < \\,\\,\\,\\,\\, 6\\quad & \\quad 1 \\,\\,\\,\\,\\, < \\,\\,\\,\\,\\, 7\\quad & \\quad 2 \\,\\,\\,\\,\\, < \\,\\,\\,\\,\\, 7\\quad & \\quad 9 \\,\\,\\,\\,\\, > \\,\\,\\,\\,\\, 4 \\\\\n",
      "5 \\,\\,\\,\\,\\, < \\,\\,\\,\\,\\, 6\\quad & \\quad 9 \\,\\,\\,\\,\\, > \\,\\,\\,\\,\\, 8\\quad & \\quad 8 \\,\\,\\,\\,\\, > \\,\\,\\,\\,\\, 1\\quad & \\quad 3 \\,\\,\\,\\,\\, < \\,\\,\\,\\,\\, 4\\quad & \\quad 4 \\,\\,\\,\\,\\, > \\,\\,\\,\\,\\, 2 \\\\\n",
      "4 \\,\\,\\,\\,\\, > \\,\\,\\,\\,\\, 3\\quad & \\quad 7 \\,\\,\\,\\,\\, < \\,\\,\\, 10\\quad & \\quad 6 \\,\\,\\,\\,\\, > \\,\\,\\,\\,\\, 2\\quad & \\quad 1 \\,\\,\\,\\,\\, < \\,\\,\\,\\,\\, 6\\quad & \\quad 3 \\,\\,\\,\\,\\, > \\,\\,\\,\\,\\, 2 \\\\\n",
      "2 \\,\\,\\,\\,\\, < \\,\\,\\,\\,\\, 5\\quad & \\quad 6 \\,\\,\\,\\,\\, < \\,\\,\\, 10\\quad & \\quad 1 \\,\\,\\,\\,\\, < \\,\\,\\, 10\\quad & \\quad 1 \\,\\,\\,\\,\\, < \\,\\,\\,\\,\\, 2\\quad & \\quad 1 \\,\\,\\,\\,\\, < \\,\\,\\,\\,\\, 5 \\\\\n",
      "8 \\,\\,\\,\\,\\, > \\,\\,\\,\\,\\, 6\\quad & \\quad 1 \\,\\,\\,\\,\\, < \\,\\,\\,\\,\\, 4\\quad & \\quad 7 \\,\\,\\,\\,\\, < \\,\\,\\,\\,\\, 8\\quad & \\quad 6 \\,\\,\\,\\,\\, > \\,\\,\\,\\,\\, 3\\quad & \\quad 10 \\,\\,\\, > \\,\\,\\,\\,\\, 4 \\\\\n",
      "8 \\,\\,\\,\\,\\, > \\,\\,\\,\\,\\, 4\\quad & \\quad 10 \\,\\,\\, > \\,\\,\\,\\,\\, 8\\quad & \\quad 5 \\,\\,\\,\\,\\, < \\,\\,\\,\\,\\, 9\\quad & \\quad 9 \\,\\,\\,\\,\\, > \\,\\,\\,\\,\\, 6\\quad & \\quad 10 \\,\\,\\, > \\,\\,\\,\\,\\, 6 \\\\\n",
      "1 \\,\\,\\,\\,\\, < \\,\\,\\,\\,\\, 3\\quad & \\quad 3 \\,\\,\\,\\,\\, < \\,\\,\\,\\,\\, 8\\quad & \\quad 2 \\,\\,\\,\\,\\, < \\,\\,\\, 10\\quad & \\quad 5 \\,\\,\\,\\,\\, < \\,\\,\\, 10\\quad & \\quad 9 \\,\\,\\,\\,\\, > \\,\\,\\,\\,\\, 1 \\\\\n",
      "7 \\,\\,\\,\\,\\, > \\,\\,\\,\\,\\, 1\\quad & \\quad 5 \\,\\,\\,\\,\\, > \\,\\,\\,\\,\\, 1\\quad & \\quad 10 \\,\\,\\, > \\,\\,\\,\\,\\, 9\\quad & \\quad 4 \\,\\,\\,\\,\\, < \\,\\,\\, 10\\quad & \\quad 9 \\,\\,\\,\\,\\, < \\,\\,\\, 10 \\\\\n",
      "2 \\,\\,\\,\\,\\, < \\,\\,\\,\\,\\, 6\\quad & \\quad 7 \\,\\,\\,\\,\\, > \\,\\,\\,\\,\\, 4\\quad & \\quad 5 \\,\\,\\,\\,\\, < \\,\\,\\,\\,\\, 8\\quad & \\quad 4 \\,\\,\\,\\,\\, < \\,\\,\\,\\,\\, 5\\quad & \\quad 9 \\,\\,\\,\\,\\, > \\,\\,\\,\\,\\, 7 \\\\\n"
     ]
    }
   ],
   "source": [
    "bishi111 = []\n",
    "\n",
    "for i in range(1, 11):\n",
    "    for j in range(1, 11):\n",
    "        si = \"\\,\\,\\,\"\n",
    "        sj = \"\\,\\,\\,\"\n",
    "        if i < 10:\n",
    "            si += \"\\,\\,\"\n",
    "        if j < 10:\n",
    "            sj += \"\\,\\,\"\n",
    "        if i < j:\n",
    "            bishi111.append(f\"{i} {si} < {sj} {j}\")\n",
    "        if i > j:\n",
    "            bishi111.append(f\"{i} {si} > {sj} {j}\")\n",
    "\n",
    "bishi111 = np.random.permutation(bishi111)\n",
    "\n",
    "c = 0\n",
    "pn = 5\n",
    "out = []\n",
    "hang = []\n",
    "for s in bishi111:\n",
    "    hang.append(s)\n",
    "    c += 1\n",
    "    if c == pn:\n",
    "        out.append(\"\\quad & \\quad \".join(hang) + \" \\\\\\\\\")\n",
    "        hang = []\n",
    "        c = 0\n",
    "if len(hang):\n",
    "    out.append(\"\\quad & \\quad \".join(hang) + \" \\\\\\\\\")\n",
    "print(\"\\n\".join(out))"
   ]
  },
  {
   "cell_type": "code",
   "execution_count": 20,
   "metadata": {},
   "outputs": [
    {
     "name": "stdout",
     "output_type": "stream",
     "text": [
      "\\begin{abox}{1.2cm}10\\end{abox} \\begin{abox}{1.2cm}11\\end{abox} \\begin{abox}{1.2cm}12\\end{abox} \\begin{abox}{1.2cm}13\\end{abox} \\begin{abox}{1.2cm}14\\end{abox} \\begin{abox}{1.2cm}15\\end{abox} \\begin{abox}{1.2cm}16\\end{abox} \\begin{abox}{1.2cm}17\\end{abox} \\begin{abox}{1.2cm}18\\end{abox} \\begin{abox}{1.2cm}19\\end{abox}\n",
      "\n",
      "\\vspace{0.2cm}\n",
      "\n",
      "\\begin{abox}{1.2cm}20\\end{abox} \\begin{abox}{1.2cm}21\\end{abox} \\begin{abox}{1.2cm}22\\end{abox} \\begin{abox}{1.2cm}23\\end{abox} \\begin{abox}{1.2cm}24\\end{abox} \\begin{abox}{1.2cm}25\\end{abox} \\begin{abox}{1.2cm}26\\end{abox} \\begin{abox}{1.2cm}27\\end{abox} \\begin{abox}{1.2cm}28\\end{abox} \\begin{abox}{1.2cm}29\\end{abox}\n",
      "\n",
      "\\vspace{0.2cm}\n",
      "\n",
      "\\begin{abox}{1.2cm}30\\end{abox} \\begin{abox}{1.2cm}31\\end{abox} \\begin{abox}{1.2cm}32\\end{abox} \\begin{abox}{1.2cm}33\\end{abox} \\begin{abox}{1.2cm}34\\end{abox} \\begin{abox}{1.2cm}35\\end{abox} \\begin{abox}{1.2cm}36\\end{abox} \\begin{abox}{1.2cm}37\\end{abox} \\begin{abox}{1.2cm}38\\end{abox} \\begin{abox}{1.2cm}39\\end{abox}\n",
      "\n",
      "\\vspace{0.2cm}\n",
      "\n",
      "\\begin{abox}{1.2cm}40\\end{abox} \\begin{abox}{1.2cm}41\\end{abox} \\begin{abox}{1.2cm}42\\end{abox} \\begin{abox}{1.2cm}43\\end{abox} \\begin{abox}{1.2cm}44\\end{abox} \\begin{abox}{1.2cm}45\\end{abox} \\begin{abox}{1.2cm}46\\end{abox} \\begin{abox}{1.2cm}47\\end{abox} \\begin{abox}{1.2cm}48\\end{abox} \\begin{abox}{1.2cm}49\\end{abox}\n",
      "\n",
      "\\vspace{0.2cm}\n",
      "\n",
      "\\begin{abox}{1.2cm}50\\end{abox} \\begin{abox}{1.2cm}51\\end{abox} \\begin{abox}{1.2cm}52\\end{abox} \\begin{abox}{1.2cm}53\\end{abox} \\begin{abox}{1.2cm}54\\end{abox} \\begin{abox}{1.2cm}55\\end{abox} \\begin{abox}{1.2cm}56\\end{abox} \\begin{abox}{1.2cm}57\\end{abox} \\begin{abox}{1.2cm}58\\end{abox} \\begin{abox}{1.2cm}59\\end{abox}\n"
     ]
    }
   ],
   "source": [
    "s = []\n",
    "for i in range(1, 6):\n",
    "    s1 = []\n",
    "    for j in range(10):\n",
    "        s1.append(\"\\\\begin{abox}{1.2cm}\" + str(10*i+j) + \"\\\\end{abox}\")\n",
    "    s.append(\" \".join(s1))\n",
    "\n",
    "print(\"\\n\\n\\\\vspace{0.2cm}\\n\\n\".join(s))"
   ]
  },
  {
   "cell_type": "code",
   "execution_count": 42,
   "metadata": {},
   "outputs": [
    {
     "name": "stdout",
     "output_type": "stream",
     "text": [
      "34 + 41 = \\dottedsquare \\dottedsquare  & 36 + 57 = \\dottedsquare \\dottedsquare  & 16 + 15 = \\dottedsquare \\dottedsquare  & 22 + 45 = \\dottedsquare \\dottedsquare  \\\\\n",
      "60 + 18 = \\dottedsquare \\dottedsquare  & 38 + 57 = \\dottedsquare \\dottedsquare  & 38 + 28 = \\dottedsquare \\dottedsquare  & 65 + 10 = \\dottedsquare \\dottedsquare  \\\\\n",
      "47 + 49 = \\dottedsquare \\dottedsquare  & 13 + 83 = \\dottedsquare \\dottedsquare  & 20 + 11 = \\dottedsquare \\dottedsquare  & 57 + 37 = \\dottedsquare \\dottedsquare  \\\\\n",
      "18 + 59 = \\dottedsquare \\dottedsquare  & 75 + 14 = \\dottedsquare \\dottedsquare  & 16 + 63 = \\dottedsquare \\dottedsquare  & 57 + 38 = \\dottedsquare \\dottedsquare  \\\\\n",
      "32 + 48 = \\dottedsquare \\dottedsquare  & 45 + 48 = \\dottedsquare \\dottedsquare  & 61 + 38 = \\dottedsquare \\dottedsquare  & 31 + 14 = \\dottedsquare \\dottedsquare  \\\\\n",
      "60 + 29 = \\dottedsquare \\dottedsquare  & 29 + 56 = \\dottedsquare \\dottedsquare  & 58 + 12 = \\dottedsquare \\dottedsquare  & 28 + 69 = \\dottedsquare \\dottedsquare  \\\\\n",
      "16 + 75 = \\dottedsquare \\dottedsquare  & 70 + 24 = \\dottedsquare \\dottedsquare  & 17 + 42 = \\dottedsquare \\dottedsquare  & 50 + 10 = \\dottedsquare \\dottedsquare  \\\\\n",
      "51 + 38 = \\dottedsquare \\dottedsquare  & 59 + 18 = \\dottedsquare \\dottedsquare  & 42 + 21 = \\dottedsquare \\dottedsquare  & 35 + 46 = \\dottedsquare \\dottedsquare  \\\\\n",
      "38 + 26 = \\dottedsquare \\dottedsquare  & 32 + 51 = \\dottedsquare \\dottedsquare  & 36 + 42 = \\dottedsquare \\dottedsquare  & 68 + 18 = \\dottedsquare \\dottedsquare  \\\\\n",
      "23 + 13 = \\dottedsquare \\dottedsquare  & 43 + 41 = \\dottedsquare \\dottedsquare  & 75 + 17 = \\dottedsquare \\dottedsquare  & 19 + 25 = \\dottedsquare \\dottedsquare  \\\\\n",
      "\n",
      " a\n"
     ]
    }
   ],
   "source": [
    "suanshi112ex = []\n",
    "\n",
    "for i in range(10, 100):\n",
    "    for j in range(10, 100):\n",
    "        if i + j < 100:\n",
    "            suanshi112ex.append(f\"{i} + {j} = \\dottedsquare \\dottedsquare \")\n",
    "            # suanshi112ex.append(f\"\\dottedsquare \\dottedsquare + {j} = {i+j} \")\n",
    "            # suanshi112ex.append(f\"{i} + \\dottedsquare \\dottedsquare = {i+j} \")\n",
    "            # suanshi111ex.append(f\"{i} + \\dottedsquare = {i+j} \")\n",
    "\n",
    "suanshi112ex = np.random.permutation(suanshi112ex)\n",
    "\n",
    "c = 0\n",
    "pn = 4\n",
    "nex = 40\n",
    "out = []\n",
    "hang = []\n",
    "for s in suanshi112ex[:nex]:\n",
    "    hang.append(s)\n",
    "    c += 1\n",
    "    if c == pn:\n",
    "        out.append(\" & \".join(hang) + \" \\\\\\\\\")\n",
    "        hang = []\n",
    "        c = 0\n",
    "if len(hang):\n",
    "    out.append(\"\\; & \\; \".join(hang) + \" \\\\\\\\\")\n",
    "print(\"\\n\".join(out) + \"\\n\\n a\")\n",
    "        "
   ]
  },
  {
   "cell_type": "code",
   "execution_count": 113,
   "metadata": {},
   "outputs": [
    {
     "data": {
      "text/plain": [
       "7.2"
      ]
     },
     "execution_count": 113,
     "metadata": {},
     "output_type": "execute_result"
    }
   ],
   "source": [
    "j * t"
   ]
  },
  {
   "cell_type": "code",
   "execution_count": 109,
   "metadata": {},
   "outputs": [
    {
     "name": "stdout",
     "output_type": "stream",
     "text": [
      "255 136 111\n",
      "255 172 111\n",
      "237 213 137\n",
      "212 238 162\n",
      "187 238 187\n",
      "162 217 212\n",
      "137 187 237\n",
      "111 159 255\n",
      "111 138 255\n"
     ]
    }
   ],
   "source": [
    "lda = 5\n",
    "for i in range(1, 10):\n",
    "    # print(int(20*lda*np.exp(-lda)*lda**i / np.math.factorial(i)))\n",
    "    # print(min(20, max(0, - 8 + 3.5 * (10 - i))))\n",
    "    # print(int(max(20, min(0, - 5 + (1 + k) * i))))\n",
    "    # print(255 - abs(20 - int(25*lda*np.exp(-lda)*lda**i / np.math.factorial(i))))\n",
    "    print(255 - int(bo * (10 - j)) - int(min(20, max(0, - 8 + 3.5 * i)) * j * t), 255 - int(bo * (10 - j)) - int(abs(20 - 20 * lda * np.exp(-lda)*lda**i / np.math.factorial(i)) * j * t), 255 - int(bo * (10 - j)) - int(min(20, max(0, - 8 + 3.5 * (10 - i))) * j * t))"
   ]
  },
  {
   "cell_type": "code",
   "execution_count": 107,
   "metadata": {},
   "outputs": [
    {
     "name": "stdout",
     "output_type": "stream",
     "text": [
      "\n",
      "\n",
      "1 & \\cellcolor[RGB]{252,239,236}\\phantom{0}1 & \\cellcolor[RGB]{252,243,236}\\phantom{0}2 & \\cellcolor[RGB]{250,248,239}\\phantom{0}3 & \\cellcolor[RGB]{248,251,242}\\phantom{0}4 & \\cellcolor[RGB]{245,251,245}\\phantom{0}5 & \\cellcolor[RGB]{242,248,248}\\phantom{0}6 & \\cellcolor[RGB]{239,245,250}\\phantom{0}7 & \\cellcolor[RGB]{236,242,252}\\phantom{0}8 & \\cellcolor[RGB]{236,239,252}\\phantom{0}9\\\\\n",
      "\\hline\n",
      "2 & \\cellcolor[RGB]{252,226,220}\\phantom{0}2 & \\cellcolor[RGB]{252,234,220}\\phantom{0}4 & \\cellcolor[RGB]{248,243,226}\\phantom{0}6 & \\cellcolor[RGB]{243,249,232}\\phantom{0}8 & \\cellcolor[RGB]{237,249,237}10 & \\cellcolor[RGB]{232,244,243}12 & \\cellcolor[RGB]{226,237,248}14 & \\cellcolor[RGB]{220,231,252}16 & \\cellcolor[RGB]{220,226,252}18\\\\\n",
      "\\hline\n",
      "3 & \\cellcolor[RGB]{253,214,205}\\phantom{0}3 & \\cellcolor[RGB]{253,226,205}\\phantom{0}6 & \\cellcolor[RGB]{247,239,214}\\phantom{0}9 & \\cellcolor[RGB]{239,248,222}12 & \\cellcolor[RGB]{231,248,231}15 & \\cellcolor[RGB]{222,241,239}18 & \\cellcolor[RGB]{214,231,247}21 & \\cellcolor[RGB]{205,221,253}24 & \\cellcolor[RGB]{205,214,253}27\\\\\n",
      "\\hline\n",
      "4 & \\cellcolor[RGB]{253,200,189}\\phantom{0}4 & \\cellcolor[RGB]{253,216,189}\\phantom{0}8 & \\cellcolor[RGB]{245,234,201}12 & \\cellcolor[RGB]{234,246,212}16 & \\cellcolor[RGB]{223,246,223}20 & \\cellcolor[RGB]{212,236,234}24 & \\cellcolor[RGB]{201,223,245}28 & \\cellcolor[RGB]{189,210,253}32 & \\cellcolor[RGB]{189,201,253}36\\\\\n",
      "\\hline\n",
      "5 & \\cellcolor[RGB]{253,187,173}\\phantom{0}5 & \\cellcolor[RGB]{253,207,173}10 & \\cellcolor[RGB]{243,230,187}15 & \\cellcolor[RGB]{229,244,201}20 & \\cellcolor[RGB]{215,244,215}25 & \\cellcolor[RGB]{201,232,229}30 & \\cellcolor[RGB]{187,215,243}35 & \\cellcolor[RGB]{173,200,253}40 & \\cellcolor[RGB]{173,188,253}45\\\\\n",
      "\\hline\n",
      "6 & \\cellcolor[RGB]{254,175,158}\\phantom{0}6 & \\cellcolor[RGB]{254,199,158}12 & \\cellcolor[RGB]{242,226,175}18 & \\cellcolor[RGB]{226,243,192}24 & \\cellcolor[RGB]{209,243,209}30 & \\cellcolor[RGB]{192,229,226}36 & \\cellcolor[RGB]{175,209,242}42 & \\cellcolor[RGB]{158,190,254}48 & \\cellcolor[RGB]{158,176,254}54\\\\\n",
      "\\hline\n",
      "7 & \\cellcolor[RGB]{254,161,142}\\phantom{0}7 & \\cellcolor[RGB]{254,190,142}14 & \\cellcolor[RGB]{240,221,162}21 & \\cellcolor[RGB]{221,241,182}28 & \\cellcolor[RGB]{201,241,201}35 & \\cellcolor[RGB]{182,224,221}42 & \\cellcolor[RGB]{162,201,240}49 & \\cellcolor[RGB]{142,179,254}56 & \\cellcolor[RGB]{142,163,254}63\\\\\n",
      "\\hline\n",
      "8 & \\cellcolor[RGB]{255,149,127}\\phantom{0}8 & \\cellcolor[RGB]{255,181,127}16 & \\cellcolor[RGB]{239,217,150}24 & \\cellcolor[RGB]{217,240,172}32 & \\cellcolor[RGB]{195,240,195}40 & \\cellcolor[RGB]{172,221,217}48 & \\cellcolor[RGB]{150,194,239}56 & \\cellcolor[RGB]{127,169,255}64 & \\cellcolor[RGB]{127,151,255}72\\\\\n",
      "\\hline\n",
      "9 & \\cellcolor[RGB]{255,136,111}\\phantom{0}9 & \\cellcolor[RGB]{255,172,111}18 & \\cellcolor[RGB]{237,213,137}27 & \\cellcolor[RGB]{212,238,162}36 & \\cellcolor[RGB]{187,238,187}45 & \\cellcolor[RGB]{162,217,212}54 & \\cellcolor[RGB]{137,187,237}63 & \\cellcolor[RGB]{111,159,255}72 & \\cellcolor[RGB]{111,138,255}81\\\\\n",
      "\\hline\n"
     ]
    }
   ],
   "source": [
    "k = 1.4\n",
    "t = 0.8\n",
    "bo = 0.4\n",
    "lda = 5\n",
    "st = []\n",
    "for j in range(1, 10):\n",
    "    sc = [str(j)]\n",
    "    for i in range(1, 10):\n",
    "        nr = 255 - int(bo * (10 - j)) - int(min(20, max(0, - 8 + 3.5 * i)) * j * t)\n",
    "        ng = 255 - int(bo * (10 - j)) - int(abs(20 - 20 * lda * np.exp(-lda)*lda**i / np.math.factorial(i)) * j * t)\n",
    "        nb = 255 - int(bo * (10 - j)) - int(min(20, max(0, - 8 + 3.5 * (10 - i))) * j * t)\n",
    "        bulin = \"\"\n",
    "        if i * j < 10:\n",
    "            bulin = \"\\\\phantom{0}\"\n",
    "        sc.append(\"\\\\cellcolor[RGB]{\"+f\"{nr},{ng},{nb}\"+\"}\"+bulin+str(i * j))\n",
    "    st.append(\" & \".join(sc) + \"\\\\\\\\\\n\")\n",
    "print(\"\\n\\n\"+\"\\hline\\n\".join(st)+\"\\\\hline\")"
   ]
  },
  {
   "cell_type": "code",
   "execution_count": 142,
   "metadata": {},
   "outputs": [
    {
     "name": "stdout",
     "output_type": "stream",
     "text": [
      "{ p{5em} p{5em} p{5em} p{5em} p{5em} p{5em} p{5em} p{5em} p{5em}}\n",
      "    \\texttt{一一得一} & \\texttt{一二得二} & \\texttt{一三得三} & \\texttt{一四得四} & \\texttt{一五得五}\\\\\n",
      "    \\texttt{一六得六} & \\texttt{一七得七} & \\texttt{一八得八} & \\texttt{一九得九} & \\\\\n",
      "    \\texttt{二一得二} & \\texttt{二二得四} & \\texttt{二三得六} & \\texttt{二四得八} & \\texttt{二五一十}\\\\\n",
      "    \\texttt{二六一十二} & \\texttt{二七一十四} & \\texttt{二八一十六} & \\texttt{二九一十八} & \\\\\n",
      "    \\texttt{三一得三} & \\texttt{三二得六} & \\texttt{三三得九} & \\texttt{三四一十二} & \\texttt{三五一十五}\\\\\n",
      "    \\texttt{三六一十八} & \\texttt{三七二十一} & \\texttt{三八二十四} & \\texttt{三九二十七} & \\\\\n",
      "    \\texttt{四一得四} & \\texttt{四二得八} & \\texttt{四三一十二} & \\texttt{四四一十六} & \\texttt{四五二十}\\\\\n",
      "    \\texttt{四六二十四} & \\texttt{四七二十八} & \\texttt{四八三十二} & \\texttt{四九三十六} & \\\\\n",
      "    \\texttt{五一得五} & \\texttt{五二一十} & \\texttt{五三一十五} & \\texttt{五四二十} & \\texttt{五五二十五}\\\\\n",
      "    \\texttt{五六三十} & \\texttt{五七三十五} & \\texttt{五八四十} & \\texttt{五九四十五} & \\\\\n",
      "    \\texttt{六一得六} & \\texttt{六二一十二} & \\texttt{六三一十八} & \\texttt{六四二十四} & \\texttt{六五三十}\\\\\n",
      "    \\texttt{六六三十六} & \\texttt{六七四十二} & \\texttt{六八四十八} & \\texttt{六九五十四} & \\\\\n",
      "    \\texttt{七一得七} & \\texttt{七二一十四} & \\texttt{七三二十一} & \\texttt{七四二十八} & \\texttt{七五三十五}\\\\\n",
      "    \\texttt{七六四十二} & \\texttt{七七四十九} & \\texttt{七八五十六} & \\texttt{七九六十三} & \\\\\n",
      "    \\texttt{八一得八} & \\texttt{八二一十六} & \\texttt{八三二十四} & \\texttt{八四三十二} & \\texttt{八五四十}\\\\\n",
      "    \\texttt{八六四十八} & \\texttt{八七五十六} & \\texttt{八八六十四} & \\texttt{八九七十二} & \\\\\n",
      "    \\texttt{九一得九} & \\texttt{九二一十八} & \\texttt{九三二十七} & \\texttt{九四三十六} & \\texttt{九五四十五}\\\\\n",
      "    \\texttt{九六五十四} & \\texttt{九七六十三} & \\texttt{九八七十二} & \\texttt{九九八十一} & \\\\\n",
      "\n",
      "\n"
     ]
    }
   ],
   "source": [
    "st = []\n",
    "for j in range(1, 10):\n",
    "    sc = []\n",
    "    for i in range(1, 10):\n",
    "        de = \"\"\n",
    "        bulin = \"\"\n",
    "        ji = i * j\n",
    "        ji1 = ji % 10\n",
    "        ji2 = ji // 10\n",
    "        ji2_str = 数转中[ji2] + \"十\"\n",
    "        if ji2 < 1:\n",
    "            de = \"得\"\n",
    "            ji2_str = \"\"\n",
    "        # if ji2 < 2:\n",
    "        #     ji2_str = \"十\"\n",
    "        #     bulin =  \"\\\\phantom{十}\"\n",
    "        # else:\n",
    "        ji1_str = 数转中[ji1]\n",
    "        if ji1 < 1:\n",
    "            ji1_str = \"\"\n",
    "        txt = f\"{数转中[j]}{数转中[i]}{de}{ji2_str}{ji1_str}{bulin}\"\n",
    "        sc.append(\"\\\\texttt{\" + txt + \"}\")\n",
    "    st.append(\"    \" + \" & \".join(sc[:5]) + \"\\\\\\\\\")\n",
    "    st.append(\"    \" + \" & \".join(sc[5:]) + \" & \\\\\\\\\")\n",
    "\n",
    "ncol = 5\n",
    "nem = 5\n",
    "header = [\"p{\"+str(nem)+\"em}\"] * 9\n",
    "print(\"{ \" + \" \".join(header) + \"}\\n\"+\"\\n\".join(st) + \"\\n\\n\")"
   ]
  },
  {
   "cell_type": "code",
   "execution_count": 154,
   "metadata": {},
   "outputs": [
    {
     "name": "stdout",
     "output_type": "stream",
     "text": [
      "5 1.25 1.265625 1.2578125 1.2599 63.49%\n"
     ]
    }
   ],
   "source": [
    "x1 = 1\n",
    "x2 = 2\n",
    "bar = 0.02\n",
    "f = lambda x : x * x * x - 2\n",
    "\n",
    "lb = x1\n",
    "ub = x2\n",
    "for i in range(10):\n",
    "    mid = (lb + ub) / 2\n",
    "    if f(mid) < 0:\n",
    "        lb = mid\n",
    "    else:\n",
    "        ub = mid\n",
    "    if ub - lb < bar:\n",
    "        break\n",
    "\n",
    "r = 2 ** (1/3)\n",
    "mid = (lb + ub) / 2\n",
    "t = (r - lb) / (ub - lb) * 100\n",
    "print(i, lb, ub, mid, f\"{r:0.4f}\", f\"{t:0.2f}%\")"
   ]
  },
  {
   "cell_type": "code",
   "execution_count": null,
   "metadata": {},
   "outputs": [],
   "source": [
    "y = x^3 - 2\n",
    "y = 3a^2 (x - a) + a^3 - 2 = 0\n",
    "x = a - (a^3 - 2) / 3a^2\n",
    "  = (3a^3 - a^3 + 2) / 3a^2\n",
    "  = 2(a^3 + 1) / 3a^2"
   ]
  },
  {
   "cell_type": "code",
   "execution_count": 156,
   "metadata": {},
   "outputs": [
    {
     "name": "stdout",
     "output_type": "stream",
     "text": [
      "0 2\n",
      "1 1.5\n",
      "2 1.2962962962962963\n",
      "3 1.2609322247417485\n",
      "4 1.2599218605659261\n",
      "5 1.2599210498953948\n",
      "6 1.259921049894873\n",
      "7 1.2599210498948732\n",
      "8 1.259921049894873\n",
      "9 1.2599210498948732\n"
     ]
    }
   ],
   "source": [
    "nt = lambda x : 2 * (x ** 3 + 1) / (3 * x ** 2)\n",
    "\n",
    "x_0 = 2\n",
    "a = x_0\n",
    "for i in range(10):\n",
    "    print(i, a)\n",
    "    a = nt(a)"
   ]
  },
  {
   "cell_type": "code",
   "execution_count": 159,
   "metadata": {},
   "outputs": [
    {
     "data": {
      "text/plain": [
       "0.6434300411290248"
      ]
     },
     "execution_count": 159,
     "metadata": {},
     "output_type": "execute_result"
    }
   ],
   "source": [
    "abs(2 ** (1/3) - 1.2599218605659261) / 2 ** (1/3) * 1000000"
   ]
  },
  {
   "cell_type": "code",
   "execution_count": 172,
   "metadata": {},
   "outputs": [
    {
     "data": {
      "text/plain": [
       "array([5.23931447, 5.23976633, 5.24012848, 5.24017381, 5.24020103,\n",
       "       5.2402101 , 5.24021464])"
      ]
     },
     "execution_count": 172,
     "metadata": {},
     "output_type": "execute_result"
    }
   ],
   "source": [
    "def dint(a, b, f, ns):\n",
    "    if not hasattr(ns, \"__iter__\"):\n",
    "        ns = [ns]\n",
    "    # 定积分\n",
    "    ss = []\n",
    "    for n in ns:\n",
    "        dt = (b - a) / n\n",
    "        s = 0\n",
    "        for i in range(n):\n",
    "            s += f(a + i*dt) * dt\n",
    "        ss.append(s)\n",
    "    if len(ss) == 1:\n",
    "        ss = ss[0]\n",
    "    return np.array(ss)\n",
    "\n",
    "a = 0\n",
    "b = 6\n",
    "f = lambda x: 4 + np.sin(2 + x + np.sqrt(x)) * 0.5 + 0.4 * x - 0.2 * np.cos(0.7 * x)\n",
    "n = [1000, 2000, 10000, 20000, 50000, 100000, 200000]\n",
    "\n",
    "dint(a, b, f, n) / (b - a)\n"
   ]
  },
  {
   "cell_type": "code",
   "execution_count": 184,
   "metadata": {},
   "outputs": [
    {
     "data": {
      "text/plain": [
       "(38400, 4224000, 92160000)"
      ]
     },
     "execution_count": 184,
     "metadata": {},
     "output_type": "execute_result"
    }
   ],
   "source": [
    "a = 160\n",
    "b = 60\n",
    "r = 240\n",
    "\n",
    "4*a*b , 2 * a * b * (a + b), a ** 2 * b ** 2\n",
    "# r ** 4 - 4*a*b * r ** 2 - 2 * a * b * (a + b) * r - a ** 2 * b ** 2"
   ]
  },
  {
   "cell_type": "code",
   "execution_count": 191,
   "metadata": {},
   "outputs": [
    {
     "data": {
      "text/plain": [
       "3104000"
      ]
     },
     "execution_count": 191,
     "metadata": {},
     "output_type": "execute_result"
    }
   ],
   "source": [
    "# a^4 - 38400a^2 - 4224000 a - 92160000\n",
    "# 4a^3 - 76800 a - 4224000\n",
    "f = lambda a: a ** 3 - 19200 * a - 1056000\n",
    "g = lambda a: a ** 2 - 6400\n",
    "f(200)"
   ]
  },
  {
   "cell_type": "code",
   "execution_count": 258,
   "metadata": {},
   "outputs": [
    {
     "data": {
      "text/plain": [
       "(0.0, array([], dtype=float64))"
      ]
     },
     "execution_count": 258,
     "metadata": {},
     "output_type": "execute_result"
    }
   ],
   "source": [
    "def horner(a, x):\n",
    "    n = len(a)\n",
    "    b = np.zeros_like(a, dtype=float)\n",
    "    t = 0\n",
    "    for i in range(n):     \n",
    "        t = a[i] + t * x\n",
    "        # print(i, t)   \n",
    "        b[i] = t\n",
    "    # print(b)\n",
    "    return b[-1], b[:-1]\n",
    "\n",
    "horner(np.array([0]), 1)"
   ]
  },
  {
   "cell_type": "code",
   "execution_count": 266,
   "metadata": {},
   "outputs": [
    {
     "name": "stdout",
     "output_type": "stream",
     "text": [
      "not bad root 1...\n",
      "not bad root 2...\n",
      "Fail to converge in search of root no. 3 within 0.0001 after 1000 iterations.\n",
      "From 0.000 to -153.931, poly value: 14935.466\n"
     ]
    },
    {
     "data": {
      "text/plain": [
       "(array([[-29.603158],\n",
       "        [240.      ],\n",
       "        [  0.      ],\n",
       "        [  0.      ]]),\n",
       " array([[ 5.],\n",
       "        [18.],\n",
       "        [ 0.],\n",
       "        [ 0.]]),\n",
       " array([1.00000000e+00, 2.10396842e+02, 1.29715890e+04]))"
      ]
     },
     "execution_count": 266,
     "metadata": {},
     "output_type": "execute_result"
    }
   ],
   "source": [
    "def NewtonHorner(a, x0=0, tol=0.0001, nmax=100, aim=\"all\"):\n",
    "    n = len(a) - 1\n",
    "    roots = np.zeros((n, 1))\n",
    "    iter = np.zeros((n, 1))\n",
    "    rest = []\n",
    "\n",
    "    i = 0\n",
    "    while i < n:\n",
    "        j = 0\n",
    "        xn = x0\n",
    "        diff = tol + 1\n",
    "        while j < nmax and abs(diff) >= tol:\n",
    "            f, b = horner(a, xn)\n",
    "            fp, _ = horner(b, xn)\n",
    "            diff = - f / fp\n",
    "            xn += diff\n",
    "            j += 1\n",
    "\n",
    "        if j == nmax:\n",
    "            print(f'Fail to converge in search of root no. {i+1} within {tol:0.4f} after {nmax} iterations.')\n",
    "            print(f\"From {x0:0.3f} to {xn:0.3f}, poly value: {f:0.3f}\")\n",
    "            rest = a\n",
    "            break\n",
    "\n",
    "        if aim == \"one\":\n",
    "            return xn, j\n",
    "        \n",
    "        v = 0\n",
    "        while abs(v) < tol:\n",
    "            v, _ = horner(a, xn)\n",
    "            if abs(v) < tol:\n",
    "                print(f\"not bad root {i+1}...\")\n",
    "                v, a = horner(a, xn)\n",
    "                roots[i] = xn\n",
    "                iter[i] = j\n",
    "                i += 1\n",
    "        if len(a) == 1:\n",
    "            break\n",
    "\n",
    "    \n",
    "    return roots, iter, rest\n",
    "\n",
    "a = [1, 0, -38400, -4224000, -92160000]\n",
    "# a = [1, -3, 3, -1, 0, 0]\n",
    "roots, iter, rest = NewtonHorner(a, x0=0, nmax=1000)\n",
    "roots, iter, rest"
   ]
  },
  {
   "cell_type": "code",
   "execution_count": 345,
   "metadata": {},
   "outputs": [
    {
     "data": {
      "text/plain": [
       "(0.0009800000000000002,\n",
       " 3.2666666666666675,\n",
       " 10888.888888888892,\n",
       " 666.6666666666667,\n",
       " 10222.222222222226)"
      ]
     },
     "execution_count": 345,
     "metadata": {},
     "output_type": "execute_result"
    }
   ],
   "source": [
    "m = 0.1 / 1000\n",
    "g = 9.8\n",
    "v_0 = 0.2\n",
    "b = 0.0003\n",
    "h = 2000\n",
    "\n",
    "m*g, m*g / b, m * g / b / b, v_0 / b, m * g / b / b - v_0 / b"
   ]
  },
  {
   "cell_type": "code",
   "execution_count": 348,
   "metadata": {},
   "outputs": [
    {
     "data": {
      "text/plain": [
       "2049.3809204566173"
      ]
     },
     "execution_count": 348,
     "metadata": {},
     "output_type": "execute_result"
    }
   ],
   "source": [
    "from scipy.optimize import fsolve\n",
    "\n",
    "f = lambda t: m*g / b * t + (np.exp(-b * t) - 1) * (m * g / b / b - v_0 / b) - h\n",
    "t_inf = fsolve(f, h)[0]\n",
    "t_inf"
   ]
  },
  {
   "cell_type": "code",
   "execution_count": 349,
   "metadata": {},
   "outputs": [
    {
     "data": {
      "text/plain": [
       "(1.6083933020474852, 0.5407413145497332)"
      ]
     },
     "execution_count": 349,
     "metadata": {},
     "output_type": "execute_result"
    }
   ],
   "source": [
    "v = lambda t: m*g / b * (1 - np.exp( -b * t)) + v_0 * np.exp( -b * t)\n",
    "\n",
    "v(t_inf), np.exp( -b * t_inf)"
   ]
  }
 ],
 "metadata": {
  "kernelspec": {
   "display_name": "Hanzi",
   "language": "python",
   "name": "python3"
  },
  "language_info": {
   "codemirror_mode": {
    "name": "ipython",
    "version": 3
   },
   "file_extension": ".py",
   "mimetype": "text/x-python",
   "name": "python",
   "nbconvert_exporter": "python",
   "pygments_lexer": "ipython3",
   "version": "3.9.5"
  }
 },
 "nbformat": 4,
 "nbformat_minor": 2
}
