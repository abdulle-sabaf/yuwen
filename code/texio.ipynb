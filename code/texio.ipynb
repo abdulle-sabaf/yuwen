{
 "cells": [
  {
   "cell_type": "code",
   "execution_count": 1,
   "metadata": {},
   "outputs": [],
   "source": [
    "import json\n",
    "import codecs\n",
    "from outils import read, keys, load_cn_json, dump_cn_json, 中转数, 数转中\n",
    "\n",
    "def sort_dict_with(dic, key=\"grade\"):\n",
    "    pox = {}\n",
    "    keys = []\n",
    "    for k, v in dic:\n",
    "        if v[key] not in pox:\n",
    "            pox[key] = []\n",
    "            keys.append(key)\n",
    "        pox[key].append((k, v))\n",
    "    \n",
    "    out = []\n",
    "    for key in sorted(keys):\n",
    "        out.extend(pox[key])\n",
    "    return out"
   ]
  },
  {
   "cell_type": "code",
   "execution_count": 110,
   "metadata": {},
   "outputs": [],
   "source": [
    "def wrap(s, wrapper=\"{}\", keep_wrapper=False):\n",
    "    if s:\n",
    "        return wrapper[0] + s + wrapper[-1]\n",
    "    if keep_wrapper:\n",
    "        return wrapper\n",
    "    return \"\"\n",
    "\n",
    "def make_params(params, wrapper=\"[]\", sep=\",\"):\n",
    "    return wrap(sep.join(params), wrapper)\n",
    "\n",
    "def wrap_env(name, content, params=[], param_wrapper=\"[]\", param_sep=\",\"):\n",
    "    out = r\"\\begin\" + wrap(name) + make_params(params, wrapper=param_wrapper, sep=param_sep) + \"\\n\"\n",
    "    lines = content[:-1].split(\"\\n\")  # presume content ends with \\n\n",
    "    for line in lines:\n",
    "        out += \"    \" + line + \"\\n\"\n",
    "    out += r\"\\end\" + wrap(name) + \"\\n\"\n",
    "    return out\n",
    "\n",
    "def wrap_method(method, content=\"\", wrapper=\"{}\", keep_wrapper=True, params=[], param_wrapper=\"[]\", param_sep=\",\"):\n",
    "    return '\\\\' + method + make_params(params, wrapper=param_wrapper, sep=param_sep) + wrap(content, wrapper=wrapper, keep_wrapper=keep_wrapper)\n",
    "    \n",
    "# print(wrap_env(\"center\", \"faowiefjawefijafo\\naofiagjaoeija\\nfai\\n\", params=[\"2pt\", \"tje\"]))\n",
    "# print(wrap_method(\"textbf\"))\n",
    "\n",
    "def zihao(n):\n",
    "    return wrap_method(\"zihao\", str(n))\n",
    "\n",
    "\n",
    "def make_ctex_env(document_class=\"ctexbook\", document_class_params=(\"12pt\", \"UTF-8\",\"openany\"), packages={\"ctex\": [], \"titlesec\": []}, mainfont=\"Arial\", lineskip=\"4pt\", parskip=\"10pt\", title=\"标题\", author=\"\", date=False, toc=True):\n",
    "    \"\"\"make header and footer for ctexbook environment. \n",
    "    header\n",
    "    1. documentclass and parameters \n",
    "    2. packages\n",
    "    3. geometry and fonts\n",
    "    4. package setups\n",
    "    5. global typesettings\n",
    "    6. begin document\n",
    "    footer\n",
    "    1. end document\n",
    "    \"\"\"\n",
    "    # ## header ##\n",
    "\n",
    "    # document class\n",
    "    header = r\"\\documentclass\"+ make_params(document_class_params) + wrap(document_class) + \"\\n\"\n",
    "    \n",
    "    # packages\n",
    "    packages_str = \"\"\n",
    "    for name in packages:\n",
    "        # print(package)\n",
    "        package_declarations = \"\"\n",
    "        if \"declarations\" in packages[name]:\n",
    "            package_declarations = make_params(packages[name]['declarations'])\n",
    "        packages_str += r\"\\usepackage\" + package_declarations + wrap(name) + \"\\n\"\n",
    "    # print(packages_str)\n",
    "    header += packages_str + \"\\n\"\n",
    "\n",
    "    # geometry <-- geometry package\n",
    "    if \"geometry\" in packages:\n",
    "        geometry = packages[\"geometry\"]\n",
    "        paper_type = geometry[\"paper_size\"]\n",
    "        paddings = geometry[\"paddings\"]\n",
    "        left = paddings[\"left\"]\n",
    "        right = paddings[\"right\"]\n",
    "        top = paddings[\"top\"]\n",
    "        bottom = paddings[\"bottom\"]\n",
    "        header += wrap_method(\"geometry\", f\"{paper_type}paper,left={left},right={right},top={top},bottom={bottom}\") + \"\\n\"\n",
    "    \n",
    "    # fonts\n",
    "    header += wrap_method(\"setmainfont\", mainfont) + \"\\n\"\n",
    "    header += r\"\\setCJKmainfont[BoldFont=STZhongsong]{汉字之美仿宋GBK 免费}\" + \"\\n\"\n",
    "    header += r\"\\xeCJKDeclareCharClass{CJK}{`0 -> `9}\" + \"\\n\"  # apply CJK font to numbers\n",
    "    header += r\"\\xeCJKsetup{AllowBreakBetweenPuncts=true}\" + \"\\n\"  # line alignment\n",
    "\n",
    "    if \"footmisc\" in packages:\n",
    "        footnote_settings_content = \"\".join([\"{\\ding{\"+str(192+i)+\"}}\" for i in range(10)])\n",
    "        footnote_settings = wrap_method(\"DefineFNsymbols\", footnote_settings_content, params=[\"circled\"], param_wrapper=\"{}\")\n",
    "        header += footnote_settings + \"\\n\"\n",
    "        header += wrap_method(\"setfnsymbol\", \"circled\") + \"\\n\"\n",
    "\n",
    "    # package setups\n",
    "    # xpinyin\n",
    "    if \"xpinyin\" in packages:\n",
    "        pyr = packages['xpinyin']['ratio']  # size ratio\n",
    "        vsep = packages['xpinyin']['vsep']  # vertical gap\n",
    "        vsep_str = \"vsep={\" + vsep + \"}\"\n",
    "        hsep = packages['xpinyin']['hsep']  # horizontal gap\n",
    "        hsep_str = \"hsep={\" + f\"{hsep} plus {hsep}\" + \"}\"\n",
    "        header += wrap_method(\"xpinyinsetup\", f\"ratio={pyr},{hsep_str},{vsep_str}\") + \"\\n\"  # pinyin settings\n",
    "\n",
    "    # global typesettings\n",
    "    # title format\n",
    "    header += r\"\\titleformat{\\chapter}{\\zihao{-1}\\bfseries}{ }{16pt}{}\" + \"\\n\"\n",
    "    header += r\"\\titleformat{\\section}{\\zihao{-2}\\bfseries}{ }{0pt}{}\" + \"\\n\"\n",
    "    header += r\"\\title\" + wrap(r\"\\zihao{0} \\bfseries \" + title) + \"\\n\"\n",
    "    # line and paragraph skips\n",
    "    header += r\"\\setlength{\\lineskip}{\" + lineskip + \"}\\n\"  # skip length after line\n",
    "    header += r\"\\setlength{\\parskip}{\" + parskip + \"}\\n\"  # extra skip for paragraphs \n",
    "    # front page format\n",
    "    if author:  # author format\n",
    "        header += r\"\\author{\\zihao{2} \\texttt\" + wrap(author) + \"}\\n\"\n",
    "    else:\n",
    "        header += r\"\\author{}\" + \"\\n\"\n",
    "    if date:  # date format\n",
    "        header += r\"\\date{\\bfseries\\today}\" + \"\\n\"\n",
    "    else:\n",
    "        header += r\"\\date{}\" + \"\\n\"\n",
    "    \n",
    "    # begin document\n",
    "    header += r\"\\begin\" + wrap(\"document\") + \"\\n\"\n",
    "    header += r\"\\maketitle\" + \"\\n\"\n",
    "    if toc:\n",
    "        header += r\"\\tableofcontents\" + \"\\n\"\n",
    "    header += r\"\\newpage\" + \"\\n\"\n",
    "    \n",
    "    # ## footer ##\n",
    "\n",
    "    # end document\n",
    "    footer = r\"\\end\" + wrap(\"document\") + \"\\n\"\n",
    "    return header, footer\n"
   ]
  },
  {
   "cell_type": "code",
   "execution_count": 3,
   "metadata": {},
   "outputs": [],
   "source": [
    "# 打印页面设置：纸号，页边距等\n",
    "geometry = {}\n",
    "geometry[\"paper_size\"] = \"a5\"  # 使用A5纸\n",
    "paddings = {}  # 页边距\n",
    "paddings[\"left\"] = \"1.4cm\"\n",
    "paddings[\"right\"] = \"1.4cm\"\n",
    "paddings[\"top\"] = \"2.4cm\"\n",
    "paddings[\"bottom\"] = \"2.4cm\"\n",
    "geometry[\"paddings\"] = paddings\n",
    "\n",
    "# 拼音设置： xpinyin宏包\n",
    "pinyin = {}\n",
    "pinyin[\"ratio\"] = \"0.5\"\n",
    "pinyin[\"hsep\"] = \".6em\"\n",
    "pinyin[\"vsep\"] = \"1em\""
   ]
  },
  {
   "cell_type": "code",
   "execution_count": 4,
   "metadata": {},
   "outputs": [
    {
     "data": {
      "text/plain": [
       "'\\\\xpinyinsetup{ratio=0.5,hsep={.6em plus .6em},vsep={1em}}\\n'"
      ]
     },
     "execution_count": 4,
     "metadata": {},
     "output_type": "execute_result"
    }
   ],
   "source": [
    "# unit test\n",
    "packages = {}\n",
    "packages['xpinyin'] = pinyin\n",
    "pyr = packages['xpinyin']['ratio']  # size ratio\n",
    "vsep = packages['xpinyin']['vsep']  # vertical gap\n",
    "vsep_str = \"vsep={\" + vsep + \"}\"\n",
    "hsep = packages['xpinyin']['hsep']  # horizontal gap\n",
    "hsep_str = \"hsep={\" + f\"{hsep} plus {hsep}\" + \"}\"\n",
    "wrap_method(\"xpinyinsetup\", f\"ratio={pyr},{hsep_str},{vsep_str}\") + \"\\n\"  # pinyin settings"
   ]
  },
  {
   "cell_type": "markdown",
   "metadata": {},
   "source": [
    "## 古诗转换\n",
    "\n",
    "### 古诗tex转json"
   ]
  },
  {
   "cell_type": "code",
   "execution_count": 3,
   "metadata": {},
   "outputs": [],
   "source": [
    "# path_tex = \"../src/小学/古诗.tex\"\n",
    "\n",
    "# with open(path2, 'r', encoding=\"utf-8\") as f:\n",
    "#     lines = f.readlines()"
   ]
  },
  {
   "cell_type": "markdown",
   "metadata": {},
   "source": [
    "### 古诗json转tex"
   ]
  },
  {
   "cell_type": "code",
   "execution_count": 5,
   "metadata": {},
   "outputs": [],
   "source": [
    "path_json = \"../src/小学/古诗.json\"\n",
    "\n",
    "shis = load_cn_json(path_json)"
   ]
  },
  {
   "cell_type": "code",
   "execution_count": 6,
   "metadata": {},
   "outputs": [],
   "source": [
    "# with codecs.open(\"../src/小学/唐诗三百首.json\", \"r\", encoding=\"utf-8\") as f:\n",
    "#     tangshi300 = json.load(f)\n",
    "\n",
    "tangshi300 = load_cn_json(\"../src/小学/唐诗三百首.json\")\n",
    "\n",
    "authors = {}\n",
    "\n",
    "for shi in tangshi300:\n",
    "    if shi[\"author\"] not in authors:\n",
    "        authors[shi[\"author\"]] = \"唐代\""
   ]
  },
  {
   "cell_type": "code",
   "execution_count": 7,
   "metadata": {},
   "outputs": [
    {
     "name": "stdout",
     "output_type": "stream",
     "text": [
      "\\section{江南}\n",
      "\n",
      "\\begin{center}\n",
      "    \\vspace{8pt}\n",
      "    \n",
      "    \\begin{normalsize}\n",
      "        \n",
      "        〔唐代：无名氏〕\n",
      "        \n",
      "    \\end{normalsize}\n",
      "    \n",
      "    \\vspace{6pt}\n",
      "    \n",
      "    \\begin{large}\n",
      "        \n",
      "        \\xpinyin*{江南可采莲，}\n",
      "        \n",
      "        \\xpinyin*{莲叶何田田，}\n",
      "        \n",
      "        \\xpinyin*{鱼戏莲叶间。}\n",
      "        \n",
      "        \\xpinyin*{鱼戏莲叶东，}\n",
      "        \n",
      "        \\xpinyin*{鱼戏莲叶西，}\n",
      "        \n",
      "        \\xpinyin*{鱼戏莲叶南，}\n",
      "        \n",
      "        \\xpinyin*{鱼戏莲叶北。}\n",
      "        \n",
      "    \\end{large}\n",
      "    \n",
      "\\end{center}\n",
      "\n",
      "\\vspace{6pt}\n",
      "\n",
      "\n"
     ]
    }
   ],
   "source": [
    "def shi_to_tex_str(shi, print_genre=False, authors={}, typesettings={\"vspaces\": {\"after_title\": 8, \"after_author\": 6, \"after_content\": 6}}):\n",
    "    # convert structured shi to string ready to use in tex\n",
    "    out = r\"\\section{\" + shi[\"title\"] + \"}\\n\\n\"\n",
    "    content = \"\"\n",
    "    # title = wrap_method(\"textbf\", zihao(3) + \" \" + shi[\"title\"]) + \"\\n\\n\"\n",
    "\n",
    "    # if print_genre:\n",
    "    #     title = shi[\"genre\"] + \"：\" + title\n",
    "    # content += title\n",
    "    content += wrap_method(\"vspace\", f\"{typesettings['vspaces']['after_title']}pt\") + \"\\n\\n\"\n",
    "    author_str = \"\"\n",
    "    if shi[\"author\"]:\n",
    "        author = shi[\"author\"]\n",
    "        if author in authors:\n",
    "            author_str += \"〔唐代：\" + author + \"〕\\n\\n\"\n",
    "        else:\n",
    "            author_str += \"〔\" + author + \"〕\\n\\n\"\n",
    "    else:\n",
    "        author_str += \"〔作者不详〕\\n\\n\"\n",
    "    content += wrap_env(\"normalsize\", \"\\n\" + author_str) + \"\\n\"\n",
    "    content += wrap_method(\"vspace\", f\"{typesettings['vspaces']['after_author']}pt\") + \"\\n\\n\"\n",
    "    content += wrap_env(\"large\", \"\\n\" + \"\\n\\n\".join([wrap_method(\"xpinyin*\", line) for line in shi[\"content\"]]) + \"\\n\\n\") + \"\\n\"\n",
    "    content = wrap_env(\"center\", content) + \"\\n\"\n",
    "    content += wrap_method(\"vspace\", f\"{typesettings['vspaces']['after_content']}pt\") + \"\\n\\n\"\n",
    "    out += content\n",
    "    return out\n",
    "\n",
    "for title, shi in shis.items():\n",
    "    s = shi_to_tex_str(shi, print_genre=True, authors=authors)\n",
    "    break\n",
    "\n",
    "print(s)"
   ]
  },
  {
   "cell_type": "code",
   "execution_count": 7,
   "metadata": {},
   "outputs": [
    {
     "data": {
      "text/plain": [
       "{'level': '第二层',\n",
       " 'content': ['春眠不觉晓，处处闻啼鸟。', '夜来风雨声，花落知多少。'],\n",
       " 'author': '孟浩然',\n",
       " 'genre': '五言绝句',\n",
       " 'title': '春晓'}"
      ]
     },
     "execution_count": 7,
     "metadata": {},
     "output_type": "execute_result"
    }
   ],
   "source": [
    "shis[\"春晓\"]"
   ]
  },
  {
   "cell_type": "code",
   "execution_count": 8,
   "metadata": {},
   "outputs": [],
   "source": [
    "# 打印小学古诗（分层）\n",
    "packages = {}\n",
    "packages[\"ctex\"] = []\n",
    "packages[\"titlesec\"] = []\n",
    "packages[\"xeCJK\"] = []\n",
    "packages[\"fontspec,xunicode,xltxtra\"] = []\n",
    "packages[\"xpinyin\"] = pinyin\n",
    "packages[\"xpinyin\"]['ratio'] = \"0.44\"\n",
    "packages[\"xpinyin\"]['hsep'] = \".6em\"\n",
    "packages[\"geometry\"] = geometry\n",
    "packages[\"indentfirst\"] = []\n",
    "packages[\"pifont\"] = []\n",
    "packages[\"footmisc\"] = {\"declarations\": [\"perpage\", \"symbol*\"]}\n",
    "title = \"小学语文古诗集\"\n",
    "lineskip = \"24pt\"\n",
    "parskip = \"6pt\"\n",
    "header, footer = make_ctex_env(packages=packages, title=title, parskip=parskip, lineskip=lineskip)\n",
    "\n",
    "# 分层\n",
    "shi_by_level = {}\n",
    "levels = []\n",
    "for i in range(10):\n",
    "    levels.append(f\"第{数转中[i+1]}层\") \n",
    "levels.append(\"其他\")\n",
    "# print(levels)\n",
    "\n",
    "typesettings = {\"vspaces\": {\"after_title\": 10, \"after_author\": 8, \"after_content\": 8}}\n",
    "\n",
    "for title, shi in shis.items():\n",
    "    level = shi[\"level\"]\n",
    "    if level not in shi_by_level:\n",
    "        shi_by_level[level] = {}\n",
    "    shi_by_level[level][title] = shi\n",
    "\n",
    "with open(\"古诗集.tex\", \"w\", encoding=\"utf-8\") as f:\n",
    "    f.write(header + \"\\n\")\n",
    "    for level in levels:\n",
    "        f.write(r\"\\chapter\" + wrap(level) + \"\\n\\n\")\n",
    "        for title, shi in shi_by_level[level].items():\n",
    "            f.write(shi_to_tex_str(shi, typesettings=typesettings) + \"\\n\")\n",
    "    f.write(footer)"
   ]
  },
  {
   "cell_type": "markdown",
   "metadata": {},
   "source": [
    "## 小学课文"
   ]
  },
  {
   "cell_type": "code",
   "execution_count": 133,
   "metadata": {},
   "outputs": [
    {
     "name": "stdout",
     "output_type": "stream",
     "text": [
      "['〔弭〕平息，止。', '〔袪〕驱逐，去除。', '〔峭拔〕（山）高而陡。', '〔峙〕直立，耸立。', '〔斛〕容量单位。一斛十斗。']\n"
     ]
    }
   ],
   "source": [
    "texts = load_cn_json(\"../src/小学/阅读课文.json\")\n",
    "\n",
    "# for k, v in texts.items():\n",
    "    # v[\"remarks\"] = []\n",
    "    # v[\"format\"] = \"散文\"\n",
    "    # v[\"genre\"] = [\"散文\"]\n",
    "    # v[\"footnotes\"] = []\n",
    "    # if \"endnotes\" not in v:\n",
    "    #     v[\"endnotes\"] = []\n",
    "    # if \"vocabulary\" not in v:\n",
    "    #     v[\"vocabulary\"] = []\n",
    "\n",
    "# dump_cn_json(\"../src/小学/阅读课文.json\", texts)\n",
    "\n",
    "# set([v[\"format\"] for k, v in texts.items()])  # {'书信', '散文', '诗歌'}\n",
    "print(texts[\"镜泊湖奇观\"][\"endnotes\"])"
   ]
  },
  {
   "cell_type": "code",
   "execution_count": 354,
   "metadata": {},
   "outputs": [
    {
     "data": {
      "text/plain": [
       "{'format': '散文',\n",
       " 'genre': ['记叙文', '回忆'],\n",
       " 'title': '延安的秋天',\n",
       " 'author': '',\n",
       " 'content': ['那是1942年，为了响应毛主席“自己动手，丰衣足食”的号召，全延安，全陕甘宁边区，热火朝天地开展了大生产运动。我们中央党校，在校务部莫部长的领导下，上上下下没有一个闲人。按照校务部的规定，我们除了参加学校一部分农业生产以外，还要种半亩蔬菜，完成规定的纺棉线的任务。',\n",
       "  '莫部长是全校最忙的一个人。可是，傍晚生产时间里，他也扛着纺车，到院里和我们一起学纺线。他学得很认真，指导员讲怎样卷棉卷、上锭子、摇把、上穗子之后，他还要提几个问题，叫指导员看着他做几遍。',\n",
       "  '一天夜里，我从校务部平房前走过，听到了单调而柔和的纺线声，“嗡嗡嗡……”我心里奇怪，这是谁在夜里纺线呀？我走向前一看，原来是莫部长在向他老伴儿学纺线！在黄昏的油灯下，莫部长的老伴胡大姐坐在窗口纺车前面，右手熟练的摇着车把，左手灵巧的握着棉卷儿向后抽。一根又硬又细的白线，越抽越长。她边纺边说：“呶，就这么轻轻的抽，不紧不慢，两只手配合好，你看……”说着，她把叶轮加速地转了几个圈，白线旋紧了，左手往高一抬，向前一送，右手轻轻捷地摇了半转叶轮，那根又匀又细的白线，像变魔术似的，一下子卷到了穗子上。“就这样上线，你来试试！”',\n",
       "  '莫部长小心的坐到小板凳上去，按着老伴儿指点，谨慎的纺着，可他就是纺不好，不是断线，就是粗细不匀，一股节一股节扯断的线，被扔在车锭子一旁。大姐气虎虎地说：',\n",
       "  '“你呀，怎么这样笨哇？……像你这样纺，一斤不糟蹋半斤才怪呢！”',\n",
       "  '莫部长对大姐笑着，说：“你这是啥教员？一点耐心也没有。”说着他从口袋里掏出一块粗布手帕，在发红的两眼上拭了拭，说：',\n",
       "  '“鬼眼睛嘛，……眼花了，不顶用啰！”',\n",
       "  '大姐生气道：“你呀，不要无理强辩三分。你说你不会，不就行了？……我不是说大话，月亮底下纺线我也不会断一根。”',\n",
       "  '我忍俊不禁，笑出声来：好厉害的大姐呀，你要求也太高了，谁学也有个过程啊。我轻轻地推开门，笑嘻嘻地说：',\n",
       "  '“莫部长，你真积极呀！”',\n",
       "  '莫部长把脸一沉，埋怨道：“积极？人家只嫌我笨哩！……笨就笨吧，笨鸟就得先飞哇。”',\n",
       "  '延安秋日的黄昏，是一个美好而漫长的时刻。蔚蓝的天空里，飘着一缕缕白云。在夕阳的辉映下，现出灿烂的光彩。延河边上，三五成伙的青年男女，有的坐在大青石上，濯足于延水之中；有的一边洗衣裳、一边说笑。碧清的流水，从他们脚面上、小腿旁缓缓向东流去。一曲曲优美、动人的陕北民歌，随风荡漾。',\n",
       "  '延河川里广阔的田野上，人们分头在生产田劳动着。有的给大白菜浇水、施肥，有的摘西红柿，有的拉秧整地……大家学习、工作了一天，现在正是让大脑休息，活动胳膊腿儿的好时光。这种业余劳动的乐趣，成为一种最美好的享受了。',\n",
       "  '西方天边的霞光照耀在校务部门前的草坪上，把这里的一切都抹上了一层金色的光。秋风迎着新凉，送来花圃里波斯菊的馨香。空气是这么新鲜，温度是这么适宜，草坪里绿绒绒的，山坡上的野花娇艳多姿，真叫人甜蜜欲醉，心旷神怡。',\n",
       "  '不必鸣钟，不必催促。人们搁下饭碗就扛着纺车来了。女同志来了，男同志来了，勤务员小鬼们来了，莫部长也来了！刹那间，从草坪一头那棵高大的白杨起，纺车一个挨着一个，一行挨着一行地排起来。一个临时的纺线场就这样形成了。',\n",
       "  '“嗡嗡嗡……”车轮飞速的转动起来，“嗡嗡嗡……”美妙的合唱渐渐进入高潮。',\n",
       "  '在这合唱中，也汇合了莫部长纺车的有节奏的鸣响。你看，他摆开了架势，一手摇把，一手抽线。一根又细又匀又白的棉线，飞也似的往线穗子上窜。他纺的那么熟稔，使人不禁感到，他是个稀有的老手，纺线已经到了得心应手的地步。',\n",
       "  '“嗡嗡嗡……”，“嗡嗡嗡……”，纺车不停地歌唱着。歌声越来越嘹亮，越来越雄壮。这豪迈的自力更生大合唱，是我们这个时代的强音。这种新奇的合唱，给延安生活带来了特有的生气，把延安人的心连接在一起，使我们前进的步伐迈得更大，更快。世界上还有什么音乐比它更动人吗？'],\n",
       " 'remarks': [],\n",
       " 'footnotes': [],\n",
       " 'endnotes': [],\n",
       " 'vocabulary': [],\n",
       " 'grade': 6}"
      ]
     },
     "execution_count": 354,
     "metadata": {},
     "output_type": "execute_result"
    }
   ],
   "source": [
    "def read_text(path, format=\"散文\", max_name_len=13):\n",
    "    lines = read(path)\n",
    "    out = {}\n",
    "    title = \"\"\n",
    "    author = \"\"\n",
    "    grade = 0\n",
    "    footnotes = []\n",
    "    endnotes = []\n",
    "    vocabulary = []\n",
    "    remarks = []\n",
    "    content = []\n",
    "    out[\"format\"] = format\n",
    "    out[\"genre\"] = [format]\n",
    "    # return lines\n",
    "    if format in (\"散文\", \"书信\", \"小说\"):\n",
    "        for line in lines:\n",
    "            line0 = line.strip()\n",
    "            if line0:\n",
    "                if not title:\n",
    "                    title = line0\n",
    "                elif grade < 1 and line.startswith(\"年级：\"):\n",
    "                    grade = int(line0[3:])\n",
    "                elif not author and line.startswith(\"作者：\") and len(line0) < max_name_len:\n",
    "                    author = line0[3:]\n",
    "                elif line.startswith(\"备注：\"):\n",
    "                    remarks.append(line0[3:])\n",
    "                elif line.startswith(\"注释：\"):\n",
    "                    footnotes.append(line0[3:])\n",
    "                elif line.startswith(\"脚注：\"):\n",
    "                    footnotes.append(line0[3:])\n",
    "                elif line.startswith(\"尾注：\"):\n",
    "                    endnotes.append(line0[3:])\n",
    "                elif line.startswith(\"词汇：\"):\n",
    "                    vocabulary.extend(line0[3:].split())\n",
    "                else:\n",
    "                    content.append(line0)\n",
    "    elif format == \"诗歌\":\n",
    "        para = []\n",
    "        for line in lines:\n",
    "            line0 = line.strip()\n",
    "            if line0:\n",
    "                if not title:\n",
    "                    title = line0\n",
    "                elif grade < 1 and line.startswith(\"年级：\"):\n",
    "                    grade = int(line0[3:])\n",
    "                elif not author and line.startswith(\"作者：\") and len(line0) < max_name_len:\n",
    "                    author = line0[3:]\n",
    "                elif line.startswith(\"备注：\"):\n",
    "                    remarks.append(line0[3:])\n",
    "                elif line.startswith(\"注释：\"):\n",
    "                    footnotes.append(line0[3:])\n",
    "                elif line.startswith(\"脚注：\"):\n",
    "                    footnotes.append(line0[3:])\n",
    "                elif line.startswith(\"尾注：\"):\n",
    "                    endnotes.append(line0[3:])\n",
    "                elif line.startswith(\"词汇：\"):\n",
    "                    vocabulary.extend(line0[3:].split())\n",
    "                else:\n",
    "                    para.append(line0)\n",
    "            elif len(para):\n",
    "                content.append(para)\n",
    "                para = []\n",
    "        if len(para):\n",
    "            content.append(para)\n",
    "    out[\"title\"] = title\n",
    "    out[\"author\"] = author\n",
    "    out[\"content\"] = content\n",
    "    out[\"remarks\"] = remarks\n",
    "    out[\"footnotes\"] = footnotes\n",
    "    out[\"endnotes\"] = endnotes\n",
    "    out[\"vocabulary\"] = vocabulary\n",
    "    if grade:\n",
    "        out[\"grade\"] = grade\n",
    "    return title, out\n",
    "\n",
    "title, content = read_text(\"草稿.tex\")\n",
    "\n",
    "content[\"genre\"] = [\"记叙文\", \"回忆\"]\n",
    "# content[\"author\"] = \"吴承恩\"\n",
    "\n",
    "texts[title] = content\n",
    "dump_cn_json(\"../src/小学/阅读课文.json\", texts)\n",
    "content"
   ]
  },
  {
   "cell_type": "code",
   "execution_count": 88,
   "metadata": {},
   "outputs": [],
   "source": [
    "# for title, text in texts.items():\n",
    "#     footnotes = []\n",
    "#     endnotes = []\n",
    "#     for note in text[\"footnotes\"]:\n",
    "#         parts = note.split(\"：\")\n",
    "#         word = parts[0]\n",
    "#         footnotes.append(\"〔\" + word + \"〕\" + \"：\".join(parts[1:]))\n",
    "#         text[\"footnotes\"] = footnotes\n",
    "#     for note in text[\"endnotes\"]:\n",
    "#         parts = note.split(\"：\")\n",
    "#         word = parts[0]\n",
    "#         endnotes.append(\"〔\" + word + \"〕\" + \"：\".join(parts[1:]))\n",
    "#         text[\"endnotes\"] = endnotes\n"
   ]
  },
  {
   "cell_type": "code",
   "execution_count": 211,
   "metadata": {},
   "outputs": [
    {
     "name": "stdout",
     "output_type": "stream",
     "text": [
      "\\chapter{有的人}\n",
      "\n",
      "\\begin{normalsize}\n",
      "    \n",
      "    \\begin{verse}[0.5\\linewidth]\n",
      "        有的人活着，他已经死了； \\\\\n",
      "        有的人死了，他还活着。 \\\\\n",
      "        有的人骑在人民头上：“呵，我多伟大！” \\\\\n",
      "        有的人俯下身子给人民当牛马。 \\\\\n",
      "        有的人把名字刻入石头，想“不朽”； \\\\\n",
      "        有的人情愿作野草，等着地下的火烧。 \\\\\n",
      "        有的人，他活着别人就不能活； \\\\\n",
      "        有的人，他活着为了多数人更好地活。\n",
      "    \\end{verse}\n",
      "    \n",
      "    \n",
      "    \\begin{verse}[0.5\\linewidth]\n",
      "        骑在人民头上的，人民把他摔垮； \\\\\n",
      "        给人民作牛马的，人民永远记住他！ \\\\\n",
      "        把名字刻入石头的，名字比尸首烂得更早； \\\\\n",
      "        只要春风吹到的地方，到处是青青的野草。 \\\\\n",
      "        他活着别人就不能活的人，他的下场可以看到； \\\\\n",
      "        他活着为了多数人更好地活的人，群众把他抬举得很高，很高。\n",
      "    \\end{verse}\n",
      "    \n",
      "\\end{normalsize}\n",
      "\n",
      "\n",
      "...\n"
     ]
    }
   ],
   "source": [
    "def shortstack(content, lcr=\"l\"):\n",
    "    # out = r\"\\linespread\" + wrap(scale) + r\" \\selectfont\" + \"\\n\"\n",
    "    out = \"\\n\"\n",
    "    lines = content[:-1].split(\"\\n\")  # presume content ends with \\n\n",
    "    for line in lines[:-1]:\n",
    "        out += \"    \" + line + \" \\\\\\\\\\n\"\n",
    "    out += \"    \" + lines[-1] + \"\\n\"\n",
    "    out = wrap_method(\"shortstack\", out, params=[lcr])\n",
    "    return out\n",
    "\n",
    "def text_content_to_tex_str(content, footnotes=[], format=\"散文\", verbose=0, verseprop=0.5):\n",
    "    \"\"\"convert a the content of a text object to text string ready for tex.\n",
    "    the format varies by genre:\n",
    "    散文\n",
    "    书信\n",
    "    诗歌\n",
    "    \"\"\" \n",
    "    out = \"\"\n",
    "    if format == \"散文\":\n",
    "        out = \"\\n\\n\".join(content) + \"\\n\"\n",
    "    elif  format == \"书信\":\n",
    "        if verbose and not content[0].endswith(\"：\"):\n",
    "            print(\"错误：第一行不是抬头\")\n",
    "            return \"格式错误\\n\"\n",
    "        out = r\"\\noindent \" + content[0] + \"\\n\\n\" + wrap_method(\"vspace\", \"24pt\") + \"\\n\\n\"\n",
    "        toright = False\n",
    "        toright_content = \"\"\n",
    "        for line in content[1:]:\n",
    "            if line:\n",
    "                if toright:\n",
    "                    toright_content += line + \"\\n\\n\"\n",
    "                else:\n",
    "                    out += line + \"\\n\\n\"\n",
    "            else:\n",
    "                toright = True\n",
    "        out += wrap_method(\"vspace\", \"36pt\") + \"\\n\\n\"\n",
    "        out += wrap_env(\"flushright\", toright_content) + \"\\n\\n\"\n",
    "    elif  format == \"诗歌\":\n",
    "        if not isinstance(content[0], list):\n",
    "            content = [content]\n",
    "        \n",
    "        lineskip = \" \\\\\\\\\\n\"\n",
    "        # parskip = \"\\n\" + wrap_method(\"vspace\", \"4pt\") + \"\\n\\n\"\n",
    "        parskip = \"\\n\\n\"\n",
    "        out = parskip.join([wrap_env(\"verse\", lineskip.join(par) + \"\\n\", params=[str(verseprop)+\"\\\\linewidth\"]) for par in content])\n",
    "    \n",
    "    if len(footnotes):\n",
    "        if \"footnote\" in out:  # add footnotes when the position is provided\n",
    "            for i, note in enumerate(footnotes):\n",
    "                out = out.replace(\"footnote{\"+str(i+1)+\"}\", \"footnote{\" + note + \"}\")\n",
    "                # out = ssub(r\"footnote\\{(\\d+?)\\}\", \"footnote{\" + note + \"}\", out, 1)\n",
    "        else:\n",
    "            note_dict = {}\n",
    "            keybase = \"b\"\n",
    "            i = 0\n",
    "            for note in footnotes:\n",
    "                word = \"\"\n",
    "                if note.startswith(\"〔\"):\n",
    "                    word = note.split(\"〕\")[0][1:]\n",
    "                    key = keybase + str(i+1)\n",
    "                    note_dict[key] = note\n",
    "                    i += 1\n",
    "                elif \"〕\" in note:\n",
    "                    key = note.split(\"〕\")[0].split(\"〔\")[0]\n",
    "                    note_dict[key] = \"\".join(note.split(key)[1:])\n",
    "                # print(word)\n",
    "                if word:  # find where to insert footnote and mark\n",
    "                    nfin = out.find(word) + len(word)\n",
    "                    out = out[:nfin] + r\"\\apost{\" + key + \"}\" + out[nfin:]\n",
    "            for key in note_dict:\n",
    "                out = out.replace(\"apost{\"+key+\"}\", \"footnote{\" + note_dict[key] + \"}\")\n",
    "\n",
    "    return out\n",
    "\n",
    "def endnotes_to_str(endnotes, verbose=0, pinyin=False):\n",
    "    out = \"\"\n",
    "    notes = \"\"\n",
    "    for note in endnotes:\n",
    "        if pinyin and note.startswith(\"〔\"):  # add pinyin\n",
    "            suite = note[1:].split(\"〕\")\n",
    "            notes += \"\\item \" + note[0] + r\"\\xpinyin*{\" + suite[0] + r\"}〕\" + \"〕\".join(suite[1:]) + \"\\n\"\n",
    "        else:\n",
    "            notes += \"\\item \" + note + \"\\n\"\n",
    "    if notes:\n",
    "        out = r\"\\newpage\" + \"\\n\\n\" + r\"\\textbf{注释}：\" + \"\\n\\n\" + r\"\\vspace{-1em}\" + \"\\n\\n\"\n",
    "        out += wrap_env(\"itemize\", r\"\\setlength\\itemsep{-0.2em}\" + \"\\n\" + notes)\n",
    "    return out\n",
    "\n",
    "def text_to_tex_str(text, typesettings={\"font\": {\"title\": {\"size\": 2}, \"plaintext\": {\"size\": \"normalsize\"}}, \"vspaces\": {\"after_title\": 12, \"after_author\": 6, \"after_content\": 6}}):\n",
    "    \"\"\"convert a text object to text string ready for tex\n",
    "    \"\"\"\n",
    "    out = \"\"\n",
    "    content = \"\"\n",
    "    # title_fontsize = typesettings[\"font\"][\"title\"][\"size\"]\n",
    "    # title = wrap_method(\"textbf\", zihao(title_fontsize) + \" \" + text[\"title\"]) + \"\\n\"\n",
    "    title = wrap_method(\"chapter\", text[\"title\"]) + \"\\n\\n\"\n",
    "    content += title\n",
    "    # content = wrap_env(\"center\", content) + \"\\n\"\n",
    "    # content += wrap_method(\"vspace\", f\"{typesettings['vspaces']['after_title']}pt\") + \"\\n\\n\"\n",
    "    content += wrap_env(typesettings[\"font\"][\"plaintext\"][\"size\"], \"\\n\" + text_content_to_tex_str(text[\"content\"], footnotes=text['footnotes'], format=text[\"format\"]) + \"\\n\")\n",
    "    # content += wrap_method(\"vspace\", f\"{typesettings['vspaces']['after_content']}pt\") + \"\\n\\n\"\n",
    "    out += content + \"\\n\\n\"\n",
    "    # out += wrap_method(\"newpage\", keep_wrapper=False) + \"\\n\\n\"\n",
    "    out += endnotes_to_str(text[\"endnotes\"])\n",
    "    return out\n",
    "\n",
    "title = \"有的人\"\n",
    "print(text_to_tex_str(texts[title]) + \"...\")"
   ]
  },
  {
   "cell_type": "code",
   "execution_count": 139,
   "metadata": {},
   "outputs": [],
   "source": [
    "# 打印小学课文（每篇文章换页）\n",
    "packages = {}\n",
    "packages[\"ctex\"] = []\n",
    "packages[\"titlesec\"] = []\n",
    "packages[\"xeCJK\"] = []\n",
    "packages[\"verse\"] = []\n",
    "packages[\"fontspec,xunicode,xltxtra\"] = []\n",
    "packages[\"xpinyin\"] = pinyin\n",
    "packages[\"geometry\"] = geometry\n",
    "packages[\"indentfirst\"] = []\n",
    "packages[\"pifont\"] = []\n",
    "packages[\"footmisc\"] = {\"declarations\": [\"perpage\", \"symbol*\"]}\n",
    "lineskip = \"24pt\"\n",
    "parskip = \"6pt\"\n",
    "\n",
    "# for title, shi in shis.items():\n",
    "#     level = shi[\"level\"]\n",
    "#     if level not in shi_by_level:\n",
    "#         shi_by_level[level] = {}\n",
    "#     shi_by_level[level][title] = shi"
   ]
  },
  {
   "cell_type": "code",
   "execution_count": 355,
   "metadata": {},
   "outputs": [],
   "source": [
    "texts = load_cn_json(\"../src/小学/阅读课文.json\")\n",
    "\n",
    "booktitle = \"小学语文课文集萃\"\n",
    "header, footer = make_ctex_env(packages=packages, title=booktitle, parskip=parskip, lineskip=lineskip)\n",
    "typesettings = {}\n",
    "typesettings[\"vspaces\"] = {\"after_title\": 36, \"after_author\": 16, \"after_content\": 16}\n",
    "typesettings[\"font\"] = {\"plaintext\": {\"size\": \"large\"}}\n",
    "\n",
    "with open(\"阅读课文.tex\", \"w\", encoding=\"utf-8\") as f:\n",
    "    f.write(header + \"\\n\")\n",
    "    for title, text in texts.items():\n",
    "        f.write(text_to_tex_str(text, typesettings=typesettings) + \"\\n\")\n",
    "    f.write(footer)"
   ]
  },
  {
   "cell_type": "markdown",
   "metadata": {},
   "source": [
    "## 初中课文"
   ]
  },
  {
   "cell_type": "code",
   "execution_count": 358,
   "metadata": {},
   "outputs": [],
   "source": [
    "packages = {}\n",
    "packages[\"ctex\"] = []\n",
    "packages[\"titlesec\"] = []\n",
    "packages[\"xeCJK\"] = []\n",
    "packages[\"verse\"] = []\n",
    "packages[\"fontspec,xunicode,xltxtra\"] = []\n",
    "packages[\"xpinyin\"] = pinyin\n",
    "packages[\"geometry\"] = geometry\n",
    "packages[\"indentfirst\"] = []\n",
    "packages[\"pifont\"] = []\n",
    "packages[\"footmisc\"] = {\"declarations\": [\"perpage\", \"symbol*\"]}\n",
    "lineskip = \"24pt\"\n",
    "parskip = \"6pt\"\n",
    "\n",
    "booktitle = \"初中语文课文集萃\"\n",
    "header, footer = make_ctex_env(packages=packages, title=booktitle, parskip=parskip, lineskip=lineskip)\n",
    "typesettings = {}\n",
    "typesettings[\"vspaces\"] = {\"after_title\": 36, \"after_author\": 16, \"after_content\": 16}\n",
    "typesettings[\"font\"] = {\"plaintext\": {\"size\": \"normalsize\"}}"
   ]
  },
  {
   "cell_type": "code",
   "execution_count": 515,
   "metadata": {},
   "outputs": [],
   "source": [
    "texts2 = load_cn_json(\"../src/初中/阅读课文.json\")\n",
    "\n",
    "# read text from 草稿\n",
    "title, content = read_text(\"草稿.tex\")\n",
    "\n",
    "content[\"genre\"] = [\"议论文\", \"序言\"]\n",
    "# content[\"author\"] = \"吴承恩\"\n",
    "\n",
    "texts2[title] = content\n",
    "dump_cn_json(\"../src/初中/阅读课文.json\", texts2)"
   ]
  },
  {
   "cell_type": "code",
   "execution_count": 159,
   "metadata": {},
   "outputs": [],
   "source": [
    "texts2 = load_cn_json(\"../src/初中/阅读课文.json\")"
   ]
  },
  {
   "cell_type": "code",
   "execution_count": null,
   "metadata": {},
   "outputs": [],
   "source": [
    "title = \"阿长与山海经\"\n",
    "print(text_to_tex_str(texts2[title]) + \"...\")"
   ]
  },
  {
   "cell_type": "code",
   "execution_count": 522,
   "metadata": {},
   "outputs": [],
   "source": [
    "texts2 = load_cn_json(\"../src/初中/阅读课文.json\")\n",
    "\n",
    "with open(\"初中现代文阅读课文.tex\", \"w\", encoding=\"utf-8\") as f:\n",
    "    f.write(header + \"\\n\")\n",
    "    for title, text in texts2.items():\n",
    "        f.write(text_to_tex_str(text, typesettings=typesettings) + \"\\n\")\n",
    "    f.write(footer)"
   ]
  },
  {
   "cell_type": "markdown",
   "metadata": {},
   "source": [
    "## 下载"
   ]
  },
  {
   "cell_type": "code",
   "execution_count": 144,
   "metadata": {},
   "outputs": [],
   "source": [
    "import requests\n",
    "\n",
    "s = \"1c73b348-e8b6-47d6-84b0-6dbacbe28268\"\n",
    "url = f\"https://r3-ndr.ykt.cbern.com.cn/edu_product/esp/assets/{s}.pkg/pdf.pdf\"\n",
    "\n",
    "# r = requests.get(url)\n",
    "# open('sample.pdf', 'wb').write(r.content)"
   ]
  },
  {
   "cell_type": "code",
   "execution_count": 5,
   "metadata": {},
   "outputs": [],
   "source": [
    "url = r\"https://basic.smartedu.cn/tchMaterial\"\n",
    "\n",
    "r = requests.get(url)"
   ]
  },
  {
   "cell_type": "code",
   "execution_count": 17,
   "metadata": {},
   "outputs": [
    {
     "name": "stdout",
     "output_type": "stream",
     "text": [
      "Saving to D:/Documents/Projects/yuwen/src/小学/book_01.pdf\n",
      "Saving to D:/Documents/Projects/yuwen/src/小学/book_02.pdf\n",
      "Saving to D:/Documents/Projects/yuwen/src/小学/book_03.pdf\n",
      "Saving to D:/Documents/Projects/yuwen/src/小学/book_04.pdf\n",
      "Saving to D:/Documents/Projects/yuwen/src/小学/book_05.pdf\n",
      "Saving to D:/Documents/Projects/yuwen/src/小学/book_06.pdf\n",
      "Saving to D:/Documents/Projects/yuwen/src/小学/book_07.pdf\n",
      "Saving to D:/Documents/Projects/yuwen/src/小学/book_08.pdf\n",
      "Saving to D:/Documents/Projects/yuwen/src/小学/book_09.pdf\n",
      "Saving to D:/Documents/Projects/yuwen/src/小学/book_10.pdf\n",
      "Saving to D:/Documents/Projects/yuwen/src/小学/book_11.pdf\n",
      "Saving to D:/Documents/Projects/yuwen/src/小学/book_12.pdf\n",
      "Saving to D:/Documents/Projects/yuwen/src/小学/book_13.pdf\n"
     ]
    }
   ],
   "source": [
    "src = \"D:/Documents/Projects/yuwen/src/小学/\"\n",
    "\n",
    "with open(src + \"urlcode.txt\", \"r\") as f:\n",
    "    lines = f.readlines()\n",
    "\n",
    "for i, line in enumerate(lines):\n",
    "    idx = line.rstrip(\"\\n\")\n",
    "    out_filename = src + f\"book_{i+1:02d}.pdf\"\n",
    "    print(f\"Saving to {out_filename}\")\n",
    "    url = f\"https://r3-ndr.ykt.cbern.com.cn/edu_product/esp/assets/{idx}.pkg/pdf.pdf\"\n",
    "    r = requests.get(url)\n",
    "    open(out_filename, 'wb').write(r.content)"
   ]
  },
  {
   "cell_type": "code",
   "execution_count": 146,
   "metadata": {},
   "outputs": [
    {
     "name": "stdout",
     "output_type": "stream",
     "text": [
      "Dealing with: xiaoxueshuxue.\n",
      "D:/Documents/data/textbooks/xiaoxueshuxue\n",
      "D:/Documents/data/textbooks/xiaoxueshuxue doesn't exist.\n",
      "c3e06fe4-c6b3-49cb-8727-4f8ff69bbfbc\n",
      "Saving to D:/Documents/data/textbooks/xiaoxueshuxue\\renjiaoban_book_01.pdf\n",
      "6bf8ae7e-d987-40b4-8fb3-bbb98fcb50b5\n",
      "Saving to D:/Documents/data/textbooks/xiaoxueshuxue\\renjiaoban_book_02.pdf\n",
      "8cfc5a2a-425c-4b9a-a97c-e78d4a4c1e3a\n",
      "Saving to D:/Documents/data/textbooks/xiaoxueshuxue\\renjiaoban_book_03.pdf\n",
      "c1897b18-b302-4e8d-9fd4-40915c4b05c2\n",
      "Saving to D:/Documents/data/textbooks/xiaoxueshuxue\\renjiaoban_book_04.pdf\n",
      "33c8d495-9862-4e19-aab9-61d2af08608a\n",
      "Saving to D:/Documents/data/textbooks/xiaoxueshuxue\\renjiaoban_book_05.pdf\n",
      "8666a8bd-a0e7-49aa-ba07-bf419ceead24\n",
      "Saving to D:/Documents/data/textbooks/xiaoxueshuxue\\renjiaoban_book_06.pdf\n",
      "654e3d1e-c995-4340-81c5-abd7881d835b\n",
      "Saving to D:/Documents/data/textbooks/xiaoxueshuxue\\renjiaoban_book_07.pdf\n",
      "aa00ab9d-b343-4542-b16d-9c3900b3444b\n",
      "Saving to D:/Documents/data/textbooks/xiaoxueshuxue\\renjiaoban_book_08.pdf\n",
      "d0d6252f-2233-4f66-9ac9-440638d56fec\n",
      "Saving to D:/Documents/data/textbooks/xiaoxueshuxue\\renjiaoban_book_09.pdf\n",
      "83339b94-2b33-4a9b-ba0e-026b4fdd4f0e\n",
      "Saving to D:/Documents/data/textbooks/xiaoxueshuxue\\renjiaoban_book_10.pdf\n",
      "845136d4-e27b-4e7e-b9a9-00cadf4f9e20\n",
      "Saving to D:/Documents/data/textbooks/xiaoxueshuxue\\renjiaoban_book_11.pdf\n",
      "8e650f4c-e616-4699-ac0a-4911b22e2f2e\n",
      "Saving to D:/Documents/data/textbooks/xiaoxueshuxue\\renjiaoban_book_12.pdf\n"
     ]
    }
   ],
   "source": [
    "import os\n",
    "\n",
    "src = \"D:/Documents/data/textbooks/\"\n",
    "urls = os.path.join(src, \"urls\")\n",
    "\n",
    "# for x in (\"xiaoxueshuxue\", \"zhongxueyuwen\", \"zhongxueshuxue\"):\n",
    "for x in (\"xiaoxueshuxue\", ):\n",
    "    print(f\"Dealing with: {x}.\")\n",
    "    with open(os.path.join(urls, f\"{x}.txt\"), \"r\") as f:\n",
    "        lines = f.readlines()\n",
    "    # print(lines)\n",
    "    out_dir = os.path.join(src, x)\n",
    "    print(out_dir)\n",
    "\n",
    "    if not os.path.exists(out_dir):\n",
    "        print(out_dir, \"doesn\\'t exist.\")\n",
    "        os.mkdir(out_dir)\n",
    "    \n",
    "    i = 0\n",
    "    for line in lines:\n",
    "        if len(line) > 5:\n",
    "            if line.startswith(\">\"):\n",
    "                title = line[1:-1]\n",
    "                i = 0\n",
    "            else:\n",
    "                i += 1\n",
    "                idx = line.split(\"contentId=\")[1].split(\"&\")[0]\n",
    "                print(idx)\n",
    "                out_filename = os.path.join(out_dir, f\"{title}_book_{i:02d}.pdf\")\n",
    "                print(f\"Saving to {out_filename}\")\n",
    "                url = f\"https://r3-ndr.ykt.cbern.com.cn/edu_product/esp/assets/{idx}.pkg/pdf.pdf\"\n",
    "                r = requests.get(url)\n",
    "                open(out_filename, 'wb').write(r.content)"
   ]
  },
  {
   "cell_type": "code",
   "execution_count": 7,
   "metadata": {},
   "outputs": [
    {
     "name": "stdout",
     "output_type": "stream",
     "text": [
      "1 + 4 = 5\\quad \\qquad & \\quad \\qquad1 + 2 = 3\\quad \\qquad & \\quad \\qquad2 + 8 = 10 \\\\\n",
      "7 + 2 = 9\\quad \\qquad & \\quad \\qquad4 + 2 = 6\\quad \\qquad & \\quad \\qquad3 + 5 = 8 \\\\\n",
      "3 + 2 = 5\\quad \\qquad & \\quad \\qquad3 + 6 = 9\\quad \\qquad & \\quad \\qquad2 + 3 = 5 \\\\\n",
      "5 + 5 = 10\\quad \\qquad & \\quad \\qquad6 + 3 = 9\\quad \\qquad & \\quad \\qquad3 + 4 = 7 \\\\\n",
      "2 + 2 = 4\\quad \\qquad & \\quad \\qquad7 + 1 = 8\\quad \\qquad & \\quad \\qquad6 + 4 = 10 \\\\\n",
      "1 + 8 = 9\\quad \\qquad & \\quad \\qquad5 + 4 = 9\\quad \\qquad & \\quad \\qquad1 + 3 = 4 \\\\\n",
      "4 + 1 = 5\\quad \\qquad & \\quad \\qquad1 + 7 = 8\\quad \\qquad & \\quad \\qquad1 + 9 = 10 \\\\\n",
      "1 + 1 = 2\\quad \\qquad & \\quad \\qquad5 + 3 = 8\\quad \\qquad & \\quad \\qquad3 + 3 = 6 \\\\\n",
      "1 + 5 = 6\\quad \\qquad & \\quad \\qquad6 + 2 = 8\\quad \\qquad & \\quad \\qquad3 + 7 = 10 \\\\\n",
      "2 + 5 = 7\\quad \\qquad & \\quad \\qquad2 + 7 = 9\\quad \\qquad & \\quad \\qquad4 + 3 = 7 \\\\\n",
      "6 + 1 = 7\\quad \\qquad & \\quad \\qquad4 + 5 = 9\\quad \\qquad & \\quad \\qquad1 + 6 = 7 \\\\\n",
      "2 + 4 = 6\\quad \\qquad & \\quad \\qquad5 + 1 = 6\\quad \\qquad & \\quad \\qquad9 + 1 = 10 \\\\\n",
      "3 + 1 = 4\\quad \\qquad & \\quad \\qquad2 + 6 = 8\\quad \\qquad & \\quad \\qquad8 + 1 = 9 \\\\\n",
      "4 + 4 = 8\\quad \\qquad & \\quad \\qquad4 + 6 = 10\\quad \\qquad & \\quad \\qquad5 + 2 = 7 \\\\\n",
      "8 + 2 = 10\\quad \\qquad & \\quad \\qquad7 + 3 = 10\\quad \\qquad & \\quad \\qquad2 + 1 = 3 \\\\\n"
     ]
    }
   ],
   "source": [
    "suanshi111 = []\n",
    "\n",
    "for i in range(1, 10):\n",
    "    for j in range(1, 10):\n",
    "        if i + j <= 10:\n",
    "            suanshi111.append(f\"{i} + {j} = {i+j}\")\n",
    "\n",
    "import numpy as np\n",
    "\n",
    "# help(np.random.permutation)\n",
    "suanshi111 = np.random.permutation(suanshi111)\n",
    "\n",
    "c = 0\n",
    "pn = 3\n",
    "out = []\n",
    "hang = []\n",
    "for s in suanshi111:\n",
    "    hang.append(s)\n",
    "    c += 1\n",
    "    if c == pn:\n",
    "        out.append(\"\\quad \\qquad & \\quad \\qquad\".join(hang) + \" \\\\\\\\\")\n",
    "        hang = []\n",
    "        c = 0\n",
    "if len(hang):\n",
    "    out.append(\"\\quad \\quad &\\qquad  \\quad\".join(hang) + \" \\\\\\\\\")\n",
    "print(\"\\n\".join(out))\n",
    "        "
   ]
  },
  {
   "cell_type": "code",
   "execution_count": 13,
   "metadata": {},
   "outputs": [
    {
     "name": "stdout",
     "output_type": "stream",
     "text": [
      "\\dottedsquare + 1 = 4 \\quad & \\quad \\dottedsquare + 7 = 9 \\quad & \\quad \\dottedsquare + 4 = 10 \\quad & \\quad \\dottedsquare + 1 = 7  \\\\\n",
      "\\dottedsquare + 6 = 7 \\quad & \\quad \\dottedsquare + 2 = 7 \\quad & \\quad \\dottedsquare + 1 = 8 \\quad & \\quad \\dottedsquare + 5 = 8  \\\\\n",
      "\\dottedsquare + 6 = 10 \\quad & \\quad \\dottedsquare + 5 = 6 \\quad & \\quad \\dottedsquare + 2 = 6 \\quad & \\quad \\dottedsquare + 1 = 5  \\\\\n",
      "\\dottedsquare + 1 = 2 \\quad & \\quad \\dottedsquare + 8 = 10 \\quad & \\quad \\dottedsquare + 4 = 8 \\quad & \\quad \\dottedsquare + 5 = 10  \\\\\n",
      "\\dottedsquare + 4 = 5 \\quad & \\quad \\dottedsquare + 3 = 9 \\quad & \\quad \\dottedsquare + 7 = 8 \\quad & \\quad \\dottedsquare + 8 = 9  \\\\\n"
     ]
    }
   ],
   "source": [
    "suanshi111ex = []\n",
    "\n",
    "for i in range(1, 10):\n",
    "    for j in range(1, 10):\n",
    "        if i + j <= 10:\n",
    "            suanshi111ex.append(f\"\\dottedsquare + {j} = {i+j} \")\n",
    "            # suanshi111ex.append(f\"{i} + \\dottedsquare = {i+j} \")\n",
    "\n",
    "suanshi111ex = np.random.permutation(suanshi111ex)\n",
    "\n",
    "c = 0\n",
    "pn = 4\n",
    "nex = 20\n",
    "out = []\n",
    "hang = []\n",
    "for s in suanshi111ex[:nex]:\n",
    "    hang.append(s)\n",
    "    c += 1\n",
    "    if c == pn:\n",
    "        out.append(\"\\quad & \\quad \".join(hang) + \" \\\\\\\\\")\n",
    "        hang = []\n",
    "        c = 0\n",
    "if len(hang):\n",
    "    out.append(\"\\quad & \\quad \".join(hang) + \" \\\\\\\\\")\n",
    "print(\"\\n\".join(out))\n",
    "        "
   ]
  },
  {
   "cell_type": "code",
   "execution_count": 51,
   "metadata": {},
   "outputs": [
    {
     "name": "stdout",
     "output_type": "stream",
     "text": [
      "2 \\,\\,\\,\\; \\dottedsquare \\,\\,\\,\\; 5\\qquad & \\qquad 9 \\,\\,\\,\\; \\dottedsquare \\,\\,\\,\\; 3\\qquad & \\qquad 2 \\,\\,\\,\\; \\dottedsquare \\,\\,\\,\\; 8\\qquad & \\qquad 6 \\,\\,\\,\\; \\dottedsquare \\,\\,\\,\\; 1 \\\\\n",
      "2 \\,\\,\\,\\; \\dottedsquare \\,\\,\\,\\; 7\\qquad & \\qquad 6 \\,\\,\\,\\; \\dottedsquare \\,\\,\\,\\; 3\\qquad & \\qquad 3 \\,\\,\\,\\; \\dottedsquare \\,\\,\\,\\; 4\\qquad & \\qquad 3 \\,\\,\\,\\; \\dottedsquare \\,\\,\\,\\; 2 \\\\\n",
      "2 \\,\\,\\,\\; \\dottedsquare \\,\\,\\,\\; 1\\qquad & \\qquad 7 \\,\\,\\,\\; \\dottedsquare \\,\\,\\,\\; 3\\qquad & \\qquad 7 \\,\\,\\,\\; \\dottedsquare \\,\\,\\,\\; 5\\qquad & \\qquad 3 \\,\\,\\,\\; \\dottedsquare \\,\\,\\,\\; 8 \\\\\n",
      "5 \\,\\,\\,\\; \\dottedsquare \\,\\,\\,\\; 3\\qquad & \\qquad 1 \\,\\,\\,\\; \\dottedsquare \\,\\, 10\\qquad & \\qquad 9 \\,\\,\\,\\; \\dottedsquare \\,\\,\\,\\; 6\\qquad & \\qquad 6 \\,\\,\\,\\; \\dottedsquare \\,\\,\\,\\; 2 \\\\\n",
      "1 \\,\\,\\,\\; \\dottedsquare \\,\\,\\,\\; 5\\qquad & \\qquad 3 \\,\\,\\,\\; \\dottedsquare \\,\\,\\,\\; 7\\qquad & \\qquad 1 \\,\\,\\,\\; \\dottedsquare \\,\\,\\,\\; 9\\qquad & \\qquad 1 \\,\\,\\,\\; \\dottedsquare \\,\\,\\,\\; 3 \\\\\n",
      "4 \\,\\,\\,\\; \\dottedsquare \\,\\, 10\\qquad & \\qquad 7 \\,\\,\\,\\; \\dottedsquare \\,\\, 10\\qquad & \\qquad 7 \\,\\,\\,\\; \\dottedsquare \\,\\,\\,\\; 4\\qquad & \\qquad 4 \\,\\,\\,\\; \\dottedsquare \\,\\,\\,\\; 6 \\\\\n",
      "1 \\,\\,\\,\\; \\dottedsquare \\,\\,\\,\\; 7\\qquad & \\qquad 2 \\,\\,\\,\\; \\dottedsquare \\,\\,\\,\\; 3\\qquad & \\qquad 4 \\,\\,\\,\\; \\dottedsquare \\,\\,\\,\\; 9\\qquad & \\qquad 4 \\,\\,\\,\\; \\dottedsquare \\,\\,\\,\\; 7 \\\\\n"
     ]
    }
   ],
   "source": [
    "bishi111ex = []\n",
    "\n",
    "for i in range(1, 11):\n",
    "    for j in range(1, 11):\n",
    "        si = \"\\,\\,\"\n",
    "        sj = \"\\,\\,\"\n",
    "        if i < 10:\n",
    "            si += \"\\,\\;\"\n",
    "        if j < 10:\n",
    "            sj += \"\\,\\;\"\n",
    "        if i != j:\n",
    "            bishi111ex.append(f\"{i} {si} \\\\dottedsquare {sj} {j}\")\n",
    "\n",
    "bishi111ex = np.random.permutation(bishi111ex)\n",
    "\n",
    "c = 0\n",
    "pn = 4\n",
    "nex = 28\n",
    "out = []\n",
    "hang = []\n",
    "for s in bishi111ex[:nex]:\n",
    "    hang.append(s)\n",
    "    c += 1\n",
    "    if c == pn:\n",
    "        out.append(\"\\qquad & \\qquad \".join(hang) + \" \\\\\\\\\")\n",
    "        hang = []\n",
    "        c = 0\n",
    "if len(hang):\n",
    "    out.append(\"\\qquad & \\qquad \".join(hang) + \" \\\\\\\\\")\n",
    "print(\"\\n\".join(out))"
   ]
  },
  {
   "cell_type": "code",
   "execution_count": 49,
   "metadata": {},
   "outputs": [
    {
     "name": "stdout",
     "output_type": "stream",
     "text": [
      "7 \\,\\,\\,\\,\\, < \\,\\,\\,\\,\\, 9\\quad & \\quad 9 \\,\\,\\,\\,\\, > \\,\\,\\,\\,\\, 3\\quad & \\quad 2 \\,\\,\\,\\,\\, < \\,\\,\\,\\,\\, 4\\quad & \\quad 4 \\,\\,\\,\\,\\, > \\,\\,\\,\\,\\, 1\\quad & \\quad 8 \\,\\,\\,\\,\\, < \\,\\,\\, 10 \\\\\n",
      "8 \\,\\,\\,\\,\\, < \\,\\,\\,\\,\\, 9\\quad & \\quad 10 \\,\\,\\, > \\,\\,\\,\\,\\, 3\\quad & \\quad 6 \\,\\,\\,\\,\\, > \\,\\,\\,\\,\\, 1\\quad & \\quad 8 \\,\\,\\,\\,\\, > \\,\\,\\,\\,\\, 5\\quad & \\quad 6 \\,\\,\\,\\,\\, < \\,\\,\\,\\,\\, 9 \\\\\n",
      "7 \\,\\,\\,\\,\\, > \\,\\,\\,\\,\\, 6\\quad & \\quad 4 \\,\\,\\,\\,\\, < \\,\\,\\,\\,\\, 8\\quad & \\quad 5 \\,\\,\\,\\,\\, > \\,\\,\\,\\,\\, 2\\quad & \\quad 6 \\,\\,\\,\\,\\, > \\,\\,\\,\\,\\, 5\\quad & \\quad 10 \\,\\,\\, > \\,\\,\\,\\,\\, 7 \\\\\n",
      "1 \\,\\,\\,\\,\\, < \\,\\,\\,\\,\\, 8\\quad & \\quad 3 \\,\\,\\,\\,\\, < \\,\\,\\,\\,\\, 9\\quad & \\quad 7 \\,\\,\\,\\,\\, > \\,\\,\\,\\,\\, 2\\quad & \\quad 3 \\,\\,\\,\\,\\, < \\,\\,\\, 10\\quad & \\quad 2 \\,\\,\\,\\,\\, > \\,\\,\\,\\,\\, 1 \\\\\n",
      "8 \\,\\,\\,\\,\\, > \\,\\,\\,\\,\\, 2\\quad & \\quad 6 \\,\\,\\,\\,\\, < \\,\\,\\,\\,\\, 8\\quad & \\quad 2 \\,\\,\\,\\,\\, < \\,\\,\\,\\,\\, 9\\quad & \\quad 10 \\,\\,\\, > \\,\\,\\,\\,\\, 5\\quad & \\quad 5 \\,\\,\\,\\,\\, > \\,\\,\\,\\,\\, 4 \\\\\n",
      "8 \\,\\,\\,\\,\\, > \\,\\,\\,\\,\\, 3\\quad & \\quad 10 \\,\\,\\, > \\,\\,\\,\\,\\, 2\\quad & \\quad 2 \\,\\,\\,\\,\\, < \\,\\,\\,\\,\\, 8\\quad & \\quad 10 \\,\\,\\, > \\,\\,\\,\\,\\, 1\\quad & \\quad 3 \\,\\,\\,\\,\\, > \\,\\,\\,\\,\\, 1 \\\\\n",
      "8 \\,\\,\\,\\,\\, > \\,\\,\\,\\,\\, 7\\quad & \\quad 3 \\,\\,\\,\\,\\, < \\,\\,\\,\\,\\, 5\\quad & \\quad 1 \\,\\,\\,\\,\\, < \\,\\,\\,\\,\\, 9\\quad & \\quad 5 \\,\\,\\,\\,\\, < \\,\\,\\,\\,\\, 7\\quad & \\quad 6 \\,\\,\\,\\,\\, > \\,\\,\\,\\,\\, 4 \\\\\n",
      "7 \\,\\,\\,\\,\\, > \\,\\,\\,\\,\\, 3\\quad & \\quad 3 \\,\\,\\,\\,\\, < \\,\\,\\,\\,\\, 6\\quad & \\quad 4 \\,\\,\\,\\,\\, < \\,\\,\\,\\,\\, 9\\quad & \\quad 6 \\,\\,\\,\\,\\, < \\,\\,\\,\\,\\, 7\\quad & \\quad 7 \\,\\,\\,\\,\\, > \\,\\,\\,\\,\\, 5 \\\\\n",
      "5 \\,\\,\\,\\,\\, > \\,\\,\\,\\,\\, 3\\quad & \\quad 9 \\,\\,\\,\\,\\, > \\,\\,\\,\\,\\, 2\\quad & \\quad 9 \\,\\,\\,\\,\\, > \\,\\,\\,\\,\\, 5\\quad & \\quad 4 \\,\\,\\,\\,\\, < \\,\\,\\,\\,\\, 7\\quad & \\quad 2 \\,\\,\\,\\,\\, < \\,\\,\\,\\,\\, 3 \\\\\n",
      "3 \\,\\,\\,\\,\\, < \\,\\,\\,\\,\\, 7\\quad & \\quad 4 \\,\\,\\,\\,\\, < \\,\\,\\,\\,\\, 6\\quad & \\quad 1 \\,\\,\\,\\,\\, < \\,\\,\\,\\,\\, 7\\quad & \\quad 2 \\,\\,\\,\\,\\, < \\,\\,\\,\\,\\, 7\\quad & \\quad 9 \\,\\,\\,\\,\\, > \\,\\,\\,\\,\\, 4 \\\\\n",
      "5 \\,\\,\\,\\,\\, < \\,\\,\\,\\,\\, 6\\quad & \\quad 9 \\,\\,\\,\\,\\, > \\,\\,\\,\\,\\, 8\\quad & \\quad 8 \\,\\,\\,\\,\\, > \\,\\,\\,\\,\\, 1\\quad & \\quad 3 \\,\\,\\,\\,\\, < \\,\\,\\,\\,\\, 4\\quad & \\quad 4 \\,\\,\\,\\,\\, > \\,\\,\\,\\,\\, 2 \\\\\n",
      "4 \\,\\,\\,\\,\\, > \\,\\,\\,\\,\\, 3\\quad & \\quad 7 \\,\\,\\,\\,\\, < \\,\\,\\, 10\\quad & \\quad 6 \\,\\,\\,\\,\\, > \\,\\,\\,\\,\\, 2\\quad & \\quad 1 \\,\\,\\,\\,\\, < \\,\\,\\,\\,\\, 6\\quad & \\quad 3 \\,\\,\\,\\,\\, > \\,\\,\\,\\,\\, 2 \\\\\n",
      "2 \\,\\,\\,\\,\\, < \\,\\,\\,\\,\\, 5\\quad & \\quad 6 \\,\\,\\,\\,\\, < \\,\\,\\, 10\\quad & \\quad 1 \\,\\,\\,\\,\\, < \\,\\,\\, 10\\quad & \\quad 1 \\,\\,\\,\\,\\, < \\,\\,\\,\\,\\, 2\\quad & \\quad 1 \\,\\,\\,\\,\\, < \\,\\,\\,\\,\\, 5 \\\\\n",
      "8 \\,\\,\\,\\,\\, > \\,\\,\\,\\,\\, 6\\quad & \\quad 1 \\,\\,\\,\\,\\, < \\,\\,\\,\\,\\, 4\\quad & \\quad 7 \\,\\,\\,\\,\\, < \\,\\,\\,\\,\\, 8\\quad & \\quad 6 \\,\\,\\,\\,\\, > \\,\\,\\,\\,\\, 3\\quad & \\quad 10 \\,\\,\\, > \\,\\,\\,\\,\\, 4 \\\\\n",
      "8 \\,\\,\\,\\,\\, > \\,\\,\\,\\,\\, 4\\quad & \\quad 10 \\,\\,\\, > \\,\\,\\,\\,\\, 8\\quad & \\quad 5 \\,\\,\\,\\,\\, < \\,\\,\\,\\,\\, 9\\quad & \\quad 9 \\,\\,\\,\\,\\, > \\,\\,\\,\\,\\, 6\\quad & \\quad 10 \\,\\,\\, > \\,\\,\\,\\,\\, 6 \\\\\n",
      "1 \\,\\,\\,\\,\\, < \\,\\,\\,\\,\\, 3\\quad & \\quad 3 \\,\\,\\,\\,\\, < \\,\\,\\,\\,\\, 8\\quad & \\quad 2 \\,\\,\\,\\,\\, < \\,\\,\\, 10\\quad & \\quad 5 \\,\\,\\,\\,\\, < \\,\\,\\, 10\\quad & \\quad 9 \\,\\,\\,\\,\\, > \\,\\,\\,\\,\\, 1 \\\\\n",
      "7 \\,\\,\\,\\,\\, > \\,\\,\\,\\,\\, 1\\quad & \\quad 5 \\,\\,\\,\\,\\, > \\,\\,\\,\\,\\, 1\\quad & \\quad 10 \\,\\,\\, > \\,\\,\\,\\,\\, 9\\quad & \\quad 4 \\,\\,\\,\\,\\, < \\,\\,\\, 10\\quad & \\quad 9 \\,\\,\\,\\,\\, < \\,\\,\\, 10 \\\\\n",
      "2 \\,\\,\\,\\,\\, < \\,\\,\\,\\,\\, 6\\quad & \\quad 7 \\,\\,\\,\\,\\, > \\,\\,\\,\\,\\, 4\\quad & \\quad 5 \\,\\,\\,\\,\\, < \\,\\,\\,\\,\\, 8\\quad & \\quad 4 \\,\\,\\,\\,\\, < \\,\\,\\,\\,\\, 5\\quad & \\quad 9 \\,\\,\\,\\,\\, > \\,\\,\\,\\,\\, 7 \\\\\n"
     ]
    }
   ],
   "source": [
    "bishi111 = []\n",
    "\n",
    "for i in range(1, 11):\n",
    "    for j in range(1, 11):\n",
    "        si = \"\\,\\,\\,\"\n",
    "        sj = \"\\,\\,\\,\"\n",
    "        if i < 10:\n",
    "            si += \"\\,\\,\"\n",
    "        if j < 10:\n",
    "            sj += \"\\,\\,\"\n",
    "        if i < j:\n",
    "            bishi111.append(f\"{i} {si} < {sj} {j}\")\n",
    "        if i > j:\n",
    "            bishi111.append(f\"{i} {si} > {sj} {j}\")\n",
    "\n",
    "bishi111 = np.random.permutation(bishi111)\n",
    "\n",
    "c = 0\n",
    "pn = 5\n",
    "out = []\n",
    "hang = []\n",
    "for s in bishi111:\n",
    "    hang.append(s)\n",
    "    c += 1\n",
    "    if c == pn:\n",
    "        out.append(\"\\quad & \\quad \".join(hang) + \" \\\\\\\\\")\n",
    "        hang = []\n",
    "        c = 0\n",
    "if len(hang):\n",
    "    out.append(\"\\quad & \\quad \".join(hang) + \" \\\\\\\\\")\n",
    "print(\"\\n\".join(out))"
   ]
  },
  {
   "cell_type": "code",
   "execution_count": 20,
   "metadata": {},
   "outputs": [
    {
     "name": "stdout",
     "output_type": "stream",
     "text": [
      "\\begin{abox}{1.2cm}10\\end{abox} \\begin{abox}{1.2cm}11\\end{abox} \\begin{abox}{1.2cm}12\\end{abox} \\begin{abox}{1.2cm}13\\end{abox} \\begin{abox}{1.2cm}14\\end{abox} \\begin{abox}{1.2cm}15\\end{abox} \\begin{abox}{1.2cm}16\\end{abox} \\begin{abox}{1.2cm}17\\end{abox} \\begin{abox}{1.2cm}18\\end{abox} \\begin{abox}{1.2cm}19\\end{abox}\n",
      "\n",
      "\\vspace{0.2cm}\n",
      "\n",
      "\\begin{abox}{1.2cm}20\\end{abox} \\begin{abox}{1.2cm}21\\end{abox} \\begin{abox}{1.2cm}22\\end{abox} \\begin{abox}{1.2cm}23\\end{abox} \\begin{abox}{1.2cm}24\\end{abox} \\begin{abox}{1.2cm}25\\end{abox} \\begin{abox}{1.2cm}26\\end{abox} \\begin{abox}{1.2cm}27\\end{abox} \\begin{abox}{1.2cm}28\\end{abox} \\begin{abox}{1.2cm}29\\end{abox}\n",
      "\n",
      "\\vspace{0.2cm}\n",
      "\n",
      "\\begin{abox}{1.2cm}30\\end{abox} \\begin{abox}{1.2cm}31\\end{abox} \\begin{abox}{1.2cm}32\\end{abox} \\begin{abox}{1.2cm}33\\end{abox} \\begin{abox}{1.2cm}34\\end{abox} \\begin{abox}{1.2cm}35\\end{abox} \\begin{abox}{1.2cm}36\\end{abox} \\begin{abox}{1.2cm}37\\end{abox} \\begin{abox}{1.2cm}38\\end{abox} \\begin{abox}{1.2cm}39\\end{abox}\n",
      "\n",
      "\\vspace{0.2cm}\n",
      "\n",
      "\\begin{abox}{1.2cm}40\\end{abox} \\begin{abox}{1.2cm}41\\end{abox} \\begin{abox}{1.2cm}42\\end{abox} \\begin{abox}{1.2cm}43\\end{abox} \\begin{abox}{1.2cm}44\\end{abox} \\begin{abox}{1.2cm}45\\end{abox} \\begin{abox}{1.2cm}46\\end{abox} \\begin{abox}{1.2cm}47\\end{abox} \\begin{abox}{1.2cm}48\\end{abox} \\begin{abox}{1.2cm}49\\end{abox}\n",
      "\n",
      "\\vspace{0.2cm}\n",
      "\n",
      "\\begin{abox}{1.2cm}50\\end{abox} \\begin{abox}{1.2cm}51\\end{abox} \\begin{abox}{1.2cm}52\\end{abox} \\begin{abox}{1.2cm}53\\end{abox} \\begin{abox}{1.2cm}54\\end{abox} \\begin{abox}{1.2cm}55\\end{abox} \\begin{abox}{1.2cm}56\\end{abox} \\begin{abox}{1.2cm}57\\end{abox} \\begin{abox}{1.2cm}58\\end{abox} \\begin{abox}{1.2cm}59\\end{abox}\n"
     ]
    }
   ],
   "source": [
    "s = []\n",
    "for i in range(1, 6):\n",
    "    s1 = []\n",
    "    for j in range(10):\n",
    "        s1.append(\"\\\\begin{abox}{1.2cm}\" + str(10*i+j) + \"\\\\end{abox}\")\n",
    "    s.append(\" \".join(s1))\n",
    "\n",
    "print(\"\\n\\n\\\\vspace{0.2cm}\\n\\n\".join(s))"
   ]
  },
  {
   "cell_type": "code",
   "execution_count": 42,
   "metadata": {},
   "outputs": [
    {
     "name": "stdout",
     "output_type": "stream",
     "text": [
      "34 + 41 = \\dottedsquare \\dottedsquare  & 36 + 57 = \\dottedsquare \\dottedsquare  & 16 + 15 = \\dottedsquare \\dottedsquare  & 22 + 45 = \\dottedsquare \\dottedsquare  \\\\\n",
      "60 + 18 = \\dottedsquare \\dottedsquare  & 38 + 57 = \\dottedsquare \\dottedsquare  & 38 + 28 = \\dottedsquare \\dottedsquare  & 65 + 10 = \\dottedsquare \\dottedsquare  \\\\\n",
      "47 + 49 = \\dottedsquare \\dottedsquare  & 13 + 83 = \\dottedsquare \\dottedsquare  & 20 + 11 = \\dottedsquare \\dottedsquare  & 57 + 37 = \\dottedsquare \\dottedsquare  \\\\\n",
      "18 + 59 = \\dottedsquare \\dottedsquare  & 75 + 14 = \\dottedsquare \\dottedsquare  & 16 + 63 = \\dottedsquare \\dottedsquare  & 57 + 38 = \\dottedsquare \\dottedsquare  \\\\\n",
      "32 + 48 = \\dottedsquare \\dottedsquare  & 45 + 48 = \\dottedsquare \\dottedsquare  & 61 + 38 = \\dottedsquare \\dottedsquare  & 31 + 14 = \\dottedsquare \\dottedsquare  \\\\\n",
      "60 + 29 = \\dottedsquare \\dottedsquare  & 29 + 56 = \\dottedsquare \\dottedsquare  & 58 + 12 = \\dottedsquare \\dottedsquare  & 28 + 69 = \\dottedsquare \\dottedsquare  \\\\\n",
      "16 + 75 = \\dottedsquare \\dottedsquare  & 70 + 24 = \\dottedsquare \\dottedsquare  & 17 + 42 = \\dottedsquare \\dottedsquare  & 50 + 10 = \\dottedsquare \\dottedsquare  \\\\\n",
      "51 + 38 = \\dottedsquare \\dottedsquare  & 59 + 18 = \\dottedsquare \\dottedsquare  & 42 + 21 = \\dottedsquare \\dottedsquare  & 35 + 46 = \\dottedsquare \\dottedsquare  \\\\\n",
      "38 + 26 = \\dottedsquare \\dottedsquare  & 32 + 51 = \\dottedsquare \\dottedsquare  & 36 + 42 = \\dottedsquare \\dottedsquare  & 68 + 18 = \\dottedsquare \\dottedsquare  \\\\\n",
      "23 + 13 = \\dottedsquare \\dottedsquare  & 43 + 41 = \\dottedsquare \\dottedsquare  & 75 + 17 = \\dottedsquare \\dottedsquare  & 19 + 25 = \\dottedsquare \\dottedsquare  \\\\\n",
      "\n",
      " a\n"
     ]
    }
   ],
   "source": [
    "suanshi112ex = []\n",
    "\n",
    "for i in range(10, 100):\n",
    "    for j in range(10, 100):\n",
    "        if i + j < 100:\n",
    "            suanshi112ex.append(f\"{i} + {j} = \\dottedsquare \\dottedsquare \")\n",
    "            # suanshi112ex.append(f\"\\dottedsquare \\dottedsquare + {j} = {i+j} \")\n",
    "            # suanshi112ex.append(f\"{i} + \\dottedsquare \\dottedsquare = {i+j} \")\n",
    "            # suanshi111ex.append(f\"{i} + \\dottedsquare = {i+j} \")\n",
    "\n",
    "suanshi112ex = np.random.permutation(suanshi112ex)\n",
    "\n",
    "c = 0\n",
    "pn = 4\n",
    "nex = 40\n",
    "out = []\n",
    "hang = []\n",
    "for s in suanshi112ex[:nex]:\n",
    "    hang.append(s)\n",
    "    c += 1\n",
    "    if c == pn:\n",
    "        out.append(\" & \".join(hang) + \" \\\\\\\\\")\n",
    "        hang = []\n",
    "        c = 0\n",
    "if len(hang):\n",
    "    out.append(\"\\; & \\; \".join(hang) + \" \\\\\\\\\")\n",
    "print(\"\\n\".join(out) + \"\\n\\n a\")\n",
    "        "
   ]
  },
  {
   "cell_type": "code",
   "execution_count": 113,
   "metadata": {},
   "outputs": [
    {
     "data": {
      "text/plain": [
       "7.2"
      ]
     },
     "execution_count": 113,
     "metadata": {},
     "output_type": "execute_result"
    }
   ],
   "source": [
    "j * t"
   ]
  },
  {
   "cell_type": "code",
   "execution_count": 109,
   "metadata": {},
   "outputs": [
    {
     "name": "stdout",
     "output_type": "stream",
     "text": [
      "255 136 111\n",
      "255 172 111\n",
      "237 213 137\n",
      "212 238 162\n",
      "187 238 187\n",
      "162 217 212\n",
      "137 187 237\n",
      "111 159 255\n",
      "111 138 255\n"
     ]
    }
   ],
   "source": [
    "lda = 5\n",
    "for i in range(1, 10):\n",
    "    # print(int(20*lda*np.exp(-lda)*lda**i / np.math.factorial(i)))\n",
    "    # print(min(20, max(0, - 8 + 3.5 * (10 - i))))\n",
    "    # print(int(max(20, min(0, - 5 + (1 + k) * i))))\n",
    "    # print(255 - abs(20 - int(25*lda*np.exp(-lda)*lda**i / np.math.factorial(i))))\n",
    "    print(255 - int(bo * (10 - j)) - int(min(20, max(0, - 8 + 3.5 * i)) * j * t), 255 - int(bo * (10 - j)) - int(abs(20 - 20 * lda * np.exp(-lda)*lda**i / np.math.factorial(i)) * j * t), 255 - int(bo * (10 - j)) - int(min(20, max(0, - 8 + 3.5 * (10 - i))) * j * t))"
   ]
  },
  {
   "cell_type": "code",
   "execution_count": 107,
   "metadata": {},
   "outputs": [
    {
     "name": "stdout",
     "output_type": "stream",
     "text": [
      "\n",
      "\n",
      "1 & \\cellcolor[RGB]{252,239,236}\\phantom{0}1 & \\cellcolor[RGB]{252,243,236}\\phantom{0}2 & \\cellcolor[RGB]{250,248,239}\\phantom{0}3 & \\cellcolor[RGB]{248,251,242}\\phantom{0}4 & \\cellcolor[RGB]{245,251,245}\\phantom{0}5 & \\cellcolor[RGB]{242,248,248}\\phantom{0}6 & \\cellcolor[RGB]{239,245,250}\\phantom{0}7 & \\cellcolor[RGB]{236,242,252}\\phantom{0}8 & \\cellcolor[RGB]{236,239,252}\\phantom{0}9\\\\\n",
      "\\hline\n",
      "2 & \\cellcolor[RGB]{252,226,220}\\phantom{0}2 & \\cellcolor[RGB]{252,234,220}\\phantom{0}4 & \\cellcolor[RGB]{248,243,226}\\phantom{0}6 & \\cellcolor[RGB]{243,249,232}\\phantom{0}8 & \\cellcolor[RGB]{237,249,237}10 & \\cellcolor[RGB]{232,244,243}12 & \\cellcolor[RGB]{226,237,248}14 & \\cellcolor[RGB]{220,231,252}16 & \\cellcolor[RGB]{220,226,252}18\\\\\n",
      "\\hline\n",
      "3 & \\cellcolor[RGB]{253,214,205}\\phantom{0}3 & \\cellcolor[RGB]{253,226,205}\\phantom{0}6 & \\cellcolor[RGB]{247,239,214}\\phantom{0}9 & \\cellcolor[RGB]{239,248,222}12 & \\cellcolor[RGB]{231,248,231}15 & \\cellcolor[RGB]{222,241,239}18 & \\cellcolor[RGB]{214,231,247}21 & \\cellcolor[RGB]{205,221,253}24 & \\cellcolor[RGB]{205,214,253}27\\\\\n",
      "\\hline\n",
      "4 & \\cellcolor[RGB]{253,200,189}\\phantom{0}4 & \\cellcolor[RGB]{253,216,189}\\phantom{0}8 & \\cellcolor[RGB]{245,234,201}12 & \\cellcolor[RGB]{234,246,212}16 & \\cellcolor[RGB]{223,246,223}20 & \\cellcolor[RGB]{212,236,234}24 & \\cellcolor[RGB]{201,223,245}28 & \\cellcolor[RGB]{189,210,253}32 & \\cellcolor[RGB]{189,201,253}36\\\\\n",
      "\\hline\n",
      "5 & \\cellcolor[RGB]{253,187,173}\\phantom{0}5 & \\cellcolor[RGB]{253,207,173}10 & \\cellcolor[RGB]{243,230,187}15 & \\cellcolor[RGB]{229,244,201}20 & \\cellcolor[RGB]{215,244,215}25 & \\cellcolor[RGB]{201,232,229}30 & \\cellcolor[RGB]{187,215,243}35 & \\cellcolor[RGB]{173,200,253}40 & \\cellcolor[RGB]{173,188,253}45\\\\\n",
      "\\hline\n",
      "6 & \\cellcolor[RGB]{254,175,158}\\phantom{0}6 & \\cellcolor[RGB]{254,199,158}12 & \\cellcolor[RGB]{242,226,175}18 & \\cellcolor[RGB]{226,243,192}24 & \\cellcolor[RGB]{209,243,209}30 & \\cellcolor[RGB]{192,229,226}36 & \\cellcolor[RGB]{175,209,242}42 & \\cellcolor[RGB]{158,190,254}48 & \\cellcolor[RGB]{158,176,254}54\\\\\n",
      "\\hline\n",
      "7 & \\cellcolor[RGB]{254,161,142}\\phantom{0}7 & \\cellcolor[RGB]{254,190,142}14 & \\cellcolor[RGB]{240,221,162}21 & \\cellcolor[RGB]{221,241,182}28 & \\cellcolor[RGB]{201,241,201}35 & \\cellcolor[RGB]{182,224,221}42 & \\cellcolor[RGB]{162,201,240}49 & \\cellcolor[RGB]{142,179,254}56 & \\cellcolor[RGB]{142,163,254}63\\\\\n",
      "\\hline\n",
      "8 & \\cellcolor[RGB]{255,149,127}\\phantom{0}8 & \\cellcolor[RGB]{255,181,127}16 & \\cellcolor[RGB]{239,217,150}24 & \\cellcolor[RGB]{217,240,172}32 & \\cellcolor[RGB]{195,240,195}40 & \\cellcolor[RGB]{172,221,217}48 & \\cellcolor[RGB]{150,194,239}56 & \\cellcolor[RGB]{127,169,255}64 & \\cellcolor[RGB]{127,151,255}72\\\\\n",
      "\\hline\n",
      "9 & \\cellcolor[RGB]{255,136,111}\\phantom{0}9 & \\cellcolor[RGB]{255,172,111}18 & \\cellcolor[RGB]{237,213,137}27 & \\cellcolor[RGB]{212,238,162}36 & \\cellcolor[RGB]{187,238,187}45 & \\cellcolor[RGB]{162,217,212}54 & \\cellcolor[RGB]{137,187,237}63 & \\cellcolor[RGB]{111,159,255}72 & \\cellcolor[RGB]{111,138,255}81\\\\\n",
      "\\hline\n"
     ]
    }
   ],
   "source": [
    "k = 1.4\n",
    "t = 0.8\n",
    "bo = 0.4\n",
    "lda = 5\n",
    "st = []\n",
    "for j in range(1, 10):\n",
    "    sc = [str(j)]\n",
    "    for i in range(1, 10):\n",
    "        nr = 255 - int(bo * (10 - j)) - int(min(20, max(0, - 8 + 3.5 * i)) * j * t)\n",
    "        ng = 255 - int(bo * (10 - j)) - int(abs(20 - 20 * lda * np.exp(-lda)*lda**i / np.math.factorial(i)) * j * t)\n",
    "        nb = 255 - int(bo * (10 - j)) - int(min(20, max(0, - 8 + 3.5 * (10 - i))) * j * t)\n",
    "        bulin = \"\"\n",
    "        if i * j < 10:\n",
    "            bulin = \"\\\\phantom{0}\"\n",
    "        sc.append(\"\\\\cellcolor[RGB]{\"+f\"{nr},{ng},{nb}\"+\"}\"+bulin+str(i * j))\n",
    "    st.append(\" & \".join(sc) + \"\\\\\\\\\\n\")\n",
    "print(\"\\n\\n\"+\"\\hline\\n\".join(st)+\"\\\\hline\")"
   ]
  },
  {
   "cell_type": "code",
   "execution_count": 142,
   "metadata": {},
   "outputs": [
    {
     "name": "stdout",
     "output_type": "stream",
     "text": [
      "{ p{5em} p{5em} p{5em} p{5em} p{5em} p{5em} p{5em} p{5em} p{5em}}\n",
      "    \\texttt{一一得一} & \\texttt{一二得二} & \\texttt{一三得三} & \\texttt{一四得四} & \\texttt{一五得五}\\\\\n",
      "    \\texttt{一六得六} & \\texttt{一七得七} & \\texttt{一八得八} & \\texttt{一九得九} & \\\\\n",
      "    \\texttt{二一得二} & \\texttt{二二得四} & \\texttt{二三得六} & \\texttt{二四得八} & \\texttt{二五一十}\\\\\n",
      "    \\texttt{二六一十二} & \\texttt{二七一十四} & \\texttt{二八一十六} & \\texttt{二九一十八} & \\\\\n",
      "    \\texttt{三一得三} & \\texttt{三二得六} & \\texttt{三三得九} & \\texttt{三四一十二} & \\texttt{三五一十五}\\\\\n",
      "    \\texttt{三六一十八} & \\texttt{三七二十一} & \\texttt{三八二十四} & \\texttt{三九二十七} & \\\\\n",
      "    \\texttt{四一得四} & \\texttt{四二得八} & \\texttt{四三一十二} & \\texttt{四四一十六} & \\texttt{四五二十}\\\\\n",
      "    \\texttt{四六二十四} & \\texttt{四七二十八} & \\texttt{四八三十二} & \\texttt{四九三十六} & \\\\\n",
      "    \\texttt{五一得五} & \\texttt{五二一十} & \\texttt{五三一十五} & \\texttt{五四二十} & \\texttt{五五二十五}\\\\\n",
      "    \\texttt{五六三十} & \\texttt{五七三十五} & \\texttt{五八四十} & \\texttt{五九四十五} & \\\\\n",
      "    \\texttt{六一得六} & \\texttt{六二一十二} & \\texttt{六三一十八} & \\texttt{六四二十四} & \\texttt{六五三十}\\\\\n",
      "    \\texttt{六六三十六} & \\texttt{六七四十二} & \\texttt{六八四十八} & \\texttt{六九五十四} & \\\\\n",
      "    \\texttt{七一得七} & \\texttt{七二一十四} & \\texttt{七三二十一} & \\texttt{七四二十八} & \\texttt{七五三十五}\\\\\n",
      "    \\texttt{七六四十二} & \\texttt{七七四十九} & \\texttt{七八五十六} & \\texttt{七九六十三} & \\\\\n",
      "    \\texttt{八一得八} & \\texttt{八二一十六} & \\texttt{八三二十四} & \\texttt{八四三十二} & \\texttt{八五四十}\\\\\n",
      "    \\texttt{八六四十八} & \\texttt{八七五十六} & \\texttt{八八六十四} & \\texttt{八九七十二} & \\\\\n",
      "    \\texttt{九一得九} & \\texttt{九二一十八} & \\texttt{九三二十七} & \\texttt{九四三十六} & \\texttt{九五四十五}\\\\\n",
      "    \\texttt{九六五十四} & \\texttt{九七六十三} & \\texttt{九八七十二} & \\texttt{九九八十一} & \\\\\n",
      "\n",
      "\n"
     ]
    }
   ],
   "source": [
    "st = []\n",
    "for j in range(1, 10):\n",
    "    sc = []\n",
    "    for i in range(1, 10):\n",
    "        de = \"\"\n",
    "        bulin = \"\"\n",
    "        ji = i * j\n",
    "        ji1 = ji % 10\n",
    "        ji2 = ji // 10\n",
    "        ji2_str = 数转中[ji2] + \"十\"\n",
    "        if ji2 < 1:\n",
    "            de = \"得\"\n",
    "            ji2_str = \"\"\n",
    "        # if ji2 < 2:\n",
    "        #     ji2_str = \"十\"\n",
    "        #     bulin =  \"\\\\phantom{十}\"\n",
    "        # else:\n",
    "        ji1_str = 数转中[ji1]\n",
    "        if ji1 < 1:\n",
    "            ji1_str = \"\"\n",
    "        txt = f\"{数转中[j]}{数转中[i]}{de}{ji2_str}{ji1_str}{bulin}\"\n",
    "        sc.append(\"\\\\texttt{\" + txt + \"}\")\n",
    "    st.append(\"    \" + \" & \".join(sc[:5]) + \"\\\\\\\\\")\n",
    "    st.append(\"    \" + \" & \".join(sc[5:]) + \" & \\\\\\\\\")\n",
    "\n",
    "ncol = 5\n",
    "nem = 5\n",
    "header = [\"p{\"+str(nem)+\"em}\"] * 9\n",
    "print(\"{ \" + \" \".join(header) + \"}\\n\"+\"\\n\".join(st) + \"\\n\\n\")"
   ]
  },
  {
   "cell_type": "code",
   "execution_count": 154,
   "metadata": {},
   "outputs": [
    {
     "name": "stdout",
     "output_type": "stream",
     "text": [
      "5 1.25 1.265625 1.2578125 1.2599 63.49%\n"
     ]
    }
   ],
   "source": [
    "x1 = 1\n",
    "x2 = 2\n",
    "bar = 0.02\n",
    "f = lambda x : x * x * x - 2\n",
    "\n",
    "lb = x1\n",
    "ub = x2\n",
    "for i in range(10):\n",
    "    mid = (lb + ub) / 2\n",
    "    if f(mid) < 0:\n",
    "        lb = mid\n",
    "    else:\n",
    "        ub = mid\n",
    "    if ub - lb < bar:\n",
    "        break\n",
    "\n",
    "r = 2 ** (1/3)\n",
    "mid = (lb + ub) / 2\n",
    "t = (r - lb) / (ub - lb) * 100\n",
    "print(i, lb, ub, mid, f\"{r:0.4f}\", f\"{t:0.2f}%\")"
   ]
  },
  {
   "cell_type": "code",
   "execution_count": null,
   "metadata": {},
   "outputs": [],
   "source": [
    "y = x^3 - 2\n",
    "y = 3a^2 (x - a) + a^3 - 2 = 0\n",
    "x = a - (a^3 - 2) / 3a^2\n",
    "  = (3a^3 - a^3 + 2) / 3a^2\n",
    "  = 2(a^3 + 1) / 3a^2"
   ]
  },
  {
   "cell_type": "code",
   "execution_count": 156,
   "metadata": {},
   "outputs": [
    {
     "name": "stdout",
     "output_type": "stream",
     "text": [
      "0 2\n",
      "1 1.5\n",
      "2 1.2962962962962963\n",
      "3 1.2609322247417485\n",
      "4 1.2599218605659261\n",
      "5 1.2599210498953948\n",
      "6 1.259921049894873\n",
      "7 1.2599210498948732\n",
      "8 1.259921049894873\n",
      "9 1.2599210498948732\n"
     ]
    }
   ],
   "source": [
    "nt = lambda x : 2 * (x ** 3 + 1) / (3 * x ** 2)\n",
    "\n",
    "x_0 = 2\n",
    "a = x_0\n",
    "for i in range(10):\n",
    "    print(i, a)\n",
    "    a = nt(a)"
   ]
  },
  {
   "cell_type": "code",
   "execution_count": 159,
   "metadata": {},
   "outputs": [
    {
     "data": {
      "text/plain": [
       "0.6434300411290248"
      ]
     },
     "execution_count": 159,
     "metadata": {},
     "output_type": "execute_result"
    }
   ],
   "source": [
    "abs(2 ** (1/3) - 1.2599218605659261) / 2 ** (1/3) * 1000000"
   ]
  },
  {
   "cell_type": "code",
   "execution_count": 172,
   "metadata": {},
   "outputs": [
    {
     "data": {
      "text/plain": [
       "array([5.23931447, 5.23976633, 5.24012848, 5.24017381, 5.24020103,\n",
       "       5.2402101 , 5.24021464])"
      ]
     },
     "execution_count": 172,
     "metadata": {},
     "output_type": "execute_result"
    }
   ],
   "source": [
    "def dint(a, b, f, ns):\n",
    "    if not hasattr(ns, \"__iter__\"):\n",
    "        ns = [ns]\n",
    "    # 定积分\n",
    "    ss = []\n",
    "    for n in ns:\n",
    "        dt = (b - a) / n\n",
    "        s = 0\n",
    "        for i in range(n):\n",
    "            s += f(a + i*dt) * dt\n",
    "        ss.append(s)\n",
    "    if len(ss) == 1:\n",
    "        ss = ss[0]\n",
    "    return np.array(ss)\n",
    "\n",
    "a = 0\n",
    "b = 6\n",
    "f = lambda x: 4 + np.sin(2 + x + np.sqrt(x)) * 0.5 + 0.4 * x - 0.2 * np.cos(0.7 * x)\n",
    "n = [1000, 2000, 10000, 20000, 50000, 100000, 200000]\n",
    "\n",
    "dint(a, b, f, n) / (b - a)\n"
   ]
  },
  {
   "cell_type": "code",
   "execution_count": 184,
   "metadata": {},
   "outputs": [
    {
     "data": {
      "text/plain": [
       "(38400, 4224000, 92160000)"
      ]
     },
     "execution_count": 184,
     "metadata": {},
     "output_type": "execute_result"
    }
   ],
   "source": [
    "a = 160\n",
    "b = 60\n",
    "r = 240\n",
    "\n",
    "4*a*b , 2 * a * b * (a + b), a ** 2 * b ** 2\n",
    "# r ** 4 - 4*a*b * r ** 2 - 2 * a * b * (a + b) * r - a ** 2 * b ** 2"
   ]
  },
  {
   "cell_type": "code",
   "execution_count": 191,
   "metadata": {},
   "outputs": [
    {
     "data": {
      "text/plain": [
       "3104000"
      ]
     },
     "execution_count": 191,
     "metadata": {},
     "output_type": "execute_result"
    }
   ],
   "source": [
    "# a^4 - 38400a^2 - 4224000 a - 92160000\n",
    "# 4a^3 - 76800 a - 4224000\n",
    "f = lambda a: a ** 3 - 19200 * a - 1056000\n",
    "g = lambda a: a ** 2 - 6400\n",
    "f(200)"
   ]
  },
  {
   "cell_type": "code",
   "execution_count": 258,
   "metadata": {},
   "outputs": [
    {
     "data": {
      "text/plain": [
       "(0.0, array([], dtype=float64))"
      ]
     },
     "execution_count": 258,
     "metadata": {},
     "output_type": "execute_result"
    }
   ],
   "source": [
    "def horner(a, x):\n",
    "    n = len(a)\n",
    "    b = np.zeros_like(a, dtype=float)\n",
    "    t = 0\n",
    "    for i in range(n):     \n",
    "        t = a[i] + t * x\n",
    "        # print(i, t)   \n",
    "        b[i] = t\n",
    "    # print(b)\n",
    "    return b[-1], b[:-1]\n",
    "\n",
    "horner(np.array([0]), 1)"
   ]
  },
  {
   "cell_type": "code",
   "execution_count": 266,
   "metadata": {},
   "outputs": [
    {
     "name": "stdout",
     "output_type": "stream",
     "text": [
      "not bad root 1...\n",
      "not bad root 2...\n",
      "Fail to converge in search of root no. 3 within 0.0001 after 1000 iterations.\n",
      "From 0.000 to -153.931, poly value: 14935.466\n"
     ]
    },
    {
     "data": {
      "text/plain": [
       "(array([[-29.603158],\n",
       "        [240.      ],\n",
       "        [  0.      ],\n",
       "        [  0.      ]]),\n",
       " array([[ 5.],\n",
       "        [18.],\n",
       "        [ 0.],\n",
       "        [ 0.]]),\n",
       " array([1.00000000e+00, 2.10396842e+02, 1.29715890e+04]))"
      ]
     },
     "execution_count": 266,
     "metadata": {},
     "output_type": "execute_result"
    }
   ],
   "source": [
    "def NewtonHorner(a, x0=0, tol=0.0001, nmax=100, aim=\"all\"):\n",
    "    n = len(a) - 1\n",
    "    roots = np.zeros((n, 1))\n",
    "    iter = np.zeros((n, 1))\n",
    "    rest = []\n",
    "\n",
    "    i = 0\n",
    "    while i < n:\n",
    "        j = 0\n",
    "        xn = x0\n",
    "        diff = tol + 1\n",
    "        while j < nmax and abs(diff) >= tol:\n",
    "            f, b = horner(a, xn)\n",
    "            fp, _ = horner(b, xn)\n",
    "            diff = - f / fp\n",
    "            xn += diff\n",
    "            j += 1\n",
    "\n",
    "        if j == nmax:\n",
    "            print(f'Fail to converge in search of root no. {i+1} within {tol:0.4f} after {nmax} iterations.')\n",
    "            print(f\"From {x0:0.3f} to {xn:0.3f}, poly value: {f:0.3f}\")\n",
    "            rest = a\n",
    "            break\n",
    "\n",
    "        if aim == \"one\":\n",
    "            return xn, j\n",
    "        \n",
    "        v = 0\n",
    "        while abs(v) < tol:\n",
    "            v, _ = horner(a, xn)\n",
    "            if abs(v) < tol:\n",
    "                print(f\"not bad root {i+1}...\")\n",
    "                v, a = horner(a, xn)\n",
    "                roots[i] = xn\n",
    "                iter[i] = j\n",
    "                i += 1\n",
    "        if len(a) == 1:\n",
    "            break\n",
    "\n",
    "    \n",
    "    return roots, iter, rest\n",
    "\n",
    "a = [1, 0, -38400, -4224000, -92160000]\n",
    "# a = [1, -3, 3, -1, 0, 0]\n",
    "roots, iter, rest = NewtonHorner(a, x0=0, nmax=1000)\n",
    "roots, iter, rest"
   ]
  },
  {
   "cell_type": "code",
   "execution_count": 345,
   "metadata": {},
   "outputs": [
    {
     "data": {
      "text/plain": [
       "(0.0009800000000000002,\n",
       " 3.2666666666666675,\n",
       " 10888.888888888892,\n",
       " 666.6666666666667,\n",
       " 10222.222222222226)"
      ]
     },
     "execution_count": 345,
     "metadata": {},
     "output_type": "execute_result"
    }
   ],
   "source": [
    "m = 0.1 / 1000\n",
    "g = 9.8\n",
    "v_0 = 0.2\n",
    "b = 0.0003\n",
    "h = 2000\n",
    "\n",
    "m*g, m*g / b, m * g / b / b, v_0 / b, m * g / b / b - v_0 / b"
   ]
  },
  {
   "cell_type": "code",
   "execution_count": 348,
   "metadata": {},
   "outputs": [
    {
     "data": {
      "text/plain": [
       "2049.3809204566173"
      ]
     },
     "execution_count": 348,
     "metadata": {},
     "output_type": "execute_result"
    }
   ],
   "source": [
    "from scipy.optimize import fsolve\n",
    "\n",
    "f = lambda t: m*g / b * t + (np.exp(-b * t) - 1) * (m * g / b / b - v_0 / b) - h\n",
    "t_inf = fsolve(f, h)[0]\n",
    "t_inf"
   ]
  },
  {
   "cell_type": "code",
   "execution_count": 349,
   "metadata": {},
   "outputs": [
    {
     "data": {
      "text/plain": [
       "(1.6083933020474852, 0.5407413145497332)"
      ]
     },
     "execution_count": 349,
     "metadata": {},
     "output_type": "execute_result"
    }
   ],
   "source": [
    "v = lambda t: m*g / b * (1 - np.exp( -b * t)) + v_0 * np.exp( -b * t)\n",
    "\n",
    "v(t_inf), np.exp( -b * t_inf)"
   ]
  }
 ],
 "metadata": {
  "kernelspec": {
   "display_name": "Hanzi",
   "language": "python",
   "name": "python3"
  },
  "language_info": {
   "codemirror_mode": {
    "name": "ipython",
    "version": 3
   },
   "file_extension": ".py",
   "mimetype": "text/x-python",
   "name": "python",
   "nbconvert_exporter": "python",
   "pygments_lexer": "ipython3",
   "version": "3.9.5"
  }
 },
 "nbformat": 4,
 "nbformat_minor": 2
}
